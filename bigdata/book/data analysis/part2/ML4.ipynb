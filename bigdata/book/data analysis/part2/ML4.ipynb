{
 "cells": [
  {
   "cell_type": "markdown",
   "id": "5ccc42ea",
   "metadata": {},
   "source": [
    "### **🧠 머신러닝 실습 - 이진 분류**\n",
    "#### Q1. 환자의 당뇨병 여부를 예측하시오.\n",
    "- 제공된 데이터 : `diabetes_train.csv`, `diabetese_test.csv`\n",
    "- 예측할 컬럼 : `Outcome` (0: 정상, 1: 당뇨병)\n",
    "\n",
    "\n",
    "학습용 데이터(train)을 이용해 환자의 당뇨병을 예측하는 모델을 만든 후 이를 평가용 데이터(test)에 적용해 얻은 예측값을 다음과 같은 형식의 csv 파일로 생성하시오.\n",
    "\n",
    "\n",
    "제출 파일은 다음 1개의 컬럼을 포함해야 한다.\n",
    "- pred : 예측값 (당뇨병일 확률)\n",
    "- 제출 파일명 : `new.csv`\n",
    "\n",
    "\n",
    "제출한 모델의 성능은 ROC-AUC 평가지표에 따라 채점한다."
   ]
  },
  {
   "cell_type": "code",
   "execution_count": null,
   "id": "10eb69e2",
   "metadata": {},
   "outputs": [
    {
     "name": "stdout",
     "output_type": "stream",
     "text": [
      "(491, 8) (123, 8) (491,) (123,)\n"
     ]
    }
   ],
   "source": [
    "import pandas as pd\n",
    "\n",
    "## 데이터 불러오기\n",
    "train = pd.read_csv('diabetes_train.csv')\n",
    "test = pd.read_csv('diabetes_test.csv')\n",
    "\n",
    "## EDA\n",
    "# print(train.shape, test.shape) # ((614, 9), (154, 8))\n",
    "# train.info() # not object\n",
    "# test.info()\n",
    "# train.describe()\n",
    "# print(train.isnull().sum())\n",
    "# print(test.isnull().sum())\n",
    "# print(train['Outcome'].value_counts()) # 0: 403 / 1: 211\n",
    "\n",
    "## 데이터 전처리\n",
    "y_train = train.pop('Outcome')\n",
    "\n",
    "## 검증 데이터 나누기\n",
    "from sklearn.model_selection import train_test_split\n",
    "\n",
    "X_train, X_val, y_train, y_val = train_test_split(train, y_train, test_size=0.2, random_state=42)\n",
    "# print(X_train.shape, X_val.shape, y_train.shape, y_val.shape) # (491, 8) (123, 8) (491,) (123,)"
   ]
  },
  {
   "cell_type": "code",
   "execution_count": null,
   "id": "a8860c64",
   "metadata": {},
   "outputs": [],
   "source": []
  }
 ],
 "metadata": {
  "kernelspec": {
   "display_name": "base",
   "language": "python",
   "name": "python3"
  },
  "language_info": {
   "codemirror_mode": {
    "name": "ipython",
    "version": 3
   },
   "file_extension": ".py",
   "mimetype": "text/x-python",
   "name": "python",
   "nbconvert_exporter": "python",
   "pygments_lexer": "ipython3",
   "version": "3.12.7"
  }
 },
 "nbformat": 4,
 "nbformat_minor": 5
}
