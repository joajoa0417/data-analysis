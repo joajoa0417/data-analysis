{
 "cells": [
  {
   "cell_type": "markdown",
   "id": "5ccc42ea",
   "metadata": {},
   "source": [
    "### **🧠 머신러닝 실습 - 이진 분류**\n",
    "#### Q1. 환자의 당뇨병 여부를 예측하시오.\n",
    "- 제공된 데이터 : `diabetes_train.csv`, `diabetese_test.csv`\n",
    "- 예측할 컬럼 : `Outcome` (0: 정상, 1: 당뇨병)\n",
    "\n",
    "\n",
    "학습용 데이터(train)을 이용해 환자의 당뇨병을 예측하는 모델을 만든 후 이를 평가용 데이터(test)에 적용해 얻은 예측값을 다음과 같은 형식의 csv 파일로 생성하시오.\n",
    "\n",
    "\n",
    "제출 파일은 다음 1개의 컬럼을 포함해야 한다.\n",
    "- pred : 예측값 (당뇨병일 확률)\n",
    "- 제출 파일명 : `new.csv`\n",
    "\n",
    "\n",
    "제출한 모델의 성능은 ROC-AUC 평가지표에 따라 채점한다."
   ]
  },
  {
   "cell_type": "code",
   "execution_count": 47,
   "id": "10eb69e2",
   "metadata": {},
   "outputs": [
    {
     "name": "stdout",
     "output_type": "stream",
     "text": [
      "roc_auc: 0.8234969663541093\n"
     ]
    },
    {
     "data": {
      "text/plain": [
       "(154, 1)"
      ]
     },
     "execution_count": 47,
     "metadata": {},
     "output_type": "execute_result"
    }
   ],
   "source": [
    "import pandas as pd\n",
    "\n",
    "## 데이터 불러오기\n",
    "train = pd.read_csv('diabetes_train.csv')\n",
    "test = pd.read_csv('diabetes_test.csv')\n",
    "\n",
    "## EDA\n",
    "# print(train.shape, test.shape) # ((614, 9), (154, 8))\n",
    "# train.info() # not object\n",
    "# test.info()\n",
    "# train.describe()\n",
    "# print(train.isnull().sum())\n",
    "# print(test.isnull().sum())\n",
    "# print(train['Outcome'].value_counts()) # 0: 403 / 1: 211\n",
    "\n",
    "## 데이터 전처리\n",
    "y_train = train.pop('Outcome')\n",
    "## - 스케일링\n",
    "from sklearn.preprocessing import MinMaxScaler\n",
    "\n",
    "minmax = MinMaxScaler()\n",
    "train = minmax.fit_transform(train)\n",
    "test = minmax.transform(test)\n",
    "\n",
    "\n",
    "## 검증 데이터 나누기\n",
    "from sklearn.model_selection import train_test_split\n",
    "\n",
    "X_train, X_val, y_train, y_val = train_test_split(train, y_train, test_size=0.2, random_state=42)\n",
    "# print(X_train.shape, X_val.shape, y_train.shape, y_val.shape) # (491, 8) (123, 8) (491,) (123,)\n",
    "\n",
    "## 모델 학습 및 평가\n",
    "from sklearn.ensemble import RandomForestClassifier\n",
    "\n",
    "# 하이퍼파라미터 튜닝\n",
    "rf = RandomForestClassifier(max_depth=5, n_estimators=500, random_state=0)\n",
    "# rf = RandomForestClassifier(random_state=0) # 기본\n",
    "\n",
    "rf.fit(X_train, y_train)\n",
    "pred = rf.predict_proba(X_val)\n",
    "# print(rf.classes_)\n",
    "# print(pred)\n",
    "\n",
    "from sklearn.metrics import roc_auc_score\n",
    "\n",
    "roc_auc = roc_auc_score(y_val, pred[:,1])\n",
    "print('roc_auc:', roc_auc)\n",
    "\n",
    "## 예측 및 결과 파일 생성\n",
    "pred = rf.predict_proba(test)\n",
    "result = pd.DataFrame({'pred':pred[:,1]})\n",
    "result.to_csv('new.csv', index=False)\n",
    "\n",
    "pd.read_csv('new.csv').shape\n"
   ]
  },
  {
   "cell_type": "markdown",
   "id": "7fa0f6a8",
   "metadata": {},
   "source": [
    "스케일링 전 roc_auc : 0.8167402095973524\n",
    "\n",
    "\n",
    "\n",
    "스케일링 후 roc_auc : 0.8234969663541093\n",
    "\n",
    "\n",
    "**[하이퍼파라미터 튜닝]**\n",
    "- `max_depth` : 트리의 최대 깊이, 과적합 방지, 3~7 정도 적당\n",
    "- `n_estimators` : 트리의 개수, 높을수록 안정적 예측 가능(학습 시간 소요), 200~500 정도 적당\n",
    "\n",
    "---"
   ]
  },
  {
   "cell_type": "markdown",
   "id": "bbc35ca7",
   "metadata": {},
   "source": [
    "#### Q2. 새로운 일자리를 찾을지 예측하시오.\n",
    "- 제공된 데이터 : `hr_train.csv`, `hr_test.csv`\n",
    "- 예측할 컬럼 : `target` (0: 새로운 일자리를 찾지 않음, 1: 새로운 일자리를 찾음)\n",
    "\n",
    "\n",
    "학습용 데이터(train)을 이용해 새 일자리를 찾을지 예측하는 모델을 만든 후 이를 평가용 데이터(test)에 적용해 얻은 예측값을 다음과 같은 형식의 csv 파일로 생성하시오.\n",
    "\n",
    "\n",
    "제출 파일은 다음 1개의 컬럼을 포함해야 한다.\n",
    "- pred : 예측값 (이직할 확률)\n",
    "- 제출 파일명 : `new2.csv`\n",
    "\n",
    "\n",
    "제출한 모델의 성능은 ROC-AUC 평가지표에 따라 채점한다."
   ]
  },
  {
   "cell_type": "code",
   "execution_count": null,
   "id": "a8860c64",
   "metadata": {},
   "outputs": [],
   "source": []
  }
 ],
 "metadata": {
  "kernelspec": {
   "display_name": "base",
   "language": "python",
   "name": "python3"
  },
  "language_info": {
   "codemirror_mode": {
    "name": "ipython",
    "version": 3
   },
   "file_extension": ".py",
   "mimetype": "text/x-python",
   "name": "python",
   "nbconvert_exporter": "python",
   "pygments_lexer": "ipython3",
   "version": "3.12.7"
  }
 },
 "nbformat": 4,
 "nbformat_minor": 5
}
