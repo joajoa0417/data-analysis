{
 "cells": [
  {
   "cell_type": "markdown",
   "id": "c8ea05ab",
   "metadata": {},
   "source": [
    "### 🧠 **머신러닝 실습 - 분류**\n",
    "\n",
    "머신러닝(ML) : 데이터를 학습하고 패턴을 발견하여 의사결정을 하는 인공지능 분야\n",
    "\n",
    "#### 📊 **머신러닝 절차**\n",
    "1. 문제 정의 (문제를 읽고 파악)\n",
    "2. 필요한 라이브러리 및 데이터 불러오기 (import)\n",
    "3. EDA(탐색적 데이터 분석)\n",
    "    - 데이터 샘플/크기(자료형, 통계량(수치/범주)), 결측치 확인 등\n",
    "4. 데이터 전처리 \n",
    "    - 결측치 및 이상치 처리, 인코딩, 스케일링 등\n",
    "5. 검증 데이터 나누기\n",
    "6. 모델 학습 및 평가\n",
    "7. 예측 및 결과 파일 생성\n",
    "\n",
    "\n",
    "\n",
    "| 변수명      | 의미                                  |\n",
    "|-------------|----------------------------------------|\n",
    "| x_train     | 학습용 입력 데이터(특징, 피처)             |\n",
    "| y_train     | 학습용 정답 데이터(레이블, 타깃)            |\n",
    "| x_test      | 테스트용 입력 데이터(특징, 피처)            |\n",
    "| y_test      | 테스트용 정답 데이터(레이블, 타깃)          |\n",
    "\n",
    "\n",
    "---\n",
    "#### **1. 문제 정의**\n",
    "\n",
    "**[문제]**\n",
    "- 데이터 : 미국의 인구 조사 데이터\n",
    "- 예측할 값 : 각 사람의 소득\n",
    "    - `income`(소득) 컬럼은 연소득이 50K 이상/미만으로 구분됨.\n",
    "- 평가 기준 : ROC-AUC\n",
    "- 제출 파일 : 예측값만 'result.csv' 파일로 생성함. (컬럼명: pred, 1개)"
   ]
  },
  {
   "cell_type": "markdown",
   "id": "bb78d058",
   "metadata": {},
   "source": [
    "---\n",
    "\n",
    "\n",
    "#### **2. 필요한 라이브러리 및 데이터 불러오기**"
   ]
  },
  {
   "cell_type": "code",
   "execution_count": 208,
   "id": "bf56889a",
   "metadata": {},
   "outputs": [],
   "source": [
    "import pandas as pd"
   ]
  },
  {
   "cell_type": "code",
   "execution_count": 209,
   "id": "0c7a5765",
   "metadata": {},
   "outputs": [],
   "source": [
    "test = pd.read_csv('test.csv')\n",
    "train = pd.read_csv('train.csv')"
   ]
  },
  {
   "cell_type": "markdown",
   "id": "71f10ece",
   "metadata": {},
   "source": [
    "---\n",
    "#### **3. EDA (탐색적 데이터 분석)**"
   ]
  },
  {
   "cell_type": "code",
   "execution_count": 210,
   "id": "70cb676e",
   "metadata": {},
   "outputs": [
    {
     "data": {
      "text/html": [
       "<div>\n",
       "<style scoped>\n",
       "    .dataframe tbody tr th:only-of-type {\n",
       "        vertical-align: middle;\n",
       "    }\n",
       "\n",
       "    .dataframe tbody tr th {\n",
       "        vertical-align: top;\n",
       "    }\n",
       "\n",
       "    .dataframe thead th {\n",
       "        text-align: right;\n",
       "    }\n",
       "</style>\n",
       "<table border=\"1\" class=\"dataframe\">\n",
       "  <thead>\n",
       "    <tr style=\"text-align: right;\">\n",
       "      <th></th>\n",
       "      <th>id</th>\n",
       "      <th>age</th>\n",
       "      <th>workclass</th>\n",
       "      <th>fnlwgt</th>\n",
       "      <th>education</th>\n",
       "      <th>education.num</th>\n",
       "      <th>marital.status</th>\n",
       "      <th>occupation</th>\n",
       "      <th>relationship</th>\n",
       "      <th>race</th>\n",
       "      <th>sex</th>\n",
       "      <th>capital.gain</th>\n",
       "      <th>capital.loss</th>\n",
       "      <th>hours.per.week</th>\n",
       "      <th>native.country</th>\n",
       "      <th>income</th>\n",
       "    </tr>\n",
       "  </thead>\n",
       "  <tbody>\n",
       "    <tr>\n",
       "      <th>0</th>\n",
       "      <td>3331</td>\n",
       "      <td>34.0</td>\n",
       "      <td>State-gov</td>\n",
       "      <td>177331</td>\n",
       "      <td>Some-college</td>\n",
       "      <td>10</td>\n",
       "      <td>Married-civ-spouse</td>\n",
       "      <td>Prof-specialty</td>\n",
       "      <td>Husband</td>\n",
       "      <td>Black</td>\n",
       "      <td>Male</td>\n",
       "      <td>4386</td>\n",
       "      <td>0</td>\n",
       "      <td>40.0</td>\n",
       "      <td>United-States</td>\n",
       "      <td>&gt;50K</td>\n",
       "    </tr>\n",
       "    <tr>\n",
       "      <th>1</th>\n",
       "      <td>19749</td>\n",
       "      <td>58.0</td>\n",
       "      <td>Private</td>\n",
       "      <td>290661</td>\n",
       "      <td>HS-grad</td>\n",
       "      <td>9</td>\n",
       "      <td>Married-civ-spouse</td>\n",
       "      <td>Craft-repair</td>\n",
       "      <td>Husband</td>\n",
       "      <td>White</td>\n",
       "      <td>Male</td>\n",
       "      <td>0</td>\n",
       "      <td>0</td>\n",
       "      <td>40.0</td>\n",
       "      <td>United-States</td>\n",
       "      <td>&lt;=50K</td>\n",
       "    </tr>\n",
       "    <tr>\n",
       "      <th>2</th>\n",
       "      <td>1157</td>\n",
       "      <td>48.0</td>\n",
       "      <td>Private</td>\n",
       "      <td>125933</td>\n",
       "      <td>Some-college</td>\n",
       "      <td>10</td>\n",
       "      <td>Widowed</td>\n",
       "      <td>Exec-managerial</td>\n",
       "      <td>Unmarried</td>\n",
       "      <td>Black</td>\n",
       "      <td>Female</td>\n",
       "      <td>0</td>\n",
       "      <td>1669</td>\n",
       "      <td>38.0</td>\n",
       "      <td>United-States</td>\n",
       "      <td>&lt;=50K</td>\n",
       "    </tr>\n",
       "    <tr>\n",
       "      <th>3</th>\n",
       "      <td>693</td>\n",
       "      <td>58.0</td>\n",
       "      <td>Private</td>\n",
       "      <td>100313</td>\n",
       "      <td>Some-college</td>\n",
       "      <td>10</td>\n",
       "      <td>Married-civ-spouse</td>\n",
       "      <td>Protective-serv</td>\n",
       "      <td>Husband</td>\n",
       "      <td>White</td>\n",
       "      <td>Male</td>\n",
       "      <td>0</td>\n",
       "      <td>1902</td>\n",
       "      <td>40.0</td>\n",
       "      <td>United-States</td>\n",
       "      <td>&gt;50K</td>\n",
       "    </tr>\n",
       "    <tr>\n",
       "      <th>4</th>\n",
       "      <td>12522</td>\n",
       "      <td>41.0</td>\n",
       "      <td>Private</td>\n",
       "      <td>195661</td>\n",
       "      <td>Some-college</td>\n",
       "      <td>10</td>\n",
       "      <td>Married-civ-spouse</td>\n",
       "      <td>Transport-moving</td>\n",
       "      <td>Husband</td>\n",
       "      <td>White</td>\n",
       "      <td>Male</td>\n",
       "      <td>0</td>\n",
       "      <td>0</td>\n",
       "      <td>54.0</td>\n",
       "      <td>United-States</td>\n",
       "      <td>&lt;=50K</td>\n",
       "    </tr>\n",
       "  </tbody>\n",
       "</table>\n",
       "</div>"
      ],
      "text/plain": [
       "      id   age  workclass  fnlwgt     education  education.num  \\\n",
       "0   3331  34.0  State-gov  177331  Some-college             10   \n",
       "1  19749  58.0    Private  290661       HS-grad              9   \n",
       "2   1157  48.0    Private  125933  Some-college             10   \n",
       "3    693  58.0    Private  100313  Some-college             10   \n",
       "4  12522  41.0    Private  195661  Some-college             10   \n",
       "\n",
       "       marital.status        occupation relationship   race     sex  \\\n",
       "0  Married-civ-spouse    Prof-specialty      Husband  Black    Male   \n",
       "1  Married-civ-spouse      Craft-repair      Husband  White    Male   \n",
       "2             Widowed   Exec-managerial    Unmarried  Black  Female   \n",
       "3  Married-civ-spouse   Protective-serv      Husband  White    Male   \n",
       "4  Married-civ-spouse  Transport-moving      Husband  White    Male   \n",
       "\n",
       "   capital.gain  capital.loss  hours.per.week native.country income  \n",
       "0          4386             0            40.0  United-States   >50K  \n",
       "1             0             0            40.0  United-States  <=50K  \n",
       "2             0          1669            38.0  United-States  <=50K  \n",
       "3             0          1902            40.0  United-States   >50K  \n",
       "4             0             0            54.0  United-States  <=50K  "
      ]
     },
     "execution_count": 210,
     "metadata": {},
     "output_type": "execute_result"
    }
   ],
   "source": [
    "train.head()"
   ]
  },
  {
   "cell_type": "code",
   "execution_count": 211,
   "id": "564f3754",
   "metadata": {},
   "outputs": [
    {
     "data": {
      "text/html": [
       "<div>\n",
       "<style scoped>\n",
       "    .dataframe tbody tr th:only-of-type {\n",
       "        vertical-align: middle;\n",
       "    }\n",
       "\n",
       "    .dataframe tbody tr th {\n",
       "        vertical-align: top;\n",
       "    }\n",
       "\n",
       "    .dataframe thead th {\n",
       "        text-align: right;\n",
       "    }\n",
       "</style>\n",
       "<table border=\"1\" class=\"dataframe\">\n",
       "  <thead>\n",
       "    <tr style=\"text-align: right;\">\n",
       "      <th></th>\n",
       "      <th>id</th>\n",
       "      <th>age</th>\n",
       "      <th>workclass</th>\n",
       "      <th>fnlwgt</th>\n",
       "      <th>education</th>\n",
       "      <th>education.num</th>\n",
       "      <th>marital.status</th>\n",
       "      <th>occupation</th>\n",
       "      <th>relationship</th>\n",
       "      <th>race</th>\n",
       "      <th>sex</th>\n",
       "      <th>capital.gain</th>\n",
       "      <th>capital.loss</th>\n",
       "      <th>hours.per.week</th>\n",
       "      <th>native.country</th>\n",
       "    </tr>\n",
       "  </thead>\n",
       "  <tbody>\n",
       "    <tr>\n",
       "      <th>0</th>\n",
       "      <td>11574</td>\n",
       "      <td>39.0</td>\n",
       "      <td>State-gov</td>\n",
       "      <td>114055</td>\n",
       "      <td>Bachelors</td>\n",
       "      <td>13</td>\n",
       "      <td>Never-married</td>\n",
       "      <td>Exec-managerial</td>\n",
       "      <td>Not-in-family</td>\n",
       "      <td>White</td>\n",
       "      <td>Female</td>\n",
       "      <td>0</td>\n",
       "      <td>0</td>\n",
       "      <td>40.0</td>\n",
       "      <td>United-States</td>\n",
       "    </tr>\n",
       "    <tr>\n",
       "      <th>1</th>\n",
       "      <td>15847</td>\n",
       "      <td>38.0</td>\n",
       "      <td>Private</td>\n",
       "      <td>254114</td>\n",
       "      <td>Some-college</td>\n",
       "      <td>10</td>\n",
       "      <td>Married-spouse-absent</td>\n",
       "      <td>Prof-specialty</td>\n",
       "      <td>Own-child</td>\n",
       "      <td>Black</td>\n",
       "      <td>Female</td>\n",
       "      <td>0</td>\n",
       "      <td>0</td>\n",
       "      <td>40.0</td>\n",
       "      <td>United-States</td>\n",
       "    </tr>\n",
       "    <tr>\n",
       "      <th>2</th>\n",
       "      <td>17655</td>\n",
       "      <td>44.0</td>\n",
       "      <td>State-gov</td>\n",
       "      <td>55395</td>\n",
       "      <td>HS-grad</td>\n",
       "      <td>9</td>\n",
       "      <td>Never-married</td>\n",
       "      <td>Craft-repair</td>\n",
       "      <td>Not-in-family</td>\n",
       "      <td>White</td>\n",
       "      <td>Male</td>\n",
       "      <td>0</td>\n",
       "      <td>0</td>\n",
       "      <td>NaN</td>\n",
       "      <td>United-States</td>\n",
       "    </tr>\n",
       "    <tr>\n",
       "      <th>3</th>\n",
       "      <td>19790</td>\n",
       "      <td>47.0</td>\n",
       "      <td>Private</td>\n",
       "      <td>28035</td>\n",
       "      <td>Bachelors</td>\n",
       "      <td>13</td>\n",
       "      <td>Married-civ-spouse</td>\n",
       "      <td>Exec-managerial</td>\n",
       "      <td>Husband</td>\n",
       "      <td>White</td>\n",
       "      <td>Male</td>\n",
       "      <td>0</td>\n",
       "      <td>0</td>\n",
       "      <td>50.0</td>\n",
       "      <td>United-States</td>\n",
       "    </tr>\n",
       "    <tr>\n",
       "      <th>4</th>\n",
       "      <td>31812</td>\n",
       "      <td>62.0</td>\n",
       "      <td>NaN</td>\n",
       "      <td>186611</td>\n",
       "      <td>HS-grad</td>\n",
       "      <td>9</td>\n",
       "      <td>Never-married</td>\n",
       "      <td>NaN</td>\n",
       "      <td>Not-in-family</td>\n",
       "      <td>White</td>\n",
       "      <td>Male</td>\n",
       "      <td>0</td>\n",
       "      <td>0</td>\n",
       "      <td>40.0</td>\n",
       "      <td>United-States</td>\n",
       "    </tr>\n",
       "  </tbody>\n",
       "</table>\n",
       "</div>"
      ],
      "text/plain": [
       "      id   age  workclass  fnlwgt     education  education.num  \\\n",
       "0  11574  39.0  State-gov  114055     Bachelors             13   \n",
       "1  15847  38.0    Private  254114  Some-college             10   \n",
       "2  17655  44.0  State-gov   55395       HS-grad              9   \n",
       "3  19790  47.0    Private   28035     Bachelors             13   \n",
       "4  31812  62.0        NaN  186611       HS-grad              9   \n",
       "\n",
       "          marital.status       occupation   relationship   race     sex  \\\n",
       "0          Never-married  Exec-managerial  Not-in-family  White  Female   \n",
       "1  Married-spouse-absent   Prof-specialty      Own-child  Black  Female   \n",
       "2          Never-married     Craft-repair  Not-in-family  White    Male   \n",
       "3     Married-civ-spouse  Exec-managerial        Husband  White    Male   \n",
       "4          Never-married              NaN  Not-in-family  White    Male   \n",
       "\n",
       "   capital.gain  capital.loss  hours.per.week native.country  \n",
       "0             0             0            40.0  United-States  \n",
       "1             0             0            40.0  United-States  \n",
       "2             0             0             NaN  United-States  \n",
       "3             0             0            50.0  United-States  \n",
       "4             0             0            40.0  United-States  "
      ]
     },
     "execution_count": 211,
     "metadata": {},
     "output_type": "execute_result"
    }
   ],
   "source": [
    "test.head()"
   ]
  },
  {
   "cell_type": "code",
   "execution_count": 212,
   "id": "9db0fbf1",
   "metadata": {},
   "outputs": [
    {
     "name": "stdout",
     "output_type": "stream",
     "text": [
      "(29304, 16)\n",
      "(3257, 15)\n"
     ]
    }
   ],
   "source": [
    "## 데이터의 크기 파악하기 (행, 열 개수)\n",
    "print(train.shape)\n",
    "print(test.shape)\n",
    "\n",
    "# train의 column 개수는 test보다 1개 많을 수밖에 없음.\n",
    "# test 데이터에는 test의 정답 데이터(income) column이 포함되어 있지 않기 때문임."
   ]
  },
  {
   "cell_type": "code",
   "execution_count": 213,
   "id": "44240fd2",
   "metadata": {},
   "outputs": [
    {
     "name": "stdout",
     "output_type": "stream",
     "text": [
      "<class 'pandas.core.frame.DataFrame'>\n",
      "RangeIndex: 29304 entries, 0 to 29303\n",
      "Data columns (total 16 columns):\n",
      " #   Column          Non-Null Count  Dtype  \n",
      "---  ------          --------------  -----  \n",
      " 0   id              29304 non-null  int64  \n",
      " 1   age             29292 non-null  float64\n",
      " 2   workclass       27642 non-null  object \n",
      " 3   fnlwgt          29304 non-null  int64  \n",
      " 4   education       29304 non-null  object \n",
      " 5   education.num   29304 non-null  int64  \n",
      " 6   marital.status  29304 non-null  object \n",
      " 7   occupation      27636 non-null  object \n",
      " 8   relationship    29304 non-null  object \n",
      " 9   race            29304 non-null  object \n",
      " 10  sex             29304 non-null  object \n",
      " 11  capital.gain    29304 non-null  int64  \n",
      " 12  capital.loss    29304 non-null  int64  \n",
      " 13  hours.per.week  29291 non-null  float64\n",
      " 14  native.country  28767 non-null  object \n",
      " 15  income          29304 non-null  object \n",
      "dtypes: float64(2), int64(5), object(9)\n",
      "memory usage: 3.6+ MB\n",
      "None\n"
     ]
    }
   ],
   "source": [
    "## 데이터의 정보 파악하기\n",
    "print(train.info())\n",
    "\n",
    "# object 범주 자료형 -> 수치형으로 변환하는 과정이 필수.\n",
    "# int, float 수치 자료형 -> 스케일링 과정 필요 가능성 높음."
   ]
  },
  {
   "cell_type": "code",
   "execution_count": 214,
   "id": "ec8ddac1",
   "metadata": {},
   "outputs": [
    {
     "name": "stdout",
     "output_type": "stream",
     "text": [
      "<class 'pandas.core.frame.DataFrame'>\n",
      "RangeIndex: 3257 entries, 0 to 3256\n",
      "Data columns (total 15 columns):\n",
      " #   Column          Non-Null Count  Dtype  \n",
      "---  ------          --------------  -----  \n",
      " 0   id              3257 non-null   int64  \n",
      " 1   age             3251 non-null   float64\n",
      " 2   workclass       3083 non-null   object \n",
      " 3   fnlwgt          3257 non-null   int64  \n",
      " 4   education       3257 non-null   object \n",
      " 5   education.num   3257 non-null   int64  \n",
      " 6   marital.status  3257 non-null   object \n",
      " 7   occupation      3082 non-null   object \n",
      " 8   relationship    3257 non-null   object \n",
      " 9   race            3257 non-null   object \n",
      " 10  sex             3257 non-null   object \n",
      " 11  capital.gain    3257 non-null   int64  \n",
      " 12  capital.loss    3257 non-null   int64  \n",
      " 13  hours.per.week  3248 non-null   float64\n",
      " 14  native.country  3211 non-null   object \n",
      "dtypes: float64(2), int64(5), object(8)\n",
      "memory usage: 381.8+ KB\n",
      "None\n"
     ]
    }
   ],
   "source": [
    "print(test.info())"
   ]
  },
  {
   "cell_type": "code",
   "execution_count": 215,
   "id": "3dc55c52",
   "metadata": {},
   "outputs": [
    {
     "data": {
      "text/plain": [
       "id                   0\n",
       "age                 12\n",
       "workclass         1662\n",
       "fnlwgt               0\n",
       "education            0\n",
       "education.num        0\n",
       "marital.status       0\n",
       "occupation        1668\n",
       "relationship         0\n",
       "race                 0\n",
       "sex                  0\n",
       "capital.gain         0\n",
       "capital.loss         0\n",
       "hours.per.week      13\n",
       "native.country     537\n",
       "income               0\n",
       "dtype: int64"
      ]
     },
     "execution_count": 215,
     "metadata": {},
     "output_type": "execute_result"
    }
   ],
   "source": [
    "## 결측치 파악\n",
    "train.isnull().sum()\n",
    "\n",
    "# 결측치가 있을 경우, 대체가 필요함.\n",
    "# 최댓값, 최솟값, 최빈값, 타 데이터 값 등등 상황에 적절한 값으로 대치."
   ]
  },
  {
   "cell_type": "code",
   "execution_count": 216,
   "id": "77cb1851",
   "metadata": {},
   "outputs": [
    {
     "data": {
      "text/plain": [
       "id                  0\n",
       "age                 6\n",
       "workclass         174\n",
       "fnlwgt              0\n",
       "education           0\n",
       "education.num       0\n",
       "marital.status      0\n",
       "occupation        175\n",
       "relationship        0\n",
       "race                0\n",
       "sex                 0\n",
       "capital.gain        0\n",
       "capital.loss        0\n",
       "hours.per.week      9\n",
       "native.country     46\n",
       "dtype: int64"
      ]
     },
     "execution_count": 216,
     "metadata": {},
     "output_type": "execute_result"
    }
   ],
   "source": [
    "test.isnull().sum()"
   ]
  },
  {
   "cell_type": "code",
   "execution_count": 217,
   "id": "ef023745",
   "metadata": {},
   "outputs": [
    {
     "data": {
      "text/html": [
       "<div>\n",
       "<style scoped>\n",
       "    .dataframe tbody tr th:only-of-type {\n",
       "        vertical-align: middle;\n",
       "    }\n",
       "\n",
       "    .dataframe tbody tr th {\n",
       "        vertical-align: top;\n",
       "    }\n",
       "\n",
       "    .dataframe thead th {\n",
       "        text-align: right;\n",
       "    }\n",
       "</style>\n",
       "<table border=\"1\" class=\"dataframe\">\n",
       "  <thead>\n",
       "    <tr style=\"text-align: right;\">\n",
       "      <th></th>\n",
       "      <th>id</th>\n",
       "      <th>age</th>\n",
       "      <th>fnlwgt</th>\n",
       "      <th>education.num</th>\n",
       "      <th>capital.gain</th>\n",
       "      <th>capital.loss</th>\n",
       "      <th>hours.per.week</th>\n",
       "    </tr>\n",
       "  </thead>\n",
       "  <tbody>\n",
       "    <tr>\n",
       "      <th>count</th>\n",
       "      <td>29304.000000</td>\n",
       "      <td>29292.000000</td>\n",
       "      <td>2.930400e+04</td>\n",
       "      <td>29304.000000</td>\n",
       "      <td>29304.000000</td>\n",
       "      <td>29304.000000</td>\n",
       "      <td>29291.000000</td>\n",
       "    </tr>\n",
       "    <tr>\n",
       "      <th>mean</th>\n",
       "      <td>16264.027880</td>\n",
       "      <td>38.553223</td>\n",
       "      <td>1.897488e+05</td>\n",
       "      <td>10.080842</td>\n",
       "      <td>1093.858722</td>\n",
       "      <td>86.744506</td>\n",
       "      <td>40.434229</td>\n",
       "    </tr>\n",
       "    <tr>\n",
       "      <th>std</th>\n",
       "      <td>9384.518323</td>\n",
       "      <td>13.628811</td>\n",
       "      <td>1.055250e+05</td>\n",
       "      <td>2.570824</td>\n",
       "      <td>7477.435640</td>\n",
       "      <td>401.518928</td>\n",
       "      <td>12.324036</td>\n",
       "    </tr>\n",
       "    <tr>\n",
       "      <th>min</th>\n",
       "      <td>0.000000</td>\n",
       "      <td>-38.000000</td>\n",
       "      <td>1.228500e+04</td>\n",
       "      <td>1.000000</td>\n",
       "      <td>0.000000</td>\n",
       "      <td>0.000000</td>\n",
       "      <td>1.000000</td>\n",
       "    </tr>\n",
       "    <tr>\n",
       "      <th>25%</th>\n",
       "      <td>8145.750000</td>\n",
       "      <td>28.000000</td>\n",
       "      <td>1.177890e+05</td>\n",
       "      <td>9.000000</td>\n",
       "      <td>0.000000</td>\n",
       "      <td>0.000000</td>\n",
       "      <td>40.000000</td>\n",
       "    </tr>\n",
       "    <tr>\n",
       "      <th>50%</th>\n",
       "      <td>16253.500000</td>\n",
       "      <td>37.000000</td>\n",
       "      <td>1.783765e+05</td>\n",
       "      <td>10.000000</td>\n",
       "      <td>0.000000</td>\n",
       "      <td>0.000000</td>\n",
       "      <td>40.000000</td>\n",
       "    </tr>\n",
       "    <tr>\n",
       "      <th>75%</th>\n",
       "      <td>24374.250000</td>\n",
       "      <td>48.000000</td>\n",
       "      <td>2.370682e+05</td>\n",
       "      <td>12.000000</td>\n",
       "      <td>0.000000</td>\n",
       "      <td>0.000000</td>\n",
       "      <td>45.000000</td>\n",
       "    </tr>\n",
       "    <tr>\n",
       "      <th>max</th>\n",
       "      <td>32560.000000</td>\n",
       "      <td>90.000000</td>\n",
       "      <td>1.484705e+06</td>\n",
       "      <td>16.000000</td>\n",
       "      <td>99999.000000</td>\n",
       "      <td>4356.000000</td>\n",
       "      <td>99.000000</td>\n",
       "    </tr>\n",
       "  </tbody>\n",
       "</table>\n",
       "</div>"
      ],
      "text/plain": [
       "                 id           age        fnlwgt  education.num  capital.gain  \\\n",
       "count  29304.000000  29292.000000  2.930400e+04   29304.000000  29304.000000   \n",
       "mean   16264.027880     38.553223  1.897488e+05      10.080842   1093.858722   \n",
       "std     9384.518323     13.628811  1.055250e+05       2.570824   7477.435640   \n",
       "min        0.000000    -38.000000  1.228500e+04       1.000000      0.000000   \n",
       "25%     8145.750000     28.000000  1.177890e+05       9.000000      0.000000   \n",
       "50%    16253.500000     37.000000  1.783765e+05      10.000000      0.000000   \n",
       "75%    24374.250000     48.000000  2.370682e+05      12.000000      0.000000   \n",
       "max    32560.000000     90.000000  1.484705e+06      16.000000  99999.000000   \n",
       "\n",
       "       capital.loss  hours.per.week  \n",
       "count  29304.000000    29291.000000  \n",
       "mean      86.744506       40.434229  \n",
       "std      401.518928       12.324036  \n",
       "min        0.000000        1.000000  \n",
       "25%        0.000000       40.000000  \n",
       "50%        0.000000       40.000000  \n",
       "75%        0.000000       45.000000  \n",
       "max     4356.000000       99.000000  "
      ]
     },
     "execution_count": 217,
     "metadata": {},
     "output_type": "execute_result"
    }
   ],
   "source": [
    "## 기초 통계량 확인\n",
    "train.describe()"
   ]
  },
  {
   "cell_type": "markdown",
   "id": "547deeb2",
   "metadata": {},
   "source": [
    "---\n",
    "#### **4. 데이터 전처리**"
   ]
  },
  {
   "cell_type": "code",
   "execution_count": 218,
   "id": "8a267ef5",
   "metadata": {},
   "outputs": [],
   "source": [
    "## 결측치 삭제\n",
    "\n",
    "# train = train.dropna()\n",
    "# print(train.shape)"
   ]
  },
  {
   "cell_type": "markdown",
   "id": "c97f8807",
   "metadata": {},
   "source": [
    "결측치 대체 (범주형)\n",
    "- 범주형 데이터는 주로 최빈값으로 대체.\n",
    "- train에서 결측치 대체한 컬럼은 test에서도 동일하게 적용해야 함."
   ]
  },
  {
   "cell_type": "code",
   "execution_count": 219,
   "id": "c582d8ba",
   "metadata": {},
   "outputs": [],
   "source": [
    "## 결측치 대체\n",
    "train['workclass'] = train['workclass'].fillna(train['workclass'].mode()[0])\n",
    "train['native.country'] = train['native.country'].fillna(train['native.country'].mode()[0])\n",
    "train['occupation'] = train['occupation'].fillna(train['occupation'].mode()[0])\n",
    "\n",
    "test['workclass'] = test['workclass'].fillna(test['workclass'].mode()[0])\n",
    "test['native.country'] = test['native.country'].fillna(test['native.country'].mode()[0])\n",
    "test['occupation'] = test['occupation'].fillna(test['occupation'].mode()[0])"
   ]
  },
  {
   "cell_type": "code",
   "execution_count": 220,
   "id": "dca7e112",
   "metadata": {},
   "outputs": [
    {
     "data": {
      "text/plain": [
       "id                 0\n",
       "age               12\n",
       "workclass          0\n",
       "fnlwgt             0\n",
       "education          0\n",
       "education.num      0\n",
       "marital.status     0\n",
       "occupation         0\n",
       "relationship       0\n",
       "race               0\n",
       "sex                0\n",
       "capital.gain       0\n",
       "capital.loss       0\n",
       "hours.per.week    13\n",
       "native.country     0\n",
       "income             0\n",
       "dtype: int64"
      ]
     },
     "execution_count": 220,
     "metadata": {},
     "output_type": "execute_result"
    }
   ],
   "source": [
    "train.isnull().sum()"
   ]
  },
  {
   "cell_type": "markdown",
   "id": "418390d0",
   "metadata": {},
   "source": [
    "결측치 대체 (수치형)\n",
    "- 수치형 데이터는 적절한 값으로 대체."
   ]
  },
  {
   "cell_type": "code",
   "execution_count": 221,
   "id": "909bdd55",
   "metadata": {},
   "outputs": [],
   "source": [
    "train['age'] = train['age'].fillna(train['age'].mean())\n",
    "train['hours.per.week'] = train['hours.per.week'].fillna(train['hours.per.week'].median())\n",
    "\n",
    "test['age'] = test['age'].fillna(test['age'].mean())\n",
    "test['hours.per.week'] = test['hours.per.week'].fillna(test['hours.per.week'].median())"
   ]
  },
  {
   "cell_type": "code",
   "execution_count": 222,
   "id": "e8caf966",
   "metadata": {},
   "outputs": [
    {
     "data": {
      "text/plain": [
       "id                0\n",
       "age               0\n",
       "workclass         0\n",
       "fnlwgt            0\n",
       "education         0\n",
       "education.num     0\n",
       "marital.status    0\n",
       "occupation        0\n",
       "relationship      0\n",
       "race              0\n",
       "sex               0\n",
       "capital.gain      0\n",
       "capital.loss      0\n",
       "hours.per.week    0\n",
       "native.country    0\n",
       "income            0\n",
       "dtype: int64"
      ]
     },
     "execution_count": 222,
     "metadata": {},
     "output_type": "execute_result"
    }
   ],
   "source": [
    "train.isnull().sum() # 결측치 다 채워졌는지 확인"
   ]
  },
  {
   "cell_type": "code",
   "execution_count": 223,
   "id": "1f515841",
   "metadata": {},
   "outputs": [
    {
     "data": {
      "text/plain": [
       "id                0\n",
       "age               0\n",
       "workclass         0\n",
       "fnlwgt            0\n",
       "education         0\n",
       "education.num     0\n",
       "marital.status    0\n",
       "occupation        0\n",
       "relationship      0\n",
       "race              0\n",
       "sex               0\n",
       "capital.gain      0\n",
       "capital.loss      0\n",
       "hours.per.week    0\n",
       "native.country    0\n",
       "dtype: int64"
      ]
     },
     "execution_count": 223,
     "metadata": {},
     "output_type": "execute_result"
    }
   ],
   "source": [
    "test.isnull().sum()"
   ]
  },
  {
   "cell_type": "markdown",
   "id": "36bca5cf",
   "metadata": {},
   "source": [
    "이상치 처리\n",
    "- `describe()`로 확인\n",
    "- age가 음수인 값이 있으므로 제거해야 함. (나이는 음수 값이 나올 수 없음.)\n",
    "- test에는 age가 음수인 값이 없음.\n",
    "- 항상 코드 실행 후 `print(df.shape)`를 통해 확인하기."
   ]
  },
  {
   "cell_type": "code",
   "execution_count": 224,
   "id": "388b89b4",
   "metadata": {},
   "outputs": [
    {
     "data": {
      "text/html": [
       "<div>\n",
       "<style scoped>\n",
       "    .dataframe tbody tr th:only-of-type {\n",
       "        vertical-align: middle;\n",
       "    }\n",
       "\n",
       "    .dataframe tbody tr th {\n",
       "        vertical-align: top;\n",
       "    }\n",
       "\n",
       "    .dataframe thead th {\n",
       "        text-align: right;\n",
       "    }\n",
       "</style>\n",
       "<table border=\"1\" class=\"dataframe\">\n",
       "  <thead>\n",
       "    <tr style=\"text-align: right;\">\n",
       "      <th></th>\n",
       "      <th>id</th>\n",
       "      <th>age</th>\n",
       "      <th>fnlwgt</th>\n",
       "      <th>education.num</th>\n",
       "      <th>capital.gain</th>\n",
       "      <th>capital.loss</th>\n",
       "      <th>hours.per.week</th>\n",
       "    </tr>\n",
       "  </thead>\n",
       "  <tbody>\n",
       "    <tr>\n",
       "      <th>count</th>\n",
       "      <td>29304.000000</td>\n",
       "      <td>29304.000000</td>\n",
       "      <td>2.930400e+04</td>\n",
       "      <td>29304.000000</td>\n",
       "      <td>29304.000000</td>\n",
       "      <td>29304.000000</td>\n",
       "      <td>29304.000000</td>\n",
       "    </tr>\n",
       "    <tr>\n",
       "      <th>mean</th>\n",
       "      <td>16264.027880</td>\n",
       "      <td>38.553223</td>\n",
       "      <td>1.897488e+05</td>\n",
       "      <td>10.080842</td>\n",
       "      <td>1093.858722</td>\n",
       "      <td>86.744506</td>\n",
       "      <td>40.434036</td>\n",
       "    </tr>\n",
       "    <tr>\n",
       "      <th>std</th>\n",
       "      <td>9384.518323</td>\n",
       "      <td>13.626020</td>\n",
       "      <td>1.055250e+05</td>\n",
       "      <td>2.570824</td>\n",
       "      <td>7477.435640</td>\n",
       "      <td>401.518928</td>\n",
       "      <td>12.321306</td>\n",
       "    </tr>\n",
       "    <tr>\n",
       "      <th>min</th>\n",
       "      <td>0.000000</td>\n",
       "      <td>-38.000000</td>\n",
       "      <td>1.228500e+04</td>\n",
       "      <td>1.000000</td>\n",
       "      <td>0.000000</td>\n",
       "      <td>0.000000</td>\n",
       "      <td>1.000000</td>\n",
       "    </tr>\n",
       "    <tr>\n",
       "      <th>25%</th>\n",
       "      <td>8145.750000</td>\n",
       "      <td>28.000000</td>\n",
       "      <td>1.177890e+05</td>\n",
       "      <td>9.000000</td>\n",
       "      <td>0.000000</td>\n",
       "      <td>0.000000</td>\n",
       "      <td>40.000000</td>\n",
       "    </tr>\n",
       "    <tr>\n",
       "      <th>50%</th>\n",
       "      <td>16253.500000</td>\n",
       "      <td>37.000000</td>\n",
       "      <td>1.783765e+05</td>\n",
       "      <td>10.000000</td>\n",
       "      <td>0.000000</td>\n",
       "      <td>0.000000</td>\n",
       "      <td>40.000000</td>\n",
       "    </tr>\n",
       "    <tr>\n",
       "      <th>75%</th>\n",
       "      <td>24374.250000</td>\n",
       "      <td>48.000000</td>\n",
       "      <td>2.370682e+05</td>\n",
       "      <td>12.000000</td>\n",
       "      <td>0.000000</td>\n",
       "      <td>0.000000</td>\n",
       "      <td>45.000000</td>\n",
       "    </tr>\n",
       "    <tr>\n",
       "      <th>max</th>\n",
       "      <td>32560.000000</td>\n",
       "      <td>90.000000</td>\n",
       "      <td>1.484705e+06</td>\n",
       "      <td>16.000000</td>\n",
       "      <td>99999.000000</td>\n",
       "      <td>4356.000000</td>\n",
       "      <td>99.000000</td>\n",
       "    </tr>\n",
       "  </tbody>\n",
       "</table>\n",
       "</div>"
      ],
      "text/plain": [
       "                 id           age        fnlwgt  education.num  capital.gain  \\\n",
       "count  29304.000000  29304.000000  2.930400e+04   29304.000000  29304.000000   \n",
       "mean   16264.027880     38.553223  1.897488e+05      10.080842   1093.858722   \n",
       "std     9384.518323     13.626020  1.055250e+05       2.570824   7477.435640   \n",
       "min        0.000000    -38.000000  1.228500e+04       1.000000      0.000000   \n",
       "25%     8145.750000     28.000000  1.177890e+05       9.000000      0.000000   \n",
       "50%    16253.500000     37.000000  1.783765e+05      10.000000      0.000000   \n",
       "75%    24374.250000     48.000000  2.370682e+05      12.000000      0.000000   \n",
       "max    32560.000000     90.000000  1.484705e+06      16.000000  99999.000000   \n",
       "\n",
       "       capital.loss  hours.per.week  \n",
       "count  29304.000000    29304.000000  \n",
       "mean      86.744506       40.434036  \n",
       "std      401.518928       12.321306  \n",
       "min        0.000000        1.000000  \n",
       "25%        0.000000       40.000000  \n",
       "50%        0.000000       40.000000  \n",
       "75%        0.000000       45.000000  \n",
       "max     4356.000000       99.000000  "
      ]
     },
     "execution_count": 224,
     "metadata": {},
     "output_type": "execute_result"
    }
   ],
   "source": [
    "train.describe()"
   ]
  },
  {
   "cell_type": "code",
   "execution_count": 225,
   "id": "6bd38da0",
   "metadata": {},
   "outputs": [
    {
     "data": {
      "text/html": [
       "<div>\n",
       "<style scoped>\n",
       "    .dataframe tbody tr th:only-of-type {\n",
       "        vertical-align: middle;\n",
       "    }\n",
       "\n",
       "    .dataframe tbody tr th {\n",
       "        vertical-align: top;\n",
       "    }\n",
       "\n",
       "    .dataframe thead th {\n",
       "        text-align: right;\n",
       "    }\n",
       "</style>\n",
       "<table border=\"1\" class=\"dataframe\">\n",
       "  <thead>\n",
       "    <tr style=\"text-align: right;\">\n",
       "      <th></th>\n",
       "      <th>id</th>\n",
       "      <th>age</th>\n",
       "      <th>fnlwgt</th>\n",
       "      <th>education.num</th>\n",
       "      <th>capital.gain</th>\n",
       "      <th>capital.loss</th>\n",
       "      <th>hours.per.week</th>\n",
       "    </tr>\n",
       "  </thead>\n",
       "  <tbody>\n",
       "    <tr>\n",
       "      <th>count</th>\n",
       "      <td>3257.000000</td>\n",
       "      <td>3257.000000</td>\n",
       "      <td>3.257000e+03</td>\n",
       "      <td>3257.000000</td>\n",
       "      <td>3257.000000</td>\n",
       "      <td>3257.000000</td>\n",
       "      <td>3257.000000</td>\n",
       "    </tr>\n",
       "    <tr>\n",
       "      <th>mean</th>\n",
       "      <td>16423.704943</td>\n",
       "      <td>38.802830</td>\n",
       "      <td>1.900447e+05</td>\n",
       "      <td>10.079214</td>\n",
       "      <td>931.804728</td>\n",
       "      <td>92.336199</td>\n",
       "      <td>40.466994</td>\n",
       "    </tr>\n",
       "    <tr>\n",
       "      <th>std</th>\n",
       "      <td>9535.416746</td>\n",
       "      <td>13.904759</td>\n",
       "      <td>1.057902e+05</td>\n",
       "      <td>2.590118</td>\n",
       "      <td>6496.962999</td>\n",
       "      <td>415.732721</td>\n",
       "      <td>12.581146</td>\n",
       "    </tr>\n",
       "    <tr>\n",
       "      <th>min</th>\n",
       "      <td>3.000000</td>\n",
       "      <td>17.000000</td>\n",
       "      <td>1.882700e+04</td>\n",
       "      <td>1.000000</td>\n",
       "      <td>0.000000</td>\n",
       "      <td>0.000000</td>\n",
       "      <td>1.000000</td>\n",
       "    </tr>\n",
       "    <tr>\n",
       "      <th>25%</th>\n",
       "      <td>8078.000000</td>\n",
       "      <td>28.000000</td>\n",
       "      <td>1.186520e+05</td>\n",
       "      <td>9.000000</td>\n",
       "      <td>0.000000</td>\n",
       "      <td>0.000000</td>\n",
       "      <td>40.000000</td>\n",
       "    </tr>\n",
       "    <tr>\n",
       "      <th>50%</th>\n",
       "      <td>16626.000000</td>\n",
       "      <td>37.000000</td>\n",
       "      <td>1.783190e+05</td>\n",
       "      <td>10.000000</td>\n",
       "      <td>0.000000</td>\n",
       "      <td>0.000000</td>\n",
       "      <td>40.000000</td>\n",
       "    </tr>\n",
       "    <tr>\n",
       "      <th>75%</th>\n",
       "      <td>24743.000000</td>\n",
       "      <td>48.000000</td>\n",
       "      <td>2.364360e+05</td>\n",
       "      <td>12.000000</td>\n",
       "      <td>0.000000</td>\n",
       "      <td>0.000000</td>\n",
       "      <td>45.000000</td>\n",
       "    </tr>\n",
       "    <tr>\n",
       "      <th>max</th>\n",
       "      <td>32559.000000</td>\n",
       "      <td>90.000000</td>\n",
       "      <td>1.033222e+06</td>\n",
       "      <td>16.000000</td>\n",
       "      <td>99999.000000</td>\n",
       "      <td>3900.000000</td>\n",
       "      <td>99.000000</td>\n",
       "    </tr>\n",
       "  </tbody>\n",
       "</table>\n",
       "</div>"
      ],
      "text/plain": [
       "                 id          age        fnlwgt  education.num  capital.gain  \\\n",
       "count   3257.000000  3257.000000  3.257000e+03    3257.000000   3257.000000   \n",
       "mean   16423.704943    38.802830  1.900447e+05      10.079214    931.804728   \n",
       "std     9535.416746    13.904759  1.057902e+05       2.590118   6496.962999   \n",
       "min        3.000000    17.000000  1.882700e+04       1.000000      0.000000   \n",
       "25%     8078.000000    28.000000  1.186520e+05       9.000000      0.000000   \n",
       "50%    16626.000000    37.000000  1.783190e+05      10.000000      0.000000   \n",
       "75%    24743.000000    48.000000  2.364360e+05      12.000000      0.000000   \n",
       "max    32559.000000    90.000000  1.033222e+06      16.000000  99999.000000   \n",
       "\n",
       "       capital.loss  hours.per.week  \n",
       "count   3257.000000     3257.000000  \n",
       "mean      92.336199       40.466994  \n",
       "std      415.732721       12.581146  \n",
       "min        0.000000        1.000000  \n",
       "25%        0.000000       40.000000  \n",
       "50%        0.000000       40.000000  \n",
       "75%        0.000000       45.000000  \n",
       "max     3900.000000       99.000000  "
      ]
     },
     "execution_count": 225,
     "metadata": {},
     "output_type": "execute_result"
    }
   ],
   "source": [
    "test.describe()"
   ]
  },
  {
   "cell_type": "code",
   "execution_count": 226,
   "id": "0e62ddc7",
   "metadata": {},
   "outputs": [
    {
     "name": "stdout",
     "output_type": "stream",
     "text": [
      "(29304, 16)\n",
      "(29301, 16)\n"
     ]
    }
   ],
   "source": [
    "print(train.shape)\n",
    "train = train[train['age'] > 0]\n",
    "print(train.shape)"
   ]
  },
  {
   "cell_type": "markdown",
   "id": "8b70e82a",
   "metadata": {},
   "source": [
    "#### **인코딩**\n",
    "\n",
    "\n",
    "\n",
    "**원-핫 인코딩**\n",
    "- 범주형 데이터를 수치형 데이터로 변환하는 과정.\n",
    "- 원-핫 인코딩 후 train과 test의 컬럼 개수가 불일치하므로 데이터 합치는 작업 필요.\n"
   ]
  },
  {
   "cell_type": "code",
   "execution_count": 227,
   "id": "513e5110",
   "metadata": {},
   "outputs": [],
   "source": [
    "y_train = train.pop('income')\n",
    "# pop()은 income 컬럼을 y_train에 대입하고, income 컬럼을 삭제하는 작업 동시 수행"
   ]
  },
  {
   "cell_type": "code",
   "execution_count": 228,
   "id": "42e1e44b",
   "metadata": {},
   "outputs": [
    {
     "name": "stdout",
     "output_type": "stream",
     "text": [
      "(29301, 15) (29301, 106) (3257, 15) (3257, 102)\n"
     ]
    }
   ],
   "source": [
    "# 원-핫 인코딩\n",
    "train_oh = pd.get_dummies(train)\n",
    "test_oh = pd.get_dummies(test)\n",
    "print(train.shape, train_oh.shape, test.shape, test_oh.shape)"
   ]
  },
  {
   "cell_type": "markdown",
   "id": "7704c030",
   "metadata": {},
   "source": [
    "train_oh와 test_oh의 컬럼 개수가 불일치하므로 데이터 병합을 통해 개수 일치시키는 작업"
   ]
  },
  {
   "cell_type": "code",
   "execution_count": 229,
   "id": "94640d83",
   "metadata": {},
   "outputs": [
    {
     "name": "stdout",
     "output_type": "stream",
     "text": [
      "(29301, 15) (3257, 15)\n",
      "(29301, 106) (3257, 106)\n"
     ]
    }
   ],
   "source": [
    "print(train.shape, test.shape)\n",
    "data = pd.concat([train, test], axis=0) # axis=0 : train과 test 위아래로 병합\n",
    "data_oh = pd.get_dummies(data)\n",
    "\n",
    "train_oh = data_oh.iloc[:len(train)].copy() # train 부분\n",
    "test_oh = data_oh.iloc[len(train):].copy() # test 부분\n",
    "print(train_oh.shape, test_oh.shape)"
   ]
  },
  {
   "cell_type": "markdown",
   "id": "2f1f9780",
   "metadata": {},
   "source": [
    "**레이블 인코딩**\n",
    "- 범주형 데이터를 수치형 데이터로 변환하는 과정.\n",
    "- 각 고유 값을 정수로 매핑함."
   ]
  },
  {
   "cell_type": "code",
   "execution_count": 230,
   "id": "c68456c7",
   "metadata": {},
   "outputs": [
    {
     "data": {
      "text/html": [
       "<div>\n",
       "<style scoped>\n",
       "    .dataframe tbody tr th:only-of-type {\n",
       "        vertical-align: middle;\n",
       "    }\n",
       "\n",
       "    .dataframe tbody tr th {\n",
       "        vertical-align: top;\n",
       "    }\n",
       "\n",
       "    .dataframe thead th {\n",
       "        text-align: right;\n",
       "    }\n",
       "</style>\n",
       "<table border=\"1\" class=\"dataframe\">\n",
       "  <thead>\n",
       "    <tr style=\"text-align: right;\">\n",
       "      <th></th>\n",
       "      <th>id</th>\n",
       "      <th>age</th>\n",
       "      <th>workclass</th>\n",
       "      <th>fnlwgt</th>\n",
       "      <th>education</th>\n",
       "      <th>education.num</th>\n",
       "      <th>marital.status</th>\n",
       "      <th>occupation</th>\n",
       "      <th>relationship</th>\n",
       "      <th>race</th>\n",
       "      <th>sex</th>\n",
       "      <th>capital.gain</th>\n",
       "      <th>capital.loss</th>\n",
       "      <th>hours.per.week</th>\n",
       "      <th>native.country</th>\n",
       "    </tr>\n",
       "  </thead>\n",
       "  <tbody>\n",
       "    <tr>\n",
       "      <th>0</th>\n",
       "      <td>3331</td>\n",
       "      <td>34.0</td>\n",
       "      <td>6</td>\n",
       "      <td>177331</td>\n",
       "      <td>15</td>\n",
       "      <td>10</td>\n",
       "      <td>2</td>\n",
       "      <td>9</td>\n",
       "      <td>0</td>\n",
       "      <td>2</td>\n",
       "      <td>1</td>\n",
       "      <td>4386</td>\n",
       "      <td>0</td>\n",
       "      <td>40.0</td>\n",
       "      <td>38</td>\n",
       "    </tr>\n",
       "    <tr>\n",
       "      <th>1</th>\n",
       "      <td>19749</td>\n",
       "      <td>58.0</td>\n",
       "      <td>3</td>\n",
       "      <td>290661</td>\n",
       "      <td>11</td>\n",
       "      <td>9</td>\n",
       "      <td>2</td>\n",
       "      <td>2</td>\n",
       "      <td>0</td>\n",
       "      <td>4</td>\n",
       "      <td>1</td>\n",
       "      <td>0</td>\n",
       "      <td>0</td>\n",
       "      <td>40.0</td>\n",
       "      <td>38</td>\n",
       "    </tr>\n",
       "    <tr>\n",
       "      <th>2</th>\n",
       "      <td>1157</td>\n",
       "      <td>48.0</td>\n",
       "      <td>3</td>\n",
       "      <td>125933</td>\n",
       "      <td>15</td>\n",
       "      <td>10</td>\n",
       "      <td>6</td>\n",
       "      <td>3</td>\n",
       "      <td>4</td>\n",
       "      <td>2</td>\n",
       "      <td>0</td>\n",
       "      <td>0</td>\n",
       "      <td>1669</td>\n",
       "      <td>38.0</td>\n",
       "      <td>38</td>\n",
       "    </tr>\n",
       "    <tr>\n",
       "      <th>3</th>\n",
       "      <td>693</td>\n",
       "      <td>58.0</td>\n",
       "      <td>3</td>\n",
       "      <td>100313</td>\n",
       "      <td>15</td>\n",
       "      <td>10</td>\n",
       "      <td>2</td>\n",
       "      <td>10</td>\n",
       "      <td>0</td>\n",
       "      <td>4</td>\n",
       "      <td>1</td>\n",
       "      <td>0</td>\n",
       "      <td>1902</td>\n",
       "      <td>40.0</td>\n",
       "      <td>38</td>\n",
       "    </tr>\n",
       "    <tr>\n",
       "      <th>4</th>\n",
       "      <td>12522</td>\n",
       "      <td>41.0</td>\n",
       "      <td>3</td>\n",
       "      <td>195661</td>\n",
       "      <td>15</td>\n",
       "      <td>10</td>\n",
       "      <td>2</td>\n",
       "      <td>13</td>\n",
       "      <td>0</td>\n",
       "      <td>4</td>\n",
       "      <td>1</td>\n",
       "      <td>0</td>\n",
       "      <td>0</td>\n",
       "      <td>54.0</td>\n",
       "      <td>38</td>\n",
       "    </tr>\n",
       "  </tbody>\n",
       "</table>\n",
       "</div>"
      ],
      "text/plain": [
       "      id   age  workclass  fnlwgt  education  education.num  marital.status  \\\n",
       "0   3331  34.0          6  177331         15             10               2   \n",
       "1  19749  58.0          3  290661         11              9               2   \n",
       "2   1157  48.0          3  125933         15             10               6   \n",
       "3    693  58.0          3  100313         15             10               2   \n",
       "4  12522  41.0          3  195661         15             10               2   \n",
       "\n",
       "   occupation  relationship  race  sex  capital.gain  capital.loss  \\\n",
       "0           9             0     2    1          4386             0   \n",
       "1           2             0     4    1             0             0   \n",
       "2           3             4     2    0             0          1669   \n",
       "3          10             0     4    1             0          1902   \n",
       "4          13             0     4    1             0             0   \n",
       "\n",
       "   hours.per.week  native.country  \n",
       "0            40.0              38  \n",
       "1            40.0              38  \n",
       "2            38.0              38  \n",
       "3            40.0              38  \n",
       "4            54.0              38  "
      ]
     },
     "execution_count": 230,
     "metadata": {},
     "output_type": "execute_result"
    }
   ],
   "source": [
    "from sklearn.preprocessing import LabelEncoder\n",
    "\n",
    "cols = train.select_dtypes(include='object').columns # 범주형 데이터만 선택\n",
    "\n",
    "for col in cols :\n",
    "    le = LabelEncoder()\n",
    "    train[col] = le.fit_transform(train[col])\n",
    "    test[col] = le.transform(test[col]) # 학습은 train에서만 진행하므로, fit은 제거.\n",
    "\n",
    "train.head()"
   ]
  },
  {
   "cell_type": "markdown",
   "id": "29bdcfee",
   "metadata": {},
   "source": [
    "#### **스케일링**\n",
    "- 수치형 데이터의 범위를 조정하는 작업.\n",
    "\n",
    "\n",
    "\n",
    "**Min-Max Scaling**\n",
    "- 데이터를 0과 1 사이로 변환"
   ]
  },
  {
   "cell_type": "code",
   "execution_count": 231,
   "id": "d46d467b",
   "metadata": {},
   "outputs": [],
   "source": [
    "def get_df() :\n",
    "    train_copy = train.copy()\n",
    "    test_copy = test.copy()\n",
    "    return train_copy, test_copy"
   ]
  },
  {
   "cell_type": "code",
   "execution_count": 232,
   "id": "12073f32",
   "metadata": {},
   "outputs": [
    {
     "data": {
      "text/html": [
       "<div>\n",
       "<style scoped>\n",
       "    .dataframe tbody tr th:only-of-type {\n",
       "        vertical-align: middle;\n",
       "    }\n",
       "\n",
       "    .dataframe tbody tr th {\n",
       "        vertical-align: top;\n",
       "    }\n",
       "\n",
       "    .dataframe thead th {\n",
       "        text-align: right;\n",
       "    }\n",
       "</style>\n",
       "<table border=\"1\" class=\"dataframe\">\n",
       "  <thead>\n",
       "    <tr style=\"text-align: right;\">\n",
       "      <th></th>\n",
       "      <th>age</th>\n",
       "      <th>fnlwgt</th>\n",
       "      <th>education.num</th>\n",
       "      <th>capital.gain</th>\n",
       "      <th>capital.loss</th>\n",
       "      <th>hours.per.week</th>\n",
       "    </tr>\n",
       "  </thead>\n",
       "  <tbody>\n",
       "    <tr>\n",
       "      <th>0</th>\n",
       "      <td>0.232877</td>\n",
       "      <td>0.112092</td>\n",
       "      <td>0.600000</td>\n",
       "      <td>0.04386</td>\n",
       "      <td>0.000000</td>\n",
       "      <td>0.397959</td>\n",
       "    </tr>\n",
       "    <tr>\n",
       "      <th>1</th>\n",
       "      <td>0.561644</td>\n",
       "      <td>0.189060</td>\n",
       "      <td>0.533333</td>\n",
       "      <td>0.00000</td>\n",
       "      <td>0.000000</td>\n",
       "      <td>0.397959</td>\n",
       "    </tr>\n",
       "    <tr>\n",
       "      <th>2</th>\n",
       "      <td>0.424658</td>\n",
       "      <td>0.077184</td>\n",
       "      <td>0.600000</td>\n",
       "      <td>0.00000</td>\n",
       "      <td>0.383150</td>\n",
       "      <td>0.377551</td>\n",
       "    </tr>\n",
       "    <tr>\n",
       "      <th>3</th>\n",
       "      <td>0.561644</td>\n",
       "      <td>0.059785</td>\n",
       "      <td>0.600000</td>\n",
       "      <td>0.00000</td>\n",
       "      <td>0.436639</td>\n",
       "      <td>0.397959</td>\n",
       "    </tr>\n",
       "    <tr>\n",
       "      <th>4</th>\n",
       "      <td>0.328767</td>\n",
       "      <td>0.124541</td>\n",
       "      <td>0.600000</td>\n",
       "      <td>0.00000</td>\n",
       "      <td>0.000000</td>\n",
       "      <td>0.540816</td>\n",
       "    </tr>\n",
       "  </tbody>\n",
       "</table>\n",
       "</div>"
      ],
      "text/plain": [
       "        age    fnlwgt  education.num  capital.gain  capital.loss  \\\n",
       "0  0.232877  0.112092       0.600000       0.04386      0.000000   \n",
       "1  0.561644  0.189060       0.533333       0.00000      0.000000   \n",
       "2  0.424658  0.077184       0.600000       0.00000      0.383150   \n",
       "3  0.561644  0.059785       0.600000       0.00000      0.436639   \n",
       "4  0.328767  0.124541       0.600000       0.00000      0.000000   \n",
       "\n",
       "   hours.per.week  \n",
       "0        0.397959  \n",
       "1        0.397959  \n",
       "2        0.377551  \n",
       "3        0.397959  \n",
       "4        0.540816  "
      ]
     },
     "execution_count": 232,
     "metadata": {},
     "output_type": "execute_result"
    }
   ],
   "source": [
    "from sklearn.preprocessing import MinMaxScaler\n",
    "\n",
    "train_copy, test_copy = get_df()\n",
    "cols = ['age','fnlwgt','education.num','capital.gain','capital.loss','hours.per.week'] # 수치형 데이터\n",
    "\n",
    "scaler = MinMaxScaler()\n",
    "train_copy[cols] = scaler.fit_transform(train_copy[cols])\n",
    "test_copy[cols] = scaler.transform(test_copy[cols])\n",
    "\n",
    "train_copy[cols].head()"
   ]
  },
  {
   "cell_type": "code",
   "execution_count": 233,
   "id": "97dc8682",
   "metadata": {},
   "outputs": [
    {
     "name": "stdout",
     "output_type": "stream",
     "text": [
      "<class 'pandas.core.frame.DataFrame'>\n",
      "Index: 29301 entries, 0 to 29303\n",
      "Data columns (total 15 columns):\n",
      " #   Column          Non-Null Count  Dtype  \n",
      "---  ------          --------------  -----  \n",
      " 0   id              29301 non-null  int64  \n",
      " 1   age             29301 non-null  float64\n",
      " 2   workclass       29301 non-null  int32  \n",
      " 3   fnlwgt          29301 non-null  float64\n",
      " 4   education       29301 non-null  int32  \n",
      " 5   education.num   29301 non-null  float64\n",
      " 6   marital.status  29301 non-null  int32  \n",
      " 7   occupation      29301 non-null  int32  \n",
      " 8   relationship    29301 non-null  int32  \n",
      " 9   race            29301 non-null  int32  \n",
      " 10  sex             29301 non-null  int32  \n",
      " 11  capital.gain    29301 non-null  float64\n",
      " 12  capital.loss    29301 non-null  float64\n",
      " 13  hours.per.week  29301 non-null  float64\n",
      " 14  native.country  29301 non-null  int32  \n",
      "dtypes: float64(6), int32(8), int64(1)\n",
      "memory usage: 2.7 MB\n"
     ]
    }
   ],
   "source": [
    "train_copy.info()"
   ]
  },
  {
   "cell_type": "markdown",
   "id": "5179e3ca",
   "metadata": {},
   "source": [
    "**Standard Scaling** \n",
    "- 데이터를 평균이 0이고 표준편차가 1인 분포로 변환"
   ]
  },
  {
   "cell_type": "code",
   "execution_count": 234,
   "id": "b8dc4b49",
   "metadata": {},
   "outputs": [
    {
     "data": {
      "text/html": [
       "<div>\n",
       "<style scoped>\n",
       "    .dataframe tbody tr th:only-of-type {\n",
       "        vertical-align: middle;\n",
       "    }\n",
       "\n",
       "    .dataframe tbody tr th {\n",
       "        vertical-align: top;\n",
       "    }\n",
       "\n",
       "    .dataframe thead th {\n",
       "        text-align: right;\n",
       "    }\n",
       "</style>\n",
       "<table border=\"1\" class=\"dataframe\">\n",
       "  <thead>\n",
       "    <tr style=\"text-align: right;\">\n",
       "      <th></th>\n",
       "      <th>age</th>\n",
       "      <th>fnlwgt</th>\n",
       "      <th>education.num</th>\n",
       "      <th>capital.gain</th>\n",
       "      <th>capital.loss</th>\n",
       "      <th>hours.per.week</th>\n",
       "    </tr>\n",
       "  </thead>\n",
       "  <tbody>\n",
       "    <tr>\n",
       "      <th>0</th>\n",
       "      <td>-0.335138</td>\n",
       "      <td>-0.117705</td>\n",
       "      <td>-0.031462</td>\n",
       "      <td>0.440247</td>\n",
       "      <td>-0.216056</td>\n",
       "      <td>-0.035121</td>\n",
       "    </tr>\n",
       "    <tr>\n",
       "      <th>1</th>\n",
       "      <td>1.428574</td>\n",
       "      <td>0.956277</td>\n",
       "      <td>-0.420430</td>\n",
       "      <td>-0.146298</td>\n",
       "      <td>-0.216056</td>\n",
       "      <td>-0.035121</td>\n",
       "    </tr>\n",
       "    <tr>\n",
       "      <th>2</th>\n",
       "      <td>0.693694</td>\n",
       "      <td>-0.604783</td>\n",
       "      <td>-0.031462</td>\n",
       "      <td>-0.146298</td>\n",
       "      <td>3.940528</td>\n",
       "      <td>-0.197450</td>\n",
       "    </tr>\n",
       "    <tr>\n",
       "      <th>3</th>\n",
       "      <td>1.428574</td>\n",
       "      <td>-0.847573</td>\n",
       "      <td>-0.031462</td>\n",
       "      <td>-0.146298</td>\n",
       "      <td>4.520806</td>\n",
       "      <td>-0.035121</td>\n",
       "    </tr>\n",
       "    <tr>\n",
       "      <th>4</th>\n",
       "      <td>0.179278</td>\n",
       "      <td>0.056001</td>\n",
       "      <td>-0.031462</td>\n",
       "      <td>-0.146298</td>\n",
       "      <td>-0.216056</td>\n",
       "      <td>1.101181</td>\n",
       "    </tr>\n",
       "  </tbody>\n",
       "</table>\n",
       "</div>"
      ],
      "text/plain": [
       "        age    fnlwgt  education.num  capital.gain  capital.loss  \\\n",
       "0 -0.335138 -0.117705      -0.031462      0.440247     -0.216056   \n",
       "1  1.428574  0.956277      -0.420430     -0.146298     -0.216056   \n",
       "2  0.693694 -0.604783      -0.031462     -0.146298      3.940528   \n",
       "3  1.428574 -0.847573      -0.031462     -0.146298      4.520806   \n",
       "4  0.179278  0.056001      -0.031462     -0.146298     -0.216056   \n",
       "\n",
       "   hours.per.week  \n",
       "0       -0.035121  \n",
       "1       -0.035121  \n",
       "2       -0.197450  \n",
       "3       -0.035121  \n",
       "4        1.101181  "
      ]
     },
     "metadata": {},
     "output_type": "display_data"
    }
   ],
   "source": [
    "from sklearn.preprocessing import StandardScaler\n",
    "\n",
    "train_copy, test_copy = get_df()\n",
    "\n",
    "scaler = StandardScaler()\n",
    "train_copy[cols] = scaler.fit_transform(train_copy[cols])\n",
    "test_copy[cols] = scaler.transform(test_copy[cols])\n",
    "\n",
    "display(train_copy[cols].head())"
   ]
  },
  {
   "cell_type": "markdown",
   "id": "863f1b27",
   "metadata": {},
   "source": [
    "**Robust Scaling** \n",
    "- 각 값의 중앙값을 빼고 Q1과 Q3의 차이(사분위수, IQR)로 나누는 방법\n",
    "- 이상치의 영향을 덜 받음."
   ]
  },
  {
   "cell_type": "code",
   "execution_count": 235,
   "id": "e9b332c6",
   "metadata": {},
   "outputs": [
    {
     "data": {
      "text/html": [
       "<div>\n",
       "<style scoped>\n",
       "    .dataframe tbody tr th:only-of-type {\n",
       "        vertical-align: middle;\n",
       "    }\n",
       "\n",
       "    .dataframe tbody tr th {\n",
       "        vertical-align: top;\n",
       "    }\n",
       "\n",
       "    .dataframe thead th {\n",
       "        text-align: right;\n",
       "    }\n",
       "</style>\n",
       "<table border=\"1\" class=\"dataframe\">\n",
       "  <thead>\n",
       "    <tr style=\"text-align: right;\">\n",
       "      <th></th>\n",
       "      <th>age</th>\n",
       "      <th>fnlwgt</th>\n",
       "      <th>education.num</th>\n",
       "      <th>capital.gain</th>\n",
       "      <th>capital.loss</th>\n",
       "      <th>hours.per.week</th>\n",
       "    </tr>\n",
       "  </thead>\n",
       "  <tbody>\n",
       "    <tr>\n",
       "      <th>0</th>\n",
       "      <td>-0.15</td>\n",
       "      <td>-0.008711</td>\n",
       "      <td>0.000000</td>\n",
       "      <td>4386.0</td>\n",
       "      <td>0.0</td>\n",
       "      <td>0.0</td>\n",
       "    </tr>\n",
       "    <tr>\n",
       "      <th>1</th>\n",
       "      <td>1.05</td>\n",
       "      <td>0.941438</td>\n",
       "      <td>-0.333333</td>\n",
       "      <td>0.0</td>\n",
       "      <td>0.0</td>\n",
       "      <td>0.0</td>\n",
       "    </tr>\n",
       "    <tr>\n",
       "      <th>2</th>\n",
       "      <td>0.55</td>\n",
       "      <td>-0.439627</td>\n",
       "      <td>0.000000</td>\n",
       "      <td>0.0</td>\n",
       "      <td>1669.0</td>\n",
       "      <td>-0.4</td>\n",
       "    </tr>\n",
       "    <tr>\n",
       "      <th>3</th>\n",
       "      <td>1.05</td>\n",
       "      <td>-0.654423</td>\n",
       "      <td>0.000000</td>\n",
       "      <td>0.0</td>\n",
       "      <td>1902.0</td>\n",
       "      <td>0.0</td>\n",
       "    </tr>\n",
       "    <tr>\n",
       "      <th>4</th>\n",
       "      <td>0.20</td>\n",
       "      <td>0.144966</td>\n",
       "      <td>0.000000</td>\n",
       "      <td>0.0</td>\n",
       "      <td>0.0</td>\n",
       "      <td>2.8</td>\n",
       "    </tr>\n",
       "  </tbody>\n",
       "</table>\n",
       "</div>"
      ],
      "text/plain": [
       "    age    fnlwgt  education.num  capital.gain  capital.loss  hours.per.week\n",
       "0 -0.15 -0.008711       0.000000        4386.0           0.0             0.0\n",
       "1  1.05  0.941438      -0.333333           0.0           0.0             0.0\n",
       "2  0.55 -0.439627       0.000000           0.0        1669.0            -0.4\n",
       "3  1.05 -0.654423       0.000000           0.0        1902.0             0.0\n",
       "4  0.20  0.144966       0.000000           0.0           0.0             2.8"
      ]
     },
     "metadata": {},
     "output_type": "display_data"
    }
   ],
   "source": [
    "from sklearn.preprocessing import RobustScaler\n",
    "\n",
    "train_copy, test_copy = get_df()\n",
    "\n",
    "scaler = RobustScaler()\n",
    "train_copy[cols] = scaler.fit_transform(train_copy[cols])\n",
    "test_copy[cols] = scaler.transform(test_copy[cols])\n",
    "\n",
    "display(train_copy[cols].head())"
   ]
  },
  {
   "cell_type": "markdown",
   "id": "7786a926",
   "metadata": {},
   "source": [
    "---\n",
    "#### **5. 검증 데이터 나누기**\n",
    "\n",
    "- 검증 데이터는 학습 데이터의 일부를 사용\n",
    "\n",
    "`X_train, X_val, y_train, y_val = train_test_split(train, y_train, test_size=0.2, random_state=0)`\n",
    "\n",
    "\n",
    "- 데이터 분할 이후 `X_train.shape, X_val.shape`의 컬럼 수는 일치해야 함.\n",
    "- 데이터 분할 이후 `y_train.shape, y_val.shape`에서 컬럼에 1이 나타나지 않아야 함.\n",
    "    - y 데이터는 정답 레이블이므로 컬럼 개수는 1개여야 한다.\n",
    "    - 1차원 구조이므로, 컬럼에는 숫자가 나타나면 안 됨.\n",
    "\n",
    "\n",
    "(23440,), (5861,) => series 형태 의미"
   ]
  },
  {
   "cell_type": "code",
   "execution_count": 236,
   "id": "d87f1bfe",
   "metadata": {},
   "outputs": [
    {
     "data": {
      "text/plain": [
       "((23440, 15), (5861, 15), (23440,), (5861,))"
      ]
     },
     "execution_count": 236,
     "metadata": {},
     "output_type": "execute_result"
    }
   ],
   "source": [
    "from sklearn.model_selection import train_test_split\n",
    "\n",
    "X_train, X_val, y_train, y_val = train_test_split(train, y_train, test_size=0.2, random_state=1)\n",
    "X_train.shape, X_val.shape, y_train.shape, y_val.shape"
   ]
  },
  {
   "cell_type": "markdown",
   "id": "aaaee398",
   "metadata": {},
   "source": [
    "---\n",
    "#### **6. 머신러닝 학습 및 평가**\n",
    "\n",
    "\n",
    "**Random Forest**\n",
    "- 여러 개의 의사결정 나무를 기반으로 한 앙상블 학습 알고리즘\n",
    "\n",
    "\n",
    "1. `rf = RandomForestClassifier() # 모델 선택하기`\n",
    "2. `rf.fit(X_train, y_train) # 학습 진행`\n",
    "3. `pred = rf.predict_proba(X_val) # 예측 진행`"
   ]
  },
  {
   "cell_type": "code",
   "execution_count": 237,
   "id": "40c616ac",
   "metadata": {},
   "outputs": [
    {
     "name": "stdout",
     "output_type": "stream",
     "text": [
      "['<=50K' '>50K']\n"
     ]
    },
    {
     "data": {
      "text/plain": [
       "array([[0.86, 0.14],\n",
       "       [0.53, 0.47],\n",
       "       [1.  , 0.  ],\n",
       "       [0.64, 0.36],\n",
       "       [0.88, 0.12],\n",
       "       [1.  , 0.  ],\n",
       "       [1.  , 0.  ],\n",
       "       [0.91, 0.09],\n",
       "       [0.82, 0.18],\n",
       "       [0.91, 0.09]])"
      ]
     },
     "execution_count": 237,
     "metadata": {},
     "output_type": "execute_result"
    }
   ],
   "source": [
    "from sklearn.ensemble import RandomForestClassifier\n",
    "\n",
    "rf = RandomForestClassifier(random_state=0) # random_state=0을 설정해야 결과값 고정됨\n",
    "rf.fit(X_train, y_train) # 학습 진행\n",
    "pred = rf.predict_proba(X_val) # 예측 진행\n",
    "\n",
    "print(rf.classes_)\n",
    "pred[:10]"
   ]
  },
  {
   "cell_type": "markdown",
   "id": "1d9343a1",
   "metadata": {},
   "source": [
    "**평가지표**\n",
    "- 머신러닝 모델 학습 후, 제대로 학습 및 예측이 되었는지에 대한 평가가 필요.\n",
    "- 정확도(Accuracy), 정밀도(Precision), 재현율(Recall), F1 score, ROC_AUC.."
   ]
  },
  {
   "cell_type": "code",
   "execution_count": 238,
   "id": "fd36dd19",
   "metadata": {},
   "outputs": [
    {
     "name": "stdout",
     "output_type": "stream",
     "text": [
      "roc_auc: 0.9157221689432705\n"
     ]
    }
   ],
   "source": [
    "# ROC_AUC\n",
    "from sklearn.metrics import roc_auc_score\n",
    "\n",
    "roc_auc = roc_auc_score(y_val, pred[:,1])\n",
    "print('roc_auc:', roc_auc)"
   ]
  },
  {
   "cell_type": "code",
   "execution_count": 239,
   "id": "5b69095b",
   "metadata": {},
   "outputs": [
    {
     "name": "stdout",
     "output_type": "stream",
     "text": [
      "accuracy_score: 0.86316328271626\n"
     ]
    }
   ],
   "source": [
    "# Accuracy (정확도)\n",
    "from sklearn.metrics import accuracy_score\n",
    "\n",
    "pred = rf.predict(X_val)\n",
    "accuracy = accuracy_score(y_val, pred)\n",
    "print('accuracy_score:', accuracy)"
   ]
  },
  {
   "cell_type": "code",
   "execution_count": 240,
   "id": "adfcc3b5",
   "metadata": {},
   "outputs": [
    {
     "name": "stdout",
     "output_type": "stream",
     "text": [
      "f1_score: 0.6920122887864824\n"
     ]
    }
   ],
   "source": [
    "# F1 score\n",
    "from sklearn.metrics import f1_score\n",
    "\n",
    "f1 = f1_score(y_val, pred, pos_label='>50K') # 양성 클래스 지정\n",
    "print('f1_score:',f1)"
   ]
  },
  {
   "cell_type": "markdown",
   "id": "ed690f9f",
   "metadata": {},
   "source": [
    "**LightBGM**\n",
    "\n",
    "- 랜덤 포레스트보다 더 높은 성능을 보임."
   ]
  },
  {
   "cell_type": "code",
   "execution_count": 241,
   "id": "4c295f34",
   "metadata": {},
   "outputs": [
    {
     "name": "stdout",
     "output_type": "stream",
     "text": [
      "Note: you may need to restart the kernel to use updated packages.\n"
     ]
    }
   ],
   "source": [
    "pip install lightgbm -q"
   ]
  },
  {
   "cell_type": "code",
   "execution_count": 242,
   "id": "e4c62d25",
   "metadata": {},
   "outputs": [
    {
     "name": "stdout",
     "output_type": "stream",
     "text": [
      "roc_auc: 0.9283022976825719\n",
      "accuracy: 0.8740829210032418\n",
      "f1_score: 0.716589861751152\n"
     ]
    }
   ],
   "source": [
    "import lightgbm as lgb\n",
    "\n",
    "lgbmc = lgb.LGBMClassifier(random_state=0, verbose=-1) # verbose=-1 은 로그 메세지 숨김\n",
    "lgbmc.fit(X_train, y_train)\n",
    "pred = lgbmc.predict_proba(X_val)\n",
    "\n",
    "roc_auc = roc_auc_score(y_val, pred[:,1])\n",
    "print('roc_auc:', roc_auc)\n",
    "\n",
    "pred = lgbmc.predict(X_val)\n",
    "accuracy = accuracy_score(y_val, pred)\n",
    "print('accuracy:', accuracy)\n",
    "\n",
    "f1 = f1_score(y_val, pred, pos_label='>50K')\n",
    "print('f1_score:', f1)"
   ]
  },
  {
   "cell_type": "markdown",
   "id": "1b76fc9a",
   "metadata": {},
   "source": [
    "---\n",
    "#### **7. 예측 및 결과 파일 생성**\n",
    "- 이전 단계까지는 검증 데이터 예측, 최종 단계에서는 test 데이터 예측\n",
    "- 최종 csv 파일에서는 X_test 또는 y_test의 행 수와 동일해야 함."
   ]
  },
  {
   "cell_type": "code",
   "execution_count": 243,
   "id": "103808b1",
   "metadata": {},
   "outputs": [
    {
     "data": {
      "text/plain": [
       "array([[0.91420997, 0.08579003],\n",
       "       [0.96821076, 0.03178924],\n",
       "       [0.97920447, 0.02079553],\n",
       "       ...,\n",
       "       [0.90836567, 0.09163433],\n",
       "       [0.9877401 , 0.0122599 ],\n",
       "       [0.99154646, 0.00845354]])"
      ]
     },
     "execution_count": 243,
     "metadata": {},
     "output_type": "execute_result"
    }
   ],
   "source": [
    "## LightGBM을 활용한 예측\n",
    "pred = lgbmc.predict_proba(test)\n",
    "pred"
   ]
  },
  {
   "cell_type": "code",
   "execution_count": 244,
   "id": "f17b0db4",
   "metadata": {},
   "outputs": [
    {
     "data": {
      "text/plain": [
       "array([[0.99, 0.01],\n",
       "       [0.99, 0.01],\n",
       "       [0.97, 0.03],\n",
       "       ...,\n",
       "       [0.84, 0.16],\n",
       "       [0.97, 0.03],\n",
       "       [0.94, 0.06]])"
      ]
     },
     "execution_count": 244,
     "metadata": {},
     "output_type": "execute_result"
    }
   ],
   "source": [
    "## RandomForest를 활용한 예측\n",
    "pred2 = rf.predict_proba(test)\n",
    "pred2"
   ]
  },
  {
   "cell_type": "code",
   "execution_count": null,
   "id": "7da6f6dc",
   "metadata": {},
   "outputs": [],
   "source": [
    "result = pd.DataFrame({'pred':pred[:,1]})\n",
    "result.to_csv('result.csv', index=False)"
   ]
  },
  {
   "cell_type": "code",
   "execution_count": null,
   "id": "f0895274",
   "metadata": {},
   "outputs": [
    {
     "data": {
      "text/html": [
       "<div>\n",
       "<style scoped>\n",
       "    .dataframe tbody tr th:only-of-type {\n",
       "        vertical-align: middle;\n",
       "    }\n",
       "\n",
       "    .dataframe tbody tr th {\n",
       "        vertical-align: top;\n",
       "    }\n",
       "\n",
       "    .dataframe thead th {\n",
       "        text-align: right;\n",
       "    }\n",
       "</style>\n",
       "<table border=\"1\" class=\"dataframe\">\n",
       "  <thead>\n",
       "    <tr style=\"text-align: right;\">\n",
       "      <th></th>\n",
       "      <th>pred</th>\n",
       "    </tr>\n",
       "  </thead>\n",
       "  <tbody>\n",
       "    <tr>\n",
       "      <th>0</th>\n",
       "      <td>0.085790</td>\n",
       "    </tr>\n",
       "    <tr>\n",
       "      <th>1</th>\n",
       "      <td>0.031789</td>\n",
       "    </tr>\n",
       "    <tr>\n",
       "      <th>2</th>\n",
       "      <td>0.020796</td>\n",
       "    </tr>\n",
       "    <tr>\n",
       "      <th>3</th>\n",
       "      <td>0.836385</td>\n",
       "    </tr>\n",
       "    <tr>\n",
       "      <th>4</th>\n",
       "      <td>0.051083</td>\n",
       "    </tr>\n",
       "    <tr>\n",
       "      <th>...</th>\n",
       "      <td>...</td>\n",
       "    </tr>\n",
       "    <tr>\n",
       "      <th>3252</th>\n",
       "      <td>0.014245</td>\n",
       "    </tr>\n",
       "    <tr>\n",
       "      <th>3253</th>\n",
       "      <td>0.377803</td>\n",
       "    </tr>\n",
       "    <tr>\n",
       "      <th>3254</th>\n",
       "      <td>0.091634</td>\n",
       "    </tr>\n",
       "    <tr>\n",
       "      <th>3255</th>\n",
       "      <td>0.012260</td>\n",
       "    </tr>\n",
       "    <tr>\n",
       "      <th>3256</th>\n",
       "      <td>0.008454</td>\n",
       "    </tr>\n",
       "  </tbody>\n",
       "</table>\n",
       "<p>3257 rows × 1 columns</p>\n",
       "</div>"
      ],
      "text/plain": [
       "          pred\n",
       "0     0.085790\n",
       "1     0.031789\n",
       "2     0.020796\n",
       "3     0.836385\n",
       "4     0.051083\n",
       "...        ...\n",
       "3252  0.014245\n",
       "3253  0.377803\n",
       "3254  0.091634\n",
       "3255  0.012260\n",
       "3256  0.008454\n",
       "\n",
       "[3257 rows x 1 columns]"
      ]
     },
     "execution_count": 247,
     "metadata": {},
     "output_type": "execute_result"
    }
   ],
   "source": [
    "new = pd.read_csv('result.csv')\n",
    "new"
   ]
  },
  {
   "cell_type": "code",
   "execution_count": 248,
   "id": "67b3795e",
   "metadata": {},
   "outputs": [
    {
     "data": {
      "text/plain": [
       "(3257, 1)"
      ]
     },
     "execution_count": 248,
     "metadata": {},
     "output_type": "execute_result"
    }
   ],
   "source": [
    "new.shape"
   ]
  },
  {
   "cell_type": "markdown",
   "id": "6b7deeaa",
   "metadata": {},
   "source": [
    "---\n",
    "### **머신러닝 평가지표**\n",
    "\n",
    "#### **이진 분류 평가지표**\n",
    "- 정확도 (Accuracy)\n",
    "- 정밀도 (Precision)\n",
    "- 재현율 (Recall)\n",
    "- f1-score\n",
    "- ROC-AUC"
   ]
  },
  {
   "cell_type": "code",
   "execution_count": 1,
   "id": "f35388b8",
   "metadata": {},
   "outputs": [],
   "source": [
    "import pandas as pd"
   ]
  },
  {
   "cell_type": "code",
   "execution_count": 3,
   "id": "beeb949f",
   "metadata": {},
   "outputs": [],
   "source": [
    "# 이진 분류 데이터\n",
    "y_true = pd.DataFrame([1, 1, 1, 0, 0, 1, 1, 1, 1, 0]) # 실제 값\n",
    "y_pred = pd.DataFrame([1, 0, 1, 1, 0, 0, 0, 1, 1, 0]) # 예측값\n",
    "\n",
    "y_true_str = pd.DataFrame(['A', 'A', 'A', 'B', 'B', 'A', 'A', 'A', 'A', 'B']) # 실제 값\n",
    "y_pred_str = pd.DataFrame(['A', 'B', 'A', 'A', 'B', 'B', 'B', 'A', 'A', 'B']) # 예측값"
   ]
  },
  {
   "cell_type": "markdown",
   "id": "55ba78b7",
   "metadata": {},
   "source": [
    "**정확도 (Accuracy)**\n",
    "- 전체 데이터 중 올바르게 예측된 데이터의 비율"
   ]
  },
  {
   "cell_type": "code",
   "execution_count": 4,
   "id": "6c2bd1f5",
   "metadata": {},
   "outputs": [
    {
     "name": "stdout",
     "output_type": "stream",
     "text": [
      "정확도: 0.6\n",
      "정확도: 0.6\n"
     ]
    }
   ],
   "source": [
    "from sklearn.metrics import accuracy_score\n",
    "\n",
    "accuracy = accuracy_score(y_true, y_pred)\n",
    "print('정확도:', accuracy)\n",
    "\n",
    "accuracy = accuracy_score(y_true_str, y_pred_str)\n",
    "print('정확도:', accuracy)"
   ]
  },
  {
   "cell_type": "markdown",
   "id": "f4502ad8",
   "metadata": {},
   "source": [
    "**정밀도 (Precision)**\n",
    "- 양성으로 예측된 데이터 중 실제로 양성인 데이터의 비율"
   ]
  },
  {
   "cell_type": "code",
   "execution_count": 6,
   "id": "61db5fd2",
   "metadata": {},
   "outputs": [
    {
     "name": "stdout",
     "output_type": "stream",
     "text": [
      "정밀도: 0.8\n",
      "정밀도: 0.8\n"
     ]
    }
   ],
   "source": [
    "from sklearn.metrics import precision_score\n",
    "\n",
    "precision = precision_score(y_true, y_pred)\n",
    "print('정밀도:', precision)\n",
    "\n",
    "precision = precision_score(y_true_str, y_pred_str, pos_label='A')\n",
    "print('정밀도:', precision)"
   ]
  },
  {
   "cell_type": "markdown",
   "id": "55de9456",
   "metadata": {},
   "source": [
    "**재현율 (Recall)**\n",
    "- 실제 양성인 데이터 중 모델이 양성으로 올바르게 예측한 비율"
   ]
  },
  {
   "cell_type": "code",
   "execution_count": 7,
   "id": "a105231b",
   "metadata": {},
   "outputs": [
    {
     "name": "stdout",
     "output_type": "stream",
     "text": [
      "재현율: 0.5714285714285714\n",
      "재현율: 0.5714285714285714\n"
     ]
    }
   ],
   "source": [
    "from sklearn.metrics import recall_score\n",
    "\n",
    "recall = recall_score(y_true, y_pred)\n",
    "print('재현율:', recall)\n",
    "\n",
    "recall = recall_score(y_true_str, y_pred_str, pos_label='A')\n",
    "print('재현율:', recall)"
   ]
  },
  {
   "cell_type": "markdown",
   "id": "59042092",
   "metadata": {},
   "source": [
    "**F1 score**\n",
    "- 정밀도와 재현율의 조화 평균\n",
    "- 불균형 데이터를 평가하는 데 좋음."
   ]
  },
  {
   "cell_type": "code",
   "execution_count": 8,
   "id": "bdb65235",
   "metadata": {},
   "outputs": [
    {
     "name": "stdout",
     "output_type": "stream",
     "text": [
      "f1-score: 0.6666666666666666\n",
      "f1-score: 0.6666666666666666\n"
     ]
    }
   ],
   "source": [
    "from sklearn.metrics import f1_score\n",
    "\n",
    "f1 = f1_score(y_true, y_pred)\n",
    "print('f1-score:', f1)\n",
    "\n",
    "f1 = f1_score(y_true_str, y_pred_str, pos_label='A')\n",
    "print('f1-score:', f1)"
   ]
  },
  {
   "cell_type": "markdown",
   "id": "683edbfb",
   "metadata": {},
   "source": [
    "**ROC-AUC**\n",
    "- 모델의 분류 성능을 평가하는 지표"
   ]
  },
  {
   "cell_type": "code",
   "execution_count": 10,
   "id": "6b8c950d",
   "metadata": {},
   "outputs": [
    {
     "name": "stdout",
     "output_type": "stream",
     "text": [
      "ROC-AUC: 0.86\n"
     ]
    }
   ],
   "source": [
    "from sklearn.metrics import roc_auc_score\n",
    "\n",
    "y_true = pd.DataFrame([0, 1, 0, 1, 1, 0, 0, 0, 1, 1]) # 실제 값\n",
    "y_pred_proba = pd.DataFrame([0.4, 0.9, 0.1, 0.3, 0.8, 0.6, 0.4, 0.2, 0.7, 0.6]) # 예측값 중 양성(1)일 확률\n",
    "\n",
    "roc_auc = roc_auc_score(y_true, y_pred_proba)\n",
    "print('ROC-AUC:', roc_auc)\n",
    "\n",
    "# 문자 형태도 동일하게 적용"
   ]
  },
  {
   "cell_type": "markdown",
   "id": "c993a5c1",
   "metadata": {},
   "source": [
    "---\n",
    "#### **다중 분류 평가지표**\n",
    "- 이진 분류 평가지표와 유사\n",
    "- 정밀도, 재현율, f1-score는 평균을 계산하는 방식, 즉 파라미터가 필요.\n",
    "    - Macro 평균 : 각 클래스에 대한 평균을 계산\n",
    "    - Micro 평균 : 각 클래스에 대한 점수를 계산\n",
    "    - Weighted 평균 : 각 클래스에 대한 가중 평균을 계산"
   ]
  },
  {
   "cell_type": "code",
   "execution_count": 11,
   "id": "1e54818a",
   "metadata": {},
   "outputs": [],
   "source": [
    "y_true = pd.DataFrame([1, 2, 3, 3, 2, 1, 3, 3, 2, 1]) # 실제 값\n",
    "y_pred = pd.DataFrame([1, 2, 1, 3, 2, 1, 1, 2, 2, 1]) # 예측값\n",
    "\n",
    "y_true_str = pd.DataFrame(['A', 'B', 'C', 'C', 'B', 'A', 'C', 'C', 'B', 'A']) # 실제 값\n",
    "y_pred_str = pd.DataFrame(['A', 'B', 'A', 'C', 'B', 'A', 'A', 'B', 'B', 'A']) # 예측값"
   ]
  },
  {
   "cell_type": "code",
   "execution_count": 12,
   "id": "52f56f0a",
   "metadata": {},
   "outputs": [
    {
     "name": "stdout",
     "output_type": "stream",
     "text": [
      "정밀도: 0.7833333333333333\n",
      "정밀도: 0.7833333333333333\n"
     ]
    }
   ],
   "source": [
    "# 정밀도 (Precision)\n",
    "from sklearn.metrics import precision_score\n",
    "\n",
    "precision = precision_score(y_true, y_pred, average='macro')\n",
    "print('정밀도:', precision)\n",
    "\n",
    "precision = precision_score(y_true_str, y_pred_str, average='macro')\n",
    "print('정밀도:', precision)"
   ]
  },
  {
   "cell_type": "code",
   "execution_count": 13,
   "id": "68d13b8f",
   "metadata": {},
   "outputs": [
    {
     "name": "stdout",
     "output_type": "stream",
     "text": [
      "재현율: 0.7\n",
      "재현율: 0.7\n"
     ]
    }
   ],
   "source": [
    "# 재현율 (Recall)\n",
    "from sklearn.metrics import recall_score\n",
    "\n",
    "recall = recall_score(y_true, y_pred, average='micro')\n",
    "print('재현율:', recall)\n",
    "\n",
    "recall = recall_score(y_true_str, y_pred_str, average='micro')\n",
    "print('재현율:', recall)"
   ]
  },
  {
   "cell_type": "code",
   "execution_count": 14,
   "id": "8207b91a",
   "metadata": {},
   "outputs": [
    {
     "name": "stdout",
     "output_type": "stream",
     "text": [
      "f1-score: 0.6421428571428571\n",
      "f1-score: 0.6421428571428571\n"
     ]
    }
   ],
   "source": [
    "# f1-score\n",
    "from sklearn.metrics import f1_score\n",
    "\n",
    "f1 = f1_score(y_true, y_pred, average='weighted')\n",
    "print('f1-score:', f1)\n",
    "\n",
    "f1 = f1_score(y_true_str, y_pred_str, average='weighted')\n",
    "print('f1-score:', f1)"
   ]
  },
  {
   "cell_type": "markdown",
   "id": "e9c1aa4b",
   "metadata": {},
   "source": [
    "---\n",
    "#### **회귀 평가지표**\n",
    "- 대부분 오차 측정 : 0에 가까울수록 성능이 좋은 모델\n",
    "    - R-squared(결정계수)는 1에 가까울수록 좋음"
   ]
  },
  {
   "cell_type": "code",
   "execution_count": 15,
   "id": "5ffda19b",
   "metadata": {},
   "outputs": [],
   "source": [
    "# 회귀 데이터\n",
    "import pandas as pd\n",
    "\n",
    "y_true = pd.DataFrame([1, 2, 5, 2, 4, 4, 7, 9]) # 실제 값\n",
    "y_pred = pd.DataFrame([1.14, 2.53, 4.87, 3.08, 4.21, 5.53, 7.51, 10.32]) # 예측값"
   ]
  },
  {
   "cell_type": "markdown",
   "id": "0dbed0cc",
   "metadata": {},
   "source": [
    "**MSE**\n",
    "- Mean Squared Error\n",
    "- 실제 값과 예측값의 차이를 제곱한 값의 평균"
   ]
  },
  {
   "cell_type": "code",
   "execution_count": 17,
   "id": "e2505371",
   "metadata": {},
   "outputs": [
    {
     "name": "stdout",
     "output_type": "stream",
     "text": [
      "MSE: 0.7339125000000001\n"
     ]
    }
   ],
   "source": [
    "from sklearn.metrics import mean_squared_error\n",
    "\n",
    "mse = mean_squared_error(y_true, y_pred)\n",
    "print('MSE:', mse)"
   ]
  },
  {
   "cell_type": "markdown",
   "id": "13be0b83",
   "metadata": {},
   "source": [
    "**MAE**\n",
    "- Mean Absolute Error\n",
    "- 실제 값과 예측값의 차이를 절댓값으로 계산한 값의 평균"
   ]
  },
  {
   "cell_type": "code",
   "execution_count": 18,
   "id": "93be15a7",
   "metadata": {},
   "outputs": [
    {
     "name": "stdout",
     "output_type": "stream",
     "text": [
      "MAE: 0.68125\n"
     ]
    }
   ],
   "source": [
    "from sklearn.metrics import mean_absolute_error\n",
    "\n",
    "mae = mean_absolute_error(y_true, y_pred)\n",
    "print('MAE:', mae)"
   ]
  },
  {
   "cell_type": "markdown",
   "id": "ed9c1449",
   "metadata": {},
   "source": [
    "**결정계수 (R-squared)**\n",
    "- 회귀식이 얼마나 잘 예측하는지 나타내는 지표\n",
    "- R²"
   ]
  },
  {
   "cell_type": "code",
   "execution_count": 19,
   "id": "e7191f56",
   "metadata": {},
   "outputs": [
    {
     "name": "stdout",
     "output_type": "stream",
     "text": [
      "R²: 0.8859941747572815\n"
     ]
    }
   ],
   "source": [
    "from sklearn.metrics import r2_score\n",
    "\n",
    "r2 = r2_score(y_true, y_pred)\n",
    "print('R²:', r2)"
   ]
  },
  {
   "cell_type": "markdown",
   "id": "1e0cd7af",
   "metadata": {},
   "source": [
    "**RMSE**\n",
    "- Root Mean Squared Error\n",
    "- 실제 값과 예측값의 차이를 제곱하여 평균한 값"
   ]
  },
  {
   "cell_type": "code",
   "execution_count": 20,
   "id": "9e2be43a",
   "metadata": {},
   "outputs": [
    {
     "name": "stdout",
     "output_type": "stream",
     "text": [
      "RMSE: 0.8566869323154171\n"
     ]
    }
   ],
   "source": [
    "from sklearn.metrics import root_mean_squared_error\n",
    "\n",
    "rmse = root_mean_squared_error(y_true, y_pred)\n",
    "print('RMSE:', rmse)"
   ]
  },
  {
   "cell_type": "markdown",
   "id": "e8c464d6",
   "metadata": {},
   "source": [
    "**MSLE**\n",
    "- Mean Squared Log Error\n",
    "- 실제 값과 예측값의 로그를 취한 후 차이를 제곱해 평균한 값"
   ]
  },
  {
   "cell_type": "code",
   "execution_count": 21,
   "id": "826860c0",
   "metadata": {},
   "outputs": [
    {
     "name": "stdout",
     "output_type": "stream",
     "text": [
      "MSLE: 0.027278486182156947\n"
     ]
    }
   ],
   "source": [
    "from sklearn.metrics import mean_squared_log_error\n",
    "\n",
    "msle = mean_squared_log_error(y_true, y_pred)\n",
    "print(\"MSLE:\", msle)"
   ]
  },
  {
   "cell_type": "markdown",
   "id": "21b916b8",
   "metadata": {},
   "source": [
    "**RMSLE**\n",
    "- Root Mean Squared Error\n",
    "- 실제 값과 예측값의 로그를 취한 후 차이를 제곱해 평균한 값의 제곱근"
   ]
  },
  {
   "cell_type": "code",
   "execution_count": 22,
   "id": "b49c4c77",
   "metadata": {},
   "outputs": [
    {
     "name": "stdout",
     "output_type": "stream",
     "text": [
      "RMSLE: 0.16516199981278062\n"
     ]
    }
   ],
   "source": [
    "from sklearn.metrics import root_mean_squared_log_error\n",
    "\n",
    "rmsle = root_mean_squared_log_error(y_true, y_pred)\n",
    "print('RMSLE:', rmsle)"
   ]
  },
  {
   "cell_type": "markdown",
   "id": "a15cc100",
   "metadata": {},
   "source": [
    "**MAPE**\n",
    "- Mean Absolute Percentage Error\n",
    "- 예측값과 실제 값 사이의 오차를 백분율로 나타낸 지표"
   ]
  },
  {
   "cell_type": "code",
   "execution_count": 23,
   "id": "3ea66b3a",
   "metadata": {},
   "outputs": [
    {
     "name": "stdout",
     "output_type": "stream",
     "text": [
      "MAPE: 0    20.319048\n",
      "dtype: float64\n"
     ]
    }
   ],
   "source": [
    "mape = (abs((y_true - y_pred) / y_true)).mean() * 100\n",
    "print(\"MAPE:\", mape)"
   ]
  },
  {
   "cell_type": "markdown",
   "id": "0ad7d363",
   "metadata": {},
   "source": [
    "---\n"
   ]
  },
  {
   "cell_type": "markdown",
   "id": "e7a29324",
   "metadata": {},
   "source": []
  }
 ],
 "metadata": {
  "kernelspec": {
   "display_name": "base",
   "language": "python",
   "name": "python3"
  },
  "language_info": {
   "codemirror_mode": {
    "name": "ipython",
    "version": 3
   },
   "file_extension": ".py",
   "mimetype": "text/x-python",
   "name": "python",
   "nbconvert_exporter": "python",
   "pygments_lexer": "ipython3",
   "version": "3.12.7"
  }
 },
 "nbformat": 4,
 "nbformat_minor": 5
}
