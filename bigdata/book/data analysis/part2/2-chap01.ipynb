{
 "cells": [
  {
   "cell_type": "markdown",
   "id": "64dbd1dd",
   "metadata": {},
   "source": [
    "확인용"
   ]
  },
  {
   "cell_type": "markdown",
   "id": "97845dff",
   "metadata": {},
   "source": [
    "df"
   ]
  }
 ],
 "metadata": {
  "kernelspec": {
   "display_name": "base",
   "language": "python",
   "name": "python3"
  },
  "language_info": {
   "name": "python",
   "version": "3.12.7"
  }
 },
 "nbformat": 4,
 "nbformat_minor": 5
}
