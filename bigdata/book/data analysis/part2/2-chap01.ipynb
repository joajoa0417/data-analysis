{
 "cells": [
  {
   "cell_type": "markdown",
   "id": "c8ea05ab",
   "metadata": {},
   "source": [
    "### **머신러닝 분류 실습**"
   ]
  },
  {
   "cell_type": "code",
   "execution_count": 148,
   "id": "bf56889a",
   "metadata": {},
   "outputs": [],
   "source": [
    "import pandas as pd"
   ]
  },
  {
   "cell_type": "code",
   "execution_count": 149,
   "id": "0c7a5765",
   "metadata": {},
   "outputs": [],
   "source": [
    "test = pd.read_csv('test.csv')\n",
    "train = pd.read_csv('train.csv')"
   ]
  },
  {
   "cell_type": "markdown",
   "id": "311c44f1",
   "metadata": {},
   "source": [
    "각 데이터의 행, 열 개수 파악하기"
   ]
  },
  {
   "cell_type": "code",
   "execution_count": 150,
   "id": "9db0fbf1",
   "metadata": {},
   "outputs": [
    {
     "name": "stdout",
     "output_type": "stream",
     "text": [
      "(29304, 16)\n",
      "(3257, 15)\n"
     ]
    }
   ],
   "source": [
    "print(train.shape)\n",
    "print(test.shape)"
   ]
  },
  {
   "cell_type": "markdown",
   "id": "f5db8a31",
   "metadata": {},
   "source": [
    "각 데이터의 정보 파악하기\n",
    "- 자료형 파악 -> `object`일 경우에는 전처리 필요"
   ]
  },
  {
   "cell_type": "code",
   "execution_count": 151,
   "id": "44240fd2",
   "metadata": {},
   "outputs": [
    {
     "name": "stdout",
     "output_type": "stream",
     "text": [
      "<class 'pandas.core.frame.DataFrame'>\n",
      "RangeIndex: 29304 entries, 0 to 29303\n",
      "Data columns (total 16 columns):\n",
      " #   Column          Non-Null Count  Dtype  \n",
      "---  ------          --------------  -----  \n",
      " 0   id              29304 non-null  int64  \n",
      " 1   age             29292 non-null  float64\n",
      " 2   workclass       27642 non-null  object \n",
      " 3   fnlwgt          29304 non-null  int64  \n",
      " 4   education       29304 non-null  object \n",
      " 5   education.num   29304 non-null  int64  \n",
      " 6   marital.status  29304 non-null  object \n",
      " 7   occupation      27636 non-null  object \n",
      " 8   relationship    29304 non-null  object \n",
      " 9   race            29304 non-null  object \n",
      " 10  sex             29304 non-null  object \n",
      " 11  capital.gain    29304 non-null  int64  \n",
      " 12  capital.loss    29304 non-null  int64  \n",
      " 13  hours.per.week  29291 non-null  float64\n",
      " 14  native.country  28767 non-null  object \n",
      " 15  income          29304 non-null  object \n",
      "dtypes: float64(2), int64(5), object(9)\n",
      "memory usage: 3.6+ MB\n",
      "None\n"
     ]
    }
   ],
   "source": [
    "print(train.info())"
   ]
  },
  {
   "cell_type": "code",
   "execution_count": 152,
   "id": "ec8ddac1",
   "metadata": {},
   "outputs": [
    {
     "name": "stdout",
     "output_type": "stream",
     "text": [
      "<class 'pandas.core.frame.DataFrame'>\n",
      "RangeIndex: 3257 entries, 0 to 3256\n",
      "Data columns (total 15 columns):\n",
      " #   Column          Non-Null Count  Dtype  \n",
      "---  ------          --------------  -----  \n",
      " 0   id              3257 non-null   int64  \n",
      " 1   age             3251 non-null   float64\n",
      " 2   workclass       3083 non-null   object \n",
      " 3   fnlwgt          3257 non-null   int64  \n",
      " 4   education       3257 non-null   object \n",
      " 5   education.num   3257 non-null   int64  \n",
      " 6   marital.status  3257 non-null   object \n",
      " 7   occupation      3082 non-null   object \n",
      " 8   relationship    3257 non-null   object \n",
      " 9   race            3257 non-null   object \n",
      " 10  sex             3257 non-null   object \n",
      " 11  capital.gain    3257 non-null   int64  \n",
      " 12  capital.loss    3257 non-null   int64  \n",
      " 13  hours.per.week  3248 non-null   float64\n",
      " 14  native.country  3211 non-null   object \n",
      "dtypes: float64(2), int64(5), object(8)\n",
      "memory usage: 381.8+ KB\n",
      "None\n"
     ]
    }
   ],
   "source": [
    "print(test.info())"
   ]
  },
  {
   "cell_type": "markdown",
   "id": "fd130231",
   "metadata": {},
   "source": [
    "결측치 파악하기\n",
    "- 결측치가 있다면 전처리 필요 (최대/최소/최빈/0 ..)"
   ]
  },
  {
   "cell_type": "code",
   "execution_count": 153,
   "id": "3dc55c52",
   "metadata": {},
   "outputs": [
    {
     "data": {
      "text/plain": [
       "id                   0\n",
       "age                 12\n",
       "workclass         1662\n",
       "fnlwgt               0\n",
       "education            0\n",
       "education.num        0\n",
       "marital.status       0\n",
       "occupation        1668\n",
       "relationship         0\n",
       "race                 0\n",
       "sex                  0\n",
       "capital.gain         0\n",
       "capital.loss         0\n",
       "hours.per.week      13\n",
       "native.country     537\n",
       "income               0\n",
       "dtype: int64"
      ]
     },
     "execution_count": 153,
     "metadata": {},
     "output_type": "execute_result"
    }
   ],
   "source": [
    "train.isnull().sum()"
   ]
  },
  {
   "cell_type": "code",
   "execution_count": 154,
   "id": "77cb1851",
   "metadata": {},
   "outputs": [
    {
     "data": {
      "text/plain": [
       "id                  0\n",
       "age                 6\n",
       "workclass         174\n",
       "fnlwgt              0\n",
       "education           0\n",
       "education.num       0\n",
       "marital.status      0\n",
       "occupation        175\n",
       "relationship        0\n",
       "race                0\n",
       "sex                 0\n",
       "capital.gain        0\n",
       "capital.loss        0\n",
       "hours.per.week      9\n",
       "native.country     46\n",
       "dtype: int64"
      ]
     },
     "execution_count": 154,
     "metadata": {},
     "output_type": "execute_result"
    }
   ],
   "source": [
    "test.isnull().sum()"
   ]
  },
  {
   "cell_type": "markdown",
   "id": "473d5724",
   "metadata": {},
   "source": [
    "결측치 삭제 후 행, 열 개수 파악"
   ]
  },
  {
   "cell_type": "code",
   "execution_count": 155,
   "id": "8a267ef5",
   "metadata": {},
   "outputs": [],
   "source": [
    "# train = train.dropna()\n",
    "# print(train.shape)"
   ]
  },
  {
   "cell_type": "markdown",
   "id": "c97f8807",
   "metadata": {},
   "source": [
    "결측치 채우기 (범주형)\n",
    "- 주로 최빈값으로 대체\n",
    "- train에서 결측치 대체한 컬럼은 test에서도 동일하게 적용해야함"
   ]
  },
  {
   "cell_type": "code",
   "execution_count": 156,
   "id": "c582d8ba",
   "metadata": {},
   "outputs": [],
   "source": [
    "train['workclass'] = train['workclass'].fillna(train['workclass'].mode()[0])\n",
    "train['native.country'] = train['native.country'].fillna(train['native.country'].mode()[0])\n",
    "train['occupation'] = train['occupation'].fillna(train['occupation'].mode()[0])\n",
    "\n",
    "test['workclass'] = test['workclass'].fillna(test['workclass'].mode()[0])\n",
    "test['native.country'] = test['native.country'].fillna(test['native.country'].mode()[0])\n",
    "test['occupation'] = test['occupation'].fillna(test['occupation'].mode()[0])"
   ]
  },
  {
   "cell_type": "code",
   "execution_count": 157,
   "id": "dca7e112",
   "metadata": {},
   "outputs": [
    {
     "data": {
      "text/plain": [
       "id                 0\n",
       "age               12\n",
       "workclass          0\n",
       "fnlwgt             0\n",
       "education          0\n",
       "education.num      0\n",
       "marital.status     0\n",
       "occupation         0\n",
       "relationship       0\n",
       "race               0\n",
       "sex                0\n",
       "capital.gain       0\n",
       "capital.loss       0\n",
       "hours.per.week    13\n",
       "native.country     0\n",
       "income             0\n",
       "dtype: int64"
      ]
     },
     "execution_count": 157,
     "metadata": {},
     "output_type": "execute_result"
    }
   ],
   "source": [
    "train.isnull().sum()"
   ]
  },
  {
   "cell_type": "code",
   "execution_count": 158,
   "id": "909bdd55",
   "metadata": {},
   "outputs": [],
   "source": [
    "train['age'] = train['age'].fillna(train['age'].mean())\n",
    "train['hours.per.week'] = train['hours.per.week'].fillna(train['hours.per.week'].median())\n",
    "\n",
    "test['age'] = test['age'].fillna(test['age'].mean())\n",
    "test['hours.per.week'] = test['hours.per.week'].fillna(test['hours.per.week'].median())"
   ]
  },
  {
   "cell_type": "code",
   "execution_count": 159,
   "id": "e8caf966",
   "metadata": {},
   "outputs": [
    {
     "data": {
      "text/plain": [
       "id                0\n",
       "age               0\n",
       "workclass         0\n",
       "fnlwgt            0\n",
       "education         0\n",
       "education.num     0\n",
       "marital.status    0\n",
       "occupation        0\n",
       "relationship      0\n",
       "race              0\n",
       "sex               0\n",
       "capital.gain      0\n",
       "capital.loss      0\n",
       "hours.per.week    0\n",
       "native.country    0\n",
       "income            0\n",
       "dtype: int64"
      ]
     },
     "execution_count": 159,
     "metadata": {},
     "output_type": "execute_result"
    }
   ],
   "source": [
    "train.isnull().sum() # 결측치 다 채워졌는지 확인"
   ]
  },
  {
   "cell_type": "code",
   "execution_count": 160,
   "id": "1f515841",
   "metadata": {},
   "outputs": [
    {
     "data": {
      "text/plain": [
       "id                0\n",
       "age               0\n",
       "workclass         0\n",
       "fnlwgt            0\n",
       "education         0\n",
       "education.num     0\n",
       "marital.status    0\n",
       "occupation        0\n",
       "relationship      0\n",
       "race              0\n",
       "sex               0\n",
       "capital.gain      0\n",
       "capital.loss      0\n",
       "hours.per.week    0\n",
       "native.country    0\n",
       "dtype: int64"
      ]
     },
     "execution_count": 160,
     "metadata": {},
     "output_type": "execute_result"
    }
   ],
   "source": [
    "test.isnull().sum()"
   ]
  },
  {
   "cell_type": "markdown",
   "id": "36bca5cf",
   "metadata": {},
   "source": [
    "이상치 처리\n",
    "- `describe()`로 확인\n",
    "- age가 음수인 값이 있으므로 제거해야 함.\n",
    "- test에는 age가 음수인 값이 없음.\n",
    "- 항상 중간중간마다 `print(df.shape)`를 통해 확인하기."
   ]
  },
  {
   "cell_type": "code",
   "execution_count": 161,
   "id": "388b89b4",
   "metadata": {},
   "outputs": [
    {
     "data": {
      "text/html": [
       "<div>\n",
       "<style scoped>\n",
       "    .dataframe tbody tr th:only-of-type {\n",
       "        vertical-align: middle;\n",
       "    }\n",
       "\n",
       "    .dataframe tbody tr th {\n",
       "        vertical-align: top;\n",
       "    }\n",
       "\n",
       "    .dataframe thead th {\n",
       "        text-align: right;\n",
       "    }\n",
       "</style>\n",
       "<table border=\"1\" class=\"dataframe\">\n",
       "  <thead>\n",
       "    <tr style=\"text-align: right;\">\n",
       "      <th></th>\n",
       "      <th>id</th>\n",
       "      <th>age</th>\n",
       "      <th>fnlwgt</th>\n",
       "      <th>education.num</th>\n",
       "      <th>capital.gain</th>\n",
       "      <th>capital.loss</th>\n",
       "      <th>hours.per.week</th>\n",
       "    </tr>\n",
       "  </thead>\n",
       "  <tbody>\n",
       "    <tr>\n",
       "      <th>count</th>\n",
       "      <td>29304.000000</td>\n",
       "      <td>29304.000000</td>\n",
       "      <td>2.930400e+04</td>\n",
       "      <td>29304.000000</td>\n",
       "      <td>29304.000000</td>\n",
       "      <td>29304.000000</td>\n",
       "      <td>29304.000000</td>\n",
       "    </tr>\n",
       "    <tr>\n",
       "      <th>mean</th>\n",
       "      <td>16264.027880</td>\n",
       "      <td>38.553223</td>\n",
       "      <td>1.897488e+05</td>\n",
       "      <td>10.080842</td>\n",
       "      <td>1093.858722</td>\n",
       "      <td>86.744506</td>\n",
       "      <td>40.434036</td>\n",
       "    </tr>\n",
       "    <tr>\n",
       "      <th>std</th>\n",
       "      <td>9384.518323</td>\n",
       "      <td>13.626020</td>\n",
       "      <td>1.055250e+05</td>\n",
       "      <td>2.570824</td>\n",
       "      <td>7477.435640</td>\n",
       "      <td>401.518928</td>\n",
       "      <td>12.321306</td>\n",
       "    </tr>\n",
       "    <tr>\n",
       "      <th>min</th>\n",
       "      <td>0.000000</td>\n",
       "      <td>-38.000000</td>\n",
       "      <td>1.228500e+04</td>\n",
       "      <td>1.000000</td>\n",
       "      <td>0.000000</td>\n",
       "      <td>0.000000</td>\n",
       "      <td>1.000000</td>\n",
       "    </tr>\n",
       "    <tr>\n",
       "      <th>25%</th>\n",
       "      <td>8145.750000</td>\n",
       "      <td>28.000000</td>\n",
       "      <td>1.177890e+05</td>\n",
       "      <td>9.000000</td>\n",
       "      <td>0.000000</td>\n",
       "      <td>0.000000</td>\n",
       "      <td>40.000000</td>\n",
       "    </tr>\n",
       "    <tr>\n",
       "      <th>50%</th>\n",
       "      <td>16253.500000</td>\n",
       "      <td>37.000000</td>\n",
       "      <td>1.783765e+05</td>\n",
       "      <td>10.000000</td>\n",
       "      <td>0.000000</td>\n",
       "      <td>0.000000</td>\n",
       "      <td>40.000000</td>\n",
       "    </tr>\n",
       "    <tr>\n",
       "      <th>75%</th>\n",
       "      <td>24374.250000</td>\n",
       "      <td>48.000000</td>\n",
       "      <td>2.370682e+05</td>\n",
       "      <td>12.000000</td>\n",
       "      <td>0.000000</td>\n",
       "      <td>0.000000</td>\n",
       "      <td>45.000000</td>\n",
       "    </tr>\n",
       "    <tr>\n",
       "      <th>max</th>\n",
       "      <td>32560.000000</td>\n",
       "      <td>90.000000</td>\n",
       "      <td>1.484705e+06</td>\n",
       "      <td>16.000000</td>\n",
       "      <td>99999.000000</td>\n",
       "      <td>4356.000000</td>\n",
       "      <td>99.000000</td>\n",
       "    </tr>\n",
       "  </tbody>\n",
       "</table>\n",
       "</div>"
      ],
      "text/plain": [
       "                 id           age        fnlwgt  education.num  capital.gain  \\\n",
       "count  29304.000000  29304.000000  2.930400e+04   29304.000000  29304.000000   \n",
       "mean   16264.027880     38.553223  1.897488e+05      10.080842   1093.858722   \n",
       "std     9384.518323     13.626020  1.055250e+05       2.570824   7477.435640   \n",
       "min        0.000000    -38.000000  1.228500e+04       1.000000      0.000000   \n",
       "25%     8145.750000     28.000000  1.177890e+05       9.000000      0.000000   \n",
       "50%    16253.500000     37.000000  1.783765e+05      10.000000      0.000000   \n",
       "75%    24374.250000     48.000000  2.370682e+05      12.000000      0.000000   \n",
       "max    32560.000000     90.000000  1.484705e+06      16.000000  99999.000000   \n",
       "\n",
       "       capital.loss  hours.per.week  \n",
       "count  29304.000000    29304.000000  \n",
       "mean      86.744506       40.434036  \n",
       "std      401.518928       12.321306  \n",
       "min        0.000000        1.000000  \n",
       "25%        0.000000       40.000000  \n",
       "50%        0.000000       40.000000  \n",
       "75%        0.000000       45.000000  \n",
       "max     4356.000000       99.000000  "
      ]
     },
     "execution_count": 161,
     "metadata": {},
     "output_type": "execute_result"
    }
   ],
   "source": [
    "train.describe()"
   ]
  },
  {
   "cell_type": "code",
   "execution_count": 162,
   "id": "6bd38da0",
   "metadata": {},
   "outputs": [
    {
     "data": {
      "text/html": [
       "<div>\n",
       "<style scoped>\n",
       "    .dataframe tbody tr th:only-of-type {\n",
       "        vertical-align: middle;\n",
       "    }\n",
       "\n",
       "    .dataframe tbody tr th {\n",
       "        vertical-align: top;\n",
       "    }\n",
       "\n",
       "    .dataframe thead th {\n",
       "        text-align: right;\n",
       "    }\n",
       "</style>\n",
       "<table border=\"1\" class=\"dataframe\">\n",
       "  <thead>\n",
       "    <tr style=\"text-align: right;\">\n",
       "      <th></th>\n",
       "      <th>id</th>\n",
       "      <th>age</th>\n",
       "      <th>fnlwgt</th>\n",
       "      <th>education.num</th>\n",
       "      <th>capital.gain</th>\n",
       "      <th>capital.loss</th>\n",
       "      <th>hours.per.week</th>\n",
       "    </tr>\n",
       "  </thead>\n",
       "  <tbody>\n",
       "    <tr>\n",
       "      <th>count</th>\n",
       "      <td>3257.000000</td>\n",
       "      <td>3257.000000</td>\n",
       "      <td>3.257000e+03</td>\n",
       "      <td>3257.000000</td>\n",
       "      <td>3257.000000</td>\n",
       "      <td>3257.000000</td>\n",
       "      <td>3257.000000</td>\n",
       "    </tr>\n",
       "    <tr>\n",
       "      <th>mean</th>\n",
       "      <td>16423.704943</td>\n",
       "      <td>38.802830</td>\n",
       "      <td>1.900447e+05</td>\n",
       "      <td>10.079214</td>\n",
       "      <td>931.804728</td>\n",
       "      <td>92.336199</td>\n",
       "      <td>40.466994</td>\n",
       "    </tr>\n",
       "    <tr>\n",
       "      <th>std</th>\n",
       "      <td>9535.416746</td>\n",
       "      <td>13.904759</td>\n",
       "      <td>1.057902e+05</td>\n",
       "      <td>2.590118</td>\n",
       "      <td>6496.962999</td>\n",
       "      <td>415.732721</td>\n",
       "      <td>12.581146</td>\n",
       "    </tr>\n",
       "    <tr>\n",
       "      <th>min</th>\n",
       "      <td>3.000000</td>\n",
       "      <td>17.000000</td>\n",
       "      <td>1.882700e+04</td>\n",
       "      <td>1.000000</td>\n",
       "      <td>0.000000</td>\n",
       "      <td>0.000000</td>\n",
       "      <td>1.000000</td>\n",
       "    </tr>\n",
       "    <tr>\n",
       "      <th>25%</th>\n",
       "      <td>8078.000000</td>\n",
       "      <td>28.000000</td>\n",
       "      <td>1.186520e+05</td>\n",
       "      <td>9.000000</td>\n",
       "      <td>0.000000</td>\n",
       "      <td>0.000000</td>\n",
       "      <td>40.000000</td>\n",
       "    </tr>\n",
       "    <tr>\n",
       "      <th>50%</th>\n",
       "      <td>16626.000000</td>\n",
       "      <td>37.000000</td>\n",
       "      <td>1.783190e+05</td>\n",
       "      <td>10.000000</td>\n",
       "      <td>0.000000</td>\n",
       "      <td>0.000000</td>\n",
       "      <td>40.000000</td>\n",
       "    </tr>\n",
       "    <tr>\n",
       "      <th>75%</th>\n",
       "      <td>24743.000000</td>\n",
       "      <td>48.000000</td>\n",
       "      <td>2.364360e+05</td>\n",
       "      <td>12.000000</td>\n",
       "      <td>0.000000</td>\n",
       "      <td>0.000000</td>\n",
       "      <td>45.000000</td>\n",
       "    </tr>\n",
       "    <tr>\n",
       "      <th>max</th>\n",
       "      <td>32559.000000</td>\n",
       "      <td>90.000000</td>\n",
       "      <td>1.033222e+06</td>\n",
       "      <td>16.000000</td>\n",
       "      <td>99999.000000</td>\n",
       "      <td>3900.000000</td>\n",
       "      <td>99.000000</td>\n",
       "    </tr>\n",
       "  </tbody>\n",
       "</table>\n",
       "</div>"
      ],
      "text/plain": [
       "                 id          age        fnlwgt  education.num  capital.gain  \\\n",
       "count   3257.000000  3257.000000  3.257000e+03    3257.000000   3257.000000   \n",
       "mean   16423.704943    38.802830  1.900447e+05      10.079214    931.804728   \n",
       "std     9535.416746    13.904759  1.057902e+05       2.590118   6496.962999   \n",
       "min        3.000000    17.000000  1.882700e+04       1.000000      0.000000   \n",
       "25%     8078.000000    28.000000  1.186520e+05       9.000000      0.000000   \n",
       "50%    16626.000000    37.000000  1.783190e+05      10.000000      0.000000   \n",
       "75%    24743.000000    48.000000  2.364360e+05      12.000000      0.000000   \n",
       "max    32559.000000    90.000000  1.033222e+06      16.000000  99999.000000   \n",
       "\n",
       "       capital.loss  hours.per.week  \n",
       "count   3257.000000     3257.000000  \n",
       "mean      92.336199       40.466994  \n",
       "std      415.732721       12.581146  \n",
       "min        0.000000        1.000000  \n",
       "25%        0.000000       40.000000  \n",
       "50%        0.000000       40.000000  \n",
       "75%        0.000000       45.000000  \n",
       "max     3900.000000       99.000000  "
      ]
     },
     "execution_count": 162,
     "metadata": {},
     "output_type": "execute_result"
    }
   ],
   "source": [
    "test.describe()"
   ]
  },
  {
   "cell_type": "code",
   "execution_count": 163,
   "id": "0e62ddc7",
   "metadata": {},
   "outputs": [
    {
     "name": "stdout",
     "output_type": "stream",
     "text": [
      "(29304, 16)\n",
      "(29301, 16)\n"
     ]
    }
   ],
   "source": [
    "print(train.shape)\n",
    "train = train[train['age'] > 0]\n",
    "print(train.shape)"
   ]
  },
  {
   "cell_type": "markdown",
   "id": "8b70e82a",
   "metadata": {},
   "source": [
    "### **인코딩**\n",
    "\n",
    "\n",
    "\n",
    "**원-핫 인코딩**\n",
    "- 범주형 데이터를 수치형 데이터로 변환하는 과정\n",
    "- 원-핫 인코딩 후 train과 test의 컬럼 개수가 불일치하므로 데이터 합치는 작업 필요.\n"
   ]
  },
  {
   "cell_type": "code",
   "execution_count": 164,
   "id": "513e5110",
   "metadata": {},
   "outputs": [],
   "source": [
    "y_train = train.pop(\"income\")\n",
    "# pop()은 income 컬럼을 y_train에 대입하고, income 컬럼을 삭제하는 작업 동시 수행"
   ]
  },
  {
   "cell_type": "code",
   "execution_count": 165,
   "id": "42e1e44b",
   "metadata": {},
   "outputs": [
    {
     "name": "stdout",
     "output_type": "stream",
     "text": [
      "(29301, 15) (29301, 106) (3257, 15) (3257, 102)\n"
     ]
    }
   ],
   "source": [
    "# 원-핫 인코딩\n",
    "train_oh = pd.get_dummies(train).copy()\n",
    "test_oh = pd.get_dummies(test).copy()\n",
    "print(train.shape, train_oh.shape, test.shape, test_oh.shape)"
   ]
  },
  {
   "cell_type": "markdown",
   "id": "7704c030",
   "metadata": {},
   "source": [
    "컬럼 개수가 불일치하므로 데이터 병합을 통해 개수 일치시키는 작업"
   ]
  },
  {
   "cell_type": "code",
   "execution_count": 166,
   "id": "94640d83",
   "metadata": {},
   "outputs": [
    {
     "name": "stdout",
     "output_type": "stream",
     "text": [
      "(29301, 15) (3257, 15)\n",
      "(29301, 106) (3257, 106)\n"
     ]
    }
   ],
   "source": [
    "print(train.shape, test.shape)\n",
    "data = pd.concat([train, test], axis=0) # train과 test 위아래로 병합\n",
    "data_oh = pd.get_dummies(data)\n",
    "\n",
    "train_oh = data_oh.iloc[:len(train)].copy() # train 부분\n",
    "test_oh = data_oh.iloc[len(train):].copy() # test 부분\n",
    "print(train_oh.shape, test_oh.shape)"
   ]
  },
  {
   "cell_type": "markdown",
   "id": "2f1f9780",
   "metadata": {},
   "source": [
    "**레이블 인코딩**"
   ]
  },
  {
   "cell_type": "code",
   "execution_count": 167,
   "id": "c68456c7",
   "metadata": {},
   "outputs": [
    {
     "data": {
      "text/html": [
       "<div>\n",
       "<style scoped>\n",
       "    .dataframe tbody tr th:only-of-type {\n",
       "        vertical-align: middle;\n",
       "    }\n",
       "\n",
       "    .dataframe tbody tr th {\n",
       "        vertical-align: top;\n",
       "    }\n",
       "\n",
       "    .dataframe thead th {\n",
       "        text-align: right;\n",
       "    }\n",
       "</style>\n",
       "<table border=\"1\" class=\"dataframe\">\n",
       "  <thead>\n",
       "    <tr style=\"text-align: right;\">\n",
       "      <th></th>\n",
       "      <th>id</th>\n",
       "      <th>age</th>\n",
       "      <th>workclass</th>\n",
       "      <th>fnlwgt</th>\n",
       "      <th>education</th>\n",
       "      <th>education.num</th>\n",
       "      <th>marital.status</th>\n",
       "      <th>occupation</th>\n",
       "      <th>relationship</th>\n",
       "      <th>race</th>\n",
       "      <th>sex</th>\n",
       "      <th>capital.gain</th>\n",
       "      <th>capital.loss</th>\n",
       "      <th>hours.per.week</th>\n",
       "      <th>native.country</th>\n",
       "    </tr>\n",
       "  </thead>\n",
       "  <tbody>\n",
       "    <tr>\n",
       "      <th>0</th>\n",
       "      <td>3331</td>\n",
       "      <td>34.0</td>\n",
       "      <td>6</td>\n",
       "      <td>177331</td>\n",
       "      <td>15</td>\n",
       "      <td>10</td>\n",
       "      <td>2</td>\n",
       "      <td>9</td>\n",
       "      <td>0</td>\n",
       "      <td>2</td>\n",
       "      <td>1</td>\n",
       "      <td>4386</td>\n",
       "      <td>0</td>\n",
       "      <td>40.0</td>\n",
       "      <td>38</td>\n",
       "    </tr>\n",
       "    <tr>\n",
       "      <th>1</th>\n",
       "      <td>19749</td>\n",
       "      <td>58.0</td>\n",
       "      <td>3</td>\n",
       "      <td>290661</td>\n",
       "      <td>11</td>\n",
       "      <td>9</td>\n",
       "      <td>2</td>\n",
       "      <td>2</td>\n",
       "      <td>0</td>\n",
       "      <td>4</td>\n",
       "      <td>1</td>\n",
       "      <td>0</td>\n",
       "      <td>0</td>\n",
       "      <td>40.0</td>\n",
       "      <td>38</td>\n",
       "    </tr>\n",
       "    <tr>\n",
       "      <th>2</th>\n",
       "      <td>1157</td>\n",
       "      <td>48.0</td>\n",
       "      <td>3</td>\n",
       "      <td>125933</td>\n",
       "      <td>15</td>\n",
       "      <td>10</td>\n",
       "      <td>6</td>\n",
       "      <td>3</td>\n",
       "      <td>4</td>\n",
       "      <td>2</td>\n",
       "      <td>0</td>\n",
       "      <td>0</td>\n",
       "      <td>1669</td>\n",
       "      <td>38.0</td>\n",
       "      <td>38</td>\n",
       "    </tr>\n",
       "    <tr>\n",
       "      <th>3</th>\n",
       "      <td>693</td>\n",
       "      <td>58.0</td>\n",
       "      <td>3</td>\n",
       "      <td>100313</td>\n",
       "      <td>15</td>\n",
       "      <td>10</td>\n",
       "      <td>2</td>\n",
       "      <td>10</td>\n",
       "      <td>0</td>\n",
       "      <td>4</td>\n",
       "      <td>1</td>\n",
       "      <td>0</td>\n",
       "      <td>1902</td>\n",
       "      <td>40.0</td>\n",
       "      <td>38</td>\n",
       "    </tr>\n",
       "    <tr>\n",
       "      <th>4</th>\n",
       "      <td>12522</td>\n",
       "      <td>41.0</td>\n",
       "      <td>3</td>\n",
       "      <td>195661</td>\n",
       "      <td>15</td>\n",
       "      <td>10</td>\n",
       "      <td>2</td>\n",
       "      <td>13</td>\n",
       "      <td>0</td>\n",
       "      <td>4</td>\n",
       "      <td>1</td>\n",
       "      <td>0</td>\n",
       "      <td>0</td>\n",
       "      <td>54.0</td>\n",
       "      <td>38</td>\n",
       "    </tr>\n",
       "  </tbody>\n",
       "</table>\n",
       "</div>"
      ],
      "text/plain": [
       "      id   age  workclass  fnlwgt  education  education.num  marital.status  \\\n",
       "0   3331  34.0          6  177331         15             10               2   \n",
       "1  19749  58.0          3  290661         11              9               2   \n",
       "2   1157  48.0          3  125933         15             10               6   \n",
       "3    693  58.0          3  100313         15             10               2   \n",
       "4  12522  41.0          3  195661         15             10               2   \n",
       "\n",
       "   occupation  relationship  race  sex  capital.gain  capital.loss  \\\n",
       "0           9             0     2    1          4386             0   \n",
       "1           2             0     4    1             0             0   \n",
       "2           3             4     2    0             0          1669   \n",
       "3          10             0     4    1             0          1902   \n",
       "4          13             0     4    1             0             0   \n",
       "\n",
       "   hours.per.week  native.country  \n",
       "0            40.0              38  \n",
       "1            40.0              38  \n",
       "2            38.0              38  \n",
       "3            40.0              38  \n",
       "4            54.0              38  "
      ]
     },
     "execution_count": 167,
     "metadata": {},
     "output_type": "execute_result"
    }
   ],
   "source": [
    "from sklearn.preprocessing import LabelEncoder\n",
    "\n",
    "cols = train.select_dtypes(include='object').columns\n",
    "\n",
    "for col in cols :\n",
    "    le = LabelEncoder()\n",
    "    train[col] = le.fit_transform(train[col])\n",
    "    test[col] = le.transform(test[col])\n",
    "\n",
    "train.head()"
   ]
  },
  {
   "cell_type": "markdown",
   "id": "29bdcfee",
   "metadata": {},
   "source": [
    "### **스케일링**\n",
    "\n",
    "\n",
    "Min-Max Scaling : 데이터를 0과 1 사이로 변환"
   ]
  },
  {
   "cell_type": "code",
   "execution_count": 168,
   "id": "d46d467b",
   "metadata": {},
   "outputs": [],
   "source": [
    "def get_df() :\n",
    "    train_copy = train.copy()\n",
    "    test_copy = test.copy()\n",
    "    return train_copy, test_copy"
   ]
  },
  {
   "cell_type": "code",
   "execution_count": 171,
   "id": "12073f32",
   "metadata": {},
   "outputs": [
    {
     "data": {
      "text/html": [
       "<div>\n",
       "<style scoped>\n",
       "    .dataframe tbody tr th:only-of-type {\n",
       "        vertical-align: middle;\n",
       "    }\n",
       "\n",
       "    .dataframe tbody tr th {\n",
       "        vertical-align: top;\n",
       "    }\n",
       "\n",
       "    .dataframe thead th {\n",
       "        text-align: right;\n",
       "    }\n",
       "</style>\n",
       "<table border=\"1\" class=\"dataframe\">\n",
       "  <thead>\n",
       "    <tr style=\"text-align: right;\">\n",
       "      <th></th>\n",
       "      <th>age</th>\n",
       "      <th>fnlwgt</th>\n",
       "      <th>education.num</th>\n",
       "      <th>capital.gain</th>\n",
       "      <th>capital.loss</th>\n",
       "      <th>hours.per.week</th>\n",
       "    </tr>\n",
       "  </thead>\n",
       "  <tbody>\n",
       "    <tr>\n",
       "      <th>0</th>\n",
       "      <td>0.232877</td>\n",
       "      <td>0.112092</td>\n",
       "      <td>0.600000</td>\n",
       "      <td>0.04386</td>\n",
       "      <td>0.000000</td>\n",
       "      <td>0.397959</td>\n",
       "    </tr>\n",
       "    <tr>\n",
       "      <th>1</th>\n",
       "      <td>0.561644</td>\n",
       "      <td>0.189060</td>\n",
       "      <td>0.533333</td>\n",
       "      <td>0.00000</td>\n",
       "      <td>0.000000</td>\n",
       "      <td>0.397959</td>\n",
       "    </tr>\n",
       "    <tr>\n",
       "      <th>2</th>\n",
       "      <td>0.424658</td>\n",
       "      <td>0.077184</td>\n",
       "      <td>0.600000</td>\n",
       "      <td>0.00000</td>\n",
       "      <td>0.383150</td>\n",
       "      <td>0.377551</td>\n",
       "    </tr>\n",
       "    <tr>\n",
       "      <th>3</th>\n",
       "      <td>0.561644</td>\n",
       "      <td>0.059785</td>\n",
       "      <td>0.600000</td>\n",
       "      <td>0.00000</td>\n",
       "      <td>0.436639</td>\n",
       "      <td>0.397959</td>\n",
       "    </tr>\n",
       "    <tr>\n",
       "      <th>4</th>\n",
       "      <td>0.328767</td>\n",
       "      <td>0.124541</td>\n",
       "      <td>0.600000</td>\n",
       "      <td>0.00000</td>\n",
       "      <td>0.000000</td>\n",
       "      <td>0.540816</td>\n",
       "    </tr>\n",
       "  </tbody>\n",
       "</table>\n",
       "</div>"
      ],
      "text/plain": [
       "        age    fnlwgt  education.num  capital.gain  capital.loss  \\\n",
       "0  0.232877  0.112092       0.600000       0.04386      0.000000   \n",
       "1  0.561644  0.189060       0.533333       0.00000      0.000000   \n",
       "2  0.424658  0.077184       0.600000       0.00000      0.383150   \n",
       "3  0.561644  0.059785       0.600000       0.00000      0.436639   \n",
       "4  0.328767  0.124541       0.600000       0.00000      0.000000   \n",
       "\n",
       "   hours.per.week  \n",
       "0        0.397959  \n",
       "1        0.397959  \n",
       "2        0.377551  \n",
       "3        0.397959  \n",
       "4        0.540816  "
      ]
     },
     "execution_count": 171,
     "metadata": {},
     "output_type": "execute_result"
    }
   ],
   "source": [
    "train_copy, test_copy = get_df()\n",
    "cols = ['age','fnlwgt','education.num','capital.gain','capital.loss','hours.per.week']\n",
    "\n",
    "from sklearn.preprocessing import MinMaxScaler\n",
    "\n",
    "scaler = MinMaxScaler()\n",
    "train_copy[cols] = scaler.fit_transform(train_copy[cols])\n",
    "test_copy[cols] = scaler.transform(test_copy[cols])\n",
    "\n",
    "train_copy[cols].head()"
   ]
  },
  {
   "cell_type": "code",
   "execution_count": 172,
   "id": "97dc8682",
   "metadata": {},
   "outputs": [
    {
     "name": "stdout",
     "output_type": "stream",
     "text": [
      "<class 'pandas.core.frame.DataFrame'>\n",
      "Index: 29301 entries, 0 to 29303\n",
      "Data columns (total 15 columns):\n",
      " #   Column          Non-Null Count  Dtype  \n",
      "---  ------          --------------  -----  \n",
      " 0   id              29301 non-null  int64  \n",
      " 1   age             29301 non-null  float64\n",
      " 2   workclass       29301 non-null  int32  \n",
      " 3   fnlwgt          29301 non-null  float64\n",
      " 4   education       29301 non-null  int32  \n",
      " 5   education.num   29301 non-null  float64\n",
      " 6   marital.status  29301 non-null  int32  \n",
      " 7   occupation      29301 non-null  int32  \n",
      " 8   relationship    29301 non-null  int32  \n",
      " 9   race            29301 non-null  int32  \n",
      " 10  sex             29301 non-null  int32  \n",
      " 11  capital.gain    29301 non-null  float64\n",
      " 12  capital.loss    29301 non-null  float64\n",
      " 13  hours.per.week  29301 non-null  float64\n",
      " 14  native.country  29301 non-null  int32  \n",
      "dtypes: float64(6), int32(8), int64(1)\n",
      "memory usage: 2.7 MB\n"
     ]
    }
   ],
   "source": [
    "train_copy.info()"
   ]
  },
  {
   "cell_type": "code",
   "execution_count": null,
   "id": "b8dc4b49",
   "metadata": {},
   "outputs": [],
   "source": []
  }
 ],
 "metadata": {
  "kernelspec": {
   "display_name": "base",
   "language": "python",
   "name": "python3"
  },
  "language_info": {
   "codemirror_mode": {
    "name": "ipython",
    "version": 3
   },
   "file_extension": ".py",
   "mimetype": "text/x-python",
   "name": "python",
   "nbconvert_exporter": "python",
   "pygments_lexer": "ipython3",
   "version": "3.12.7"
  }
 },
 "nbformat": 4,
 "nbformat_minor": 5
}
