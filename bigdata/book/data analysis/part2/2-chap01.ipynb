{
 "cells": [
  {
   "cell_type": "markdown",
   "id": "64dbd1dd",
   "metadata": {},
   "source": [
    "확인용"
   ]
  },
  {
   "cell_type": "markdown",
   "id": "97845dff",
   "metadata": {},
   "source": [
    "df"
   ]
  },
  {
   "cell_type": "code",
   "execution_count": null,
   "id": "d48d9877",
   "metadata": {},
   "outputs": [],
   "source": [
    "## 커밋 확인용임d!!"
   ]
  },
  {
   "cell_type": "code",
   "execution_count": null,
   "id": "bf56889a",
   "metadata": {},
   "outputs": [],
   "source": []
  }
 ],
 "metadata": {
  "kernelspec": {
   "display_name": "base",
   "language": "python",
   "name": "python3"
  },
  "language_info": {
   "codemirror_mode": {
    "name": "ipython",
    "version": 3
   },
   "file_extension": ".py",
   "mimetype": "text/x-python",
   "name": "python",
   "nbconvert_exporter": "python",
   "pygments_lexer": "ipython3",
   "version": "3.12.7"
  }
 },
 "nbformat": 4,
 "nbformat_minor": 5
}
