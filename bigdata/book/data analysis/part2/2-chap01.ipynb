{
 "cells": [
  {
   "cell_type": "markdown",
   "id": "64dbd1dd",
   "metadata": {},
   "source": [
    "확인용"
   ]
  },
  {
   "cell_type": "markdown",
   "id": "97845dff",
   "metadata": {},
   "source": [
    "df"
   ]
<<<<<<< HEAD
=======
  },
  {
   "cell_type": "code",
   "execution_count": 1,
   "id": "d48d9877",
   "metadata": {},
   "outputs": [],
   "source": [
    "## 커밋 확인용임"
   ]
  },
  {
   "cell_type": "code",
   "execution_count": null,
   "id": "bf56889a",
   "metadata": {},
   "outputs": [],
   "source": []
>>>>>>> f202757 (commit)
  }
 ],
 "metadata": {
  "kernelspec": {
   "display_name": "base",
   "language": "python",
   "name": "python3"
  },
  "language_info": {
<<<<<<< HEAD
   "name": "python",
=======
   "codemirror_mode": {
    "name": "ipython",
    "version": 3
   },
   "file_extension": ".py",
   "mimetype": "text/x-python",
   "name": "python",
   "nbconvert_exporter": "python",
   "pygments_lexer": "ipython3",
>>>>>>> f202757 (commit)
   "version": "3.12.7"
  }
 },
 "nbformat": 4,
 "nbformat_minor": 5
}
