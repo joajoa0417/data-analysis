{
 "cells": [
  {
   "cell_type": "markdown",
   "id": "42721c08",
   "metadata": {},
   "source": [
    "### 🧠 **머신러닝 실습 - 회귀**\n",
    "\n",
    "#### 📊 **머신러닝 절차**\n",
    "1. 문제 정의 (문제를 읽고 파악)\n",
    "2. 필요한 라이브러리 및 데이터 불러오기 (import)\n",
    "3. EDA(탐색적 데이터 분석)\n",
    "    - 데이터 샘플/크기(자료형, 통계량(수치/범주)), 결측치 확인 등\n",
    "4. 데이터 전처리 \n",
    "    - 결측치 및 이상치 처리, 인코딩, 스케일링 등\n",
    "5. 검증 데이터 나누기\n",
    "6. 모델 학습 및 평가\n",
    "7. 예측 및 결과 파일 생성\n",
    "\n",
    "---\n",
    "#### **1. 문제 정의**\n",
    "\n",
    "**[문제]**\n",
    "- 데이터 : 아울렛 매장의 제품 판매 데이터\n",
    "- 예측할 값(target) : 각 제품의 판매 금액\n",
    "    - `Item_Outlet_Sales`(판매금액) 컬럼\n",
    "- 평가 기준 : RMSE\n",
    "- 제출 파일 : 예측값만 'result2.csv' 파일로 생성함. (컬럼명: pred, 1개)"
   ]
  },
  {
   "cell_type": "markdown",
   "id": "f8d81227",
   "metadata": {},
   "source": [
    "---\n",
    "\n",
    "\n",
    "#### **2. 필요한 라이브러리 및 데이터 불러오기**"
   ]
  },
  {
   "cell_type": "code",
   "execution_count": 1,
   "id": "f7d604cb",
   "metadata": {},
   "outputs": [],
   "source": [
    "import pandas as pd\n",
    "\n",
    "train = pd.read_csv('train2.csv')\n",
    "test = pd.read_csv('test2.csv')"
   ]
  },
  {
   "cell_type": "markdown",
   "id": "688e5426",
   "metadata": {},
   "source": [
    "---\n",
    "#### **3. EDA (탐색적 데이터 분석)**"
   ]
  },
  {
   "cell_type": "code",
   "execution_count": 2,
   "id": "ff798aba",
   "metadata": {},
   "outputs": [
    {
     "name": "stdout",
     "output_type": "stream",
     "text": [
      "<class 'pandas.core.frame.DataFrame'>\n",
      "RangeIndex: 6818 entries, 0 to 6817\n",
      "Data columns (total 12 columns):\n",
      " #   Column                     Non-Null Count  Dtype  \n",
      "---  ------                     --------------  -----  \n",
      " 0   Item_Identifier            6818 non-null   object \n",
      " 1   Item_Weight                5656 non-null   float64\n",
      " 2   Item_Fat_Content           6818 non-null   object \n",
      " 3   Item_Visibility            6818 non-null   float64\n",
      " 4   Item_Type                  6818 non-null   object \n",
      " 5   Item_MRP                   6818 non-null   float64\n",
      " 6   Outlet_Identifier          6818 non-null   object \n",
      " 7   Outlet_Establishment_Year  6818 non-null   int64  \n",
      " 8   Outlet_Size                4878 non-null   object \n",
      " 9   Outlet_Location_Type       6818 non-null   object \n",
      " 10  Outlet_Type                6818 non-null   object \n",
      " 11  Item_Outlet_Sales          6818 non-null   float64\n",
      "dtypes: float64(4), int64(1), object(7)\n",
      "memory usage: 639.3+ KB\n"
     ]
    }
   ],
   "source": [
    "train.info()"
   ]
  },
  {
   "cell_type": "code",
   "execution_count": 3,
   "id": "1c9313f3",
   "metadata": {},
   "outputs": [
    {
     "name": "stdout",
     "output_type": "stream",
     "text": [
      "<class 'pandas.core.frame.DataFrame'>\n",
      "RangeIndex: 1705 entries, 0 to 1704\n",
      "Data columns (total 11 columns):\n",
      " #   Column                     Non-Null Count  Dtype  \n",
      "---  ------                     --------------  -----  \n",
      " 0   Item_Identifier            1705 non-null   object \n",
      " 1   Item_Weight                1404 non-null   float64\n",
      " 2   Item_Fat_Content           1705 non-null   object \n",
      " 3   Item_Visibility            1705 non-null   float64\n",
      " 4   Item_Type                  1705 non-null   object \n",
      " 5   Item_MRP                   1705 non-null   float64\n",
      " 6   Outlet_Identifier          1705 non-null   object \n",
      " 7   Outlet_Establishment_Year  1705 non-null   int64  \n",
      " 8   Outlet_Size                1235 non-null   object \n",
      " 9   Outlet_Location_Type       1705 non-null   object \n",
      " 10  Outlet_Type                1705 non-null   object \n",
      "dtypes: float64(3), int64(1), object(7)\n",
      "memory usage: 146.7+ KB\n"
     ]
    }
   ],
   "source": [
    "test.info()"
   ]
  },
  {
   "cell_type": "code",
   "execution_count": 4,
   "id": "7ef483d2",
   "metadata": {},
   "outputs": [
    {
     "name": "stdout",
     "output_type": "stream",
     "text": [
      "(6818, 12)\n",
      "(1705, 11)\n"
     ]
    }
   ],
   "source": [
    "print(train.shape)\n",
    "print(test.shape)"
   ]
  },
  {
   "cell_type": "code",
   "execution_count": 5,
   "id": "0a879953",
   "metadata": {},
   "outputs": [
    {
     "name": "stdout",
     "output_type": "stream",
     "text": [
      "Item_Identifier                 0\n",
      "Item_Weight                  1162\n",
      "Item_Fat_Content                0\n",
      "Item_Visibility                 0\n",
      "Item_Type                       0\n",
      "Item_MRP                        0\n",
      "Outlet_Identifier               0\n",
      "Outlet_Establishment_Year       0\n",
      "Outlet_Size                  1940\n",
      "Outlet_Location_Type            0\n",
      "Outlet_Type                     0\n",
      "Item_Outlet_Sales               0\n",
      "dtype: int64\n",
      "Item_Identifier                0\n",
      "Item_Weight                  301\n",
      "Item_Fat_Content               0\n",
      "Item_Visibility                0\n",
      "Item_Type                      0\n",
      "Item_MRP                       0\n",
      "Outlet_Identifier              0\n",
      "Outlet_Establishment_Year      0\n",
      "Outlet_Size                  470\n",
      "Outlet_Location_Type           0\n",
      "Outlet_Type                    0\n",
      "dtype: int64\n"
     ]
    }
   ],
   "source": [
    "print(train.isnull().sum())\n",
    "print(test.isnull().sum())"
   ]
  },
  {
   "cell_type": "code",
   "execution_count": 6,
   "id": "b77a67be",
   "metadata": {},
   "outputs": [
    {
     "data": {
      "text/html": [
       "<div>\n",
       "<style scoped>\n",
       "    .dataframe tbody tr th:only-of-type {\n",
       "        vertical-align: middle;\n",
       "    }\n",
       "\n",
       "    .dataframe tbody tr th {\n",
       "        vertical-align: top;\n",
       "    }\n",
       "\n",
       "    .dataframe thead th {\n",
       "        text-align: right;\n",
       "    }\n",
       "</style>\n",
       "<table border=\"1\" class=\"dataframe\">\n",
       "  <thead>\n",
       "    <tr style=\"text-align: right;\">\n",
       "      <th></th>\n",
       "      <th>Item_Weight</th>\n",
       "      <th>Item_Visibility</th>\n",
       "      <th>Item_MRP</th>\n",
       "      <th>Outlet_Establishment_Year</th>\n",
       "      <th>Item_Outlet_Sales</th>\n",
       "    </tr>\n",
       "  </thead>\n",
       "  <tbody>\n",
       "    <tr>\n",
       "      <th>count</th>\n",
       "      <td>5656.000000</td>\n",
       "      <td>6818.000000</td>\n",
       "      <td>6818.000000</td>\n",
       "      <td>6818.000000</td>\n",
       "      <td>6818.000000</td>\n",
       "    </tr>\n",
       "    <tr>\n",
       "      <th>mean</th>\n",
       "      <td>12.872703</td>\n",
       "      <td>0.066121</td>\n",
       "      <td>140.419533</td>\n",
       "      <td>1997.885890</td>\n",
       "      <td>2190.941459</td>\n",
       "    </tr>\n",
       "    <tr>\n",
       "      <th>std</th>\n",
       "      <td>4.651034</td>\n",
       "      <td>0.051383</td>\n",
       "      <td>62.067861</td>\n",
       "      <td>8.339795</td>\n",
       "      <td>1706.131256</td>\n",
       "    </tr>\n",
       "    <tr>\n",
       "      <th>min</th>\n",
       "      <td>4.555000</td>\n",
       "      <td>0.000000</td>\n",
       "      <td>31.290000</td>\n",
       "      <td>1985.000000</td>\n",
       "      <td>33.290000</td>\n",
       "    </tr>\n",
       "    <tr>\n",
       "      <th>25%</th>\n",
       "      <td>8.785000</td>\n",
       "      <td>0.026914</td>\n",
       "      <td>93.610050</td>\n",
       "      <td>1987.000000</td>\n",
       "      <td>836.577700</td>\n",
       "    </tr>\n",
       "    <tr>\n",
       "      <th>50%</th>\n",
       "      <td>12.600000</td>\n",
       "      <td>0.053799</td>\n",
       "      <td>142.448300</td>\n",
       "      <td>1999.000000</td>\n",
       "      <td>1806.648300</td>\n",
       "    </tr>\n",
       "    <tr>\n",
       "      <th>75%</th>\n",
       "      <td>17.000000</td>\n",
       "      <td>0.095273</td>\n",
       "      <td>185.060150</td>\n",
       "      <td>2004.000000</td>\n",
       "      <td>3115.944000</td>\n",
       "    </tr>\n",
       "    <tr>\n",
       "      <th>max</th>\n",
       "      <td>21.350000</td>\n",
       "      <td>0.328391</td>\n",
       "      <td>266.888400</td>\n",
       "      <td>2009.000000</td>\n",
       "      <td>13086.964800</td>\n",
       "    </tr>\n",
       "  </tbody>\n",
       "</table>\n",
       "</div>"
      ],
      "text/plain": [
       "       Item_Weight  Item_Visibility     Item_MRP  Outlet_Establishment_Year  \\\n",
       "count  5656.000000      6818.000000  6818.000000                6818.000000   \n",
       "mean     12.872703         0.066121   140.419533                1997.885890   \n",
       "std       4.651034         0.051383    62.067861                   8.339795   \n",
       "min       4.555000         0.000000    31.290000                1985.000000   \n",
       "25%       8.785000         0.026914    93.610050                1987.000000   \n",
       "50%      12.600000         0.053799   142.448300                1999.000000   \n",
       "75%      17.000000         0.095273   185.060150                2004.000000   \n",
       "max      21.350000         0.328391   266.888400                2009.000000   \n",
       "\n",
       "       Item_Outlet_Sales  \n",
       "count        6818.000000  \n",
       "mean         2190.941459  \n",
       "std          1706.131256  \n",
       "min            33.290000  \n",
       "25%           836.577700  \n",
       "50%          1806.648300  \n",
       "75%          3115.944000  \n",
       "max         13086.964800  "
      ]
     },
     "execution_count": 6,
     "metadata": {},
     "output_type": "execute_result"
    }
   ],
   "source": [
    "train.describe()"
   ]
  },
  {
   "cell_type": "markdown",
   "id": "c70714ea",
   "metadata": {},
   "source": [
    "---\n",
    "\n",
    "\n",
    "#### **4. 데이터 전처리**\n",
    "##### 스케일링 진행 전과 후의 모델 성능 비교"
   ]
  },
  {
   "cell_type": "code",
   "execution_count": 7,
   "id": "db3e1ef7",
   "metadata": {},
   "outputs": [],
   "source": [
    "## 정답 label 변수에 옮긴 후 데이터셋 병합\n",
    "y_train = train.pop('Item_Outlet_Sales')\n",
    "df = pd.concat([train, test], axis=0)\n",
    "\n",
    "## 레이블 인코딩\n",
    "from sklearn.preprocessing import LabelEncoder\n",
    "\n",
    "le = LabelEncoder()\n",
    "cols = train.select_dtypes(include='object').columns\n",
    "\n",
    "for col in cols :\n",
    "    df[col] = le.fit_transform(df[col])\n",
    "\n",
    "train = df.iloc[:len(train)].copy()\n",
    "test = df.iloc[len(train):].copy()\n",
    "\n",
    "# print(train.shape, test.shape)\n",
    "\n",
    "## 결측치 대체\n",
    "train['Item_Weight'] = train['Item_Weight'].fillna(train['Item_Weight'].mean())\n",
    "train['Outlet_Size'] = train['Outlet_Size'].fillna(train['Outlet_Size'].mode()[0])\n",
    "\n",
    "test['Item_Weight'] = test['Item_Weight'].fillna(test['Item_Weight'].mean())\n",
    "test['Outlet_Size'] = test['Outlet_Size'].fillna(test['Outlet_Size'].mode()[0])\n",
    "\n",
    "# print(train.isnull().sum())\n",
    "# print(test.isnull().sum())\n",
    "\n",
    "## 컬럼 삭제\n",
    "train.drop('Item_Identifier', axis=1, inplace=True)\n",
    "test.drop('Item_Identifier', axis=1, inplace=True)\n",
    "\n",
    "## 스케일링 (생략 가능)\n",
    "# from sklearn.preprocessing import MinMaxScaler\n",
    "\n",
    "# minmax = MinMaxScaler()\n",
    "# cols = ['Item_Weight','Item_Visibility','Item_MRP','Outlet_Establishment_Year']\n",
    "\n",
    "# train[cols] = minmax.fit_transform(train[cols])\n",
    "# test[cols] = minmax.transform(test[cols])\n"
   ]
  },
  {
   "cell_type": "markdown",
   "id": "bae030f5",
   "metadata": {},
   "source": [
    "---\n",
    "#### **5. 검증 데이터 나누기**\n"
   ]
  },
  {
   "cell_type": "code",
   "execution_count": 8,
   "id": "53b70d1c",
   "metadata": {},
   "outputs": [
    {
     "data": {
      "text/plain": [
       "((5454, 10), (1364, 10), (5454,), (1364,))"
      ]
     },
     "execution_count": 8,
     "metadata": {},
     "output_type": "execute_result"
    }
   ],
   "source": [
    "from sklearn.model_selection import train_test_split\n",
    "\n",
    "X_train, X_val, y_train, y_val = train_test_split(train, y_train, test_size=0.2, random_state=42)\n",
    "\n",
    "X_train.shape, X_val.shape, y_train.shape, y_val.shape"
   ]
  },
  {
   "cell_type": "markdown",
   "id": "1854172b",
   "metadata": {},
   "source": [
    "---\n",
    "#### **6. 머신러닝 학습 및 평가**\n",
    "- 선형 회귀\n",
    "- 랜덤 포레스트\n",
    "- LightGBM\n"
   ]
  },
  {
   "cell_type": "code",
   "execution_count": 9,
   "id": "819d2cfb",
   "metadata": {},
   "outputs": [
    {
     "name": "stdout",
     "output_type": "stream",
     "text": [
      "MSE: 1441812.6369310766\n",
      "MAE: 892.5632580973821\n",
      "R2-score: 0.5172158035423333\n",
      "RMSE: 1200.755027860003\n"
     ]
    }
   ],
   "source": [
    "## 선형 회귀\n",
    "from sklearn.linear_model import LinearRegression\n",
    "from sklearn.metrics import mean_squared_error\n",
    "from sklearn.metrics import mean_absolute_error\n",
    "from sklearn.metrics import r2_score\n",
    "from sklearn.metrics import root_mean_squared_error\n",
    "\n",
    "lr = LinearRegression()\n",
    "lr.fit(X_train, y_train)\n",
    "y_pred = lr.predict(X_val)\n",
    "\n",
    "mse = mean_squared_error(y_val, y_pred)\n",
    "print('MSE:', mse)\n",
    "\n",
    "mae = mean_absolute_error(y_val, y_pred)\n",
    "print('MAE:', mae)\n",
    "\n",
    "r2 = r2_score(y_val, y_pred)\n",
    "print('R2-score:', r2)\n",
    "\n",
    "rmse = root_mean_squared_error(y_val, y_pred)\n",
    "print('RMSE:', rmse)\n"
   ]
  },
  {
   "cell_type": "code",
   "execution_count": 10,
   "id": "81ff75c9",
   "metadata": {},
   "outputs": [
    {
     "name": "stdout",
     "output_type": "stream",
     "text": [
      "MSE: 1171518.6540172105\n",
      "MAE: 759.8072649076247\n",
      "R2-score: 0.607722475495335\n",
      "RMSE: 1082.3671530572287\n"
     ]
    }
   ],
   "source": [
    "## 랜덤 포레스트\n",
    "from sklearn.ensemble import RandomForestRegressor\n",
    "\n",
    "rf = RandomForestRegressor()\n",
    "rf.fit(X_train, y_train)\n",
    "y_pred = rf.predict(X_val)\n",
    "\n",
    "mse = mean_squared_error(y_val, y_pred)\n",
    "print('MSE:', mse)\n",
    "\n",
    "mae = mean_absolute_error(y_val, y_pred)\n",
    "print('MAE:', mae)\n",
    "\n",
    "r2 = r2_score(y_val, y_pred)\n",
    "print('R2-score:', r2)\n",
    "\n",
    "rmse = root_mean_squared_error(y_val, y_pred)\n",
    "print('RMSE:', rmse)"
   ]
  },
  {
   "cell_type": "code",
   "execution_count": 11,
   "id": "f608c142",
   "metadata": {},
   "outputs": [
    {
     "name": "stdout",
     "output_type": "stream",
     "text": [
      "MSE: 1161959.080485737\n",
      "MAE: 745.9307379894622\n",
      "R2-score: 0.6109234538386057\n",
      "RMSE: 1077.9420580373219\n"
     ]
    }
   ],
   "source": [
    "## LightGBM\n",
    "import lightgbm as lgb\n",
    "\n",
    "model = lgb.LGBMRegressor(random_state=0, verbose=-1)\n",
    "model.fit(X_train, y_train)\n",
    "y_pred = model.predict(X_val)\n",
    "\n",
    "mse = mean_squared_error(y_val, y_pred)\n",
    "print('MSE:', mse)\n",
    "\n",
    "mae = mean_absolute_error(y_val, y_pred)\n",
    "print('MAE:', mae)\n",
    "\n",
    "r2 = r2_score(y_val, y_pred)\n",
    "print('R2-score:', r2)\n",
    "\n",
    "rmse = root_mean_squared_error(y_val, y_pred)\n",
    "print('RMSE:', rmse)"
   ]
  },
  {
   "cell_type": "markdown",
   "id": "f0f52f58",
   "metadata": {},
   "source": [
    "---\n",
    "#### **7. 예측 및 결과 파일 생성**"
   ]
  },
  {
   "cell_type": "code",
   "execution_count": 12,
   "id": "df612b86",
   "metadata": {},
   "outputs": [
    {
     "data": {
      "text/plain": [
       "array([1358.60132337,  769.5869624 , 1908.01527082, ..., 4123.71144336,\n",
       "        834.65130901, 1320.83502939])"
      ]
     },
     "execution_count": 12,
     "metadata": {},
     "output_type": "execute_result"
    }
   ],
   "source": [
    "pred = model.predict(test)\n",
    "pred"
   ]
  },
  {
   "cell_type": "code",
   "execution_count": 13,
   "id": "9714509b",
   "metadata": {},
   "outputs": [],
   "source": [
    "result = pd.DataFrame({'pred':pred})\n",
    "result.to_csv('result2.csv', index=False)"
   ]
  },
  {
   "cell_type": "code",
   "execution_count": 14,
   "id": "63d45c80",
   "metadata": {},
   "outputs": [
    {
     "data": {
      "text/plain": [
       "(1705, 1)"
      ]
     },
     "execution_count": 14,
     "metadata": {},
     "output_type": "execute_result"
    }
   ],
   "source": [
    "result.shape"
   ]
  },
  {
   "cell_type": "markdown",
   "id": "703ed164",
   "metadata": {},
   "source": []
  }
 ],
 "metadata": {
  "kernelspec": {
   "display_name": "base",
   "language": "python",
   "name": "python3"
  },
  "language_info": {
   "codemirror_mode": {
    "name": "ipython",
    "version": 3
   },
   "file_extension": ".py",
   "mimetype": "text/x-python",
   "name": "python",
   "nbconvert_exporter": "python",
   "pygments_lexer": "ipython3",
   "version": "3.12.7"
  }
 },
 "nbformat": 4,
 "nbformat_minor": 5
}
