{
 "cells": [
  {
   "cell_type": "markdown",
   "id": "e82130c0",
   "metadata": {},
   "source": [
    "### **🎯 가설검정의 이해**\n",
    "**통계적 가설검정**\n",
    "- 귀무가설(H₀) : 기존에 알려진 사실\n",
    "- 대립가설(H₁) : 입증하고자 하는 가설\n",
    "\n",
    "**가설검정 프로세스**\n",
    "1. 통계적 가설설정\n",
    "- 검정하고자 하는 가설 설정\n",
    "2. 유의수준 설정\n",
    "- 유의수준 : 귀무가설을 기각하기 위해 필요한 기준값 (보통 0.05, 0.01)\n",
    "3. 검정 통계량 및 유의확률(p-value) 계산\n",
    "- 검정 통계량 : 가설을 평가하기 위해 사용되는 값\n",
    "4. 결과 도출\n",
    "- p-value < 유의수준 : 귀무가설 기각\n",
    "- p-value > 유의수준 : 귀무가설 채택\n",
    "\n",
    "\n",
    "🧪 **평균 비교 가설검정 요약표**\n",
    "\n",
    "✅ 단일 표본 검정 (1개 집단 vs 모집단 평균)\n",
    "\n",
    "| 정규성 | 사용 검정 | 함수 예시 |\n",
    "|--------|------------|-------------|\n",
    "| 만족 | 단일표본 t-검정 | `ttest_1samp()` |\n",
    "| 불만족 | 윌콕슨 부호순위 검정 | `wilcoxon()`|\n",
    "\n",
    "✅ 대응 표본 검정 (두 집단, 짝지어진 데이터)\n",
    "\n",
    "| 정규성 | 사용 검정 | 함수 예시 |\n",
    "|--------|------------|-------------|\n",
    "| 만족 | 대응표본 t-검정 | `ttest_rel()` |\n",
    "| 불만족 | 윌콕슨 부호순위 검정 | `wilcoxon()` |\n",
    "| 정규성 검정 방법 | Shapiro-Wilk 정규성 검정 | `shapiro()` |\n",
    "\n",
    "✅ 독립 표본 검정 (두 집단, 독립된 데이터)\n",
    "\n",
    "| 조건 | 정규성 | 분산 동질성 | 사용 검정 | 함수 예시 |\n",
    "|------|--------|--------------|------------|-------------|\n",
    "| 일반적 케이스 | 만족 | 만족 | 독립표본 t-검정 | `ttest_ind()` |\n",
    "| Welch 케이스 | 만족 | 불만족 | Welch의 t-검정 | `ttest_ind(equal_var=False)` |\n",
    "| 비모수 | 불만족 | - | Mann-Whitney U 검정 | `mannwhitneyu()` |\n",
    "| 정규성 검정 | - | - | Shapiro-Wilk | `shapiro()` |\n",
    "| 분산 동질성 검정 | - | - | Levene or Bartlett 검정 | `levene()`, `bartlett()` |\n",
    "---\n",
    "### **✅ 단일 표본 검정**\n",
    "#### **단일 표본 t-검정**\n",
    "- 어떤 집단의 평균이 특정 값과 유의미하게 다른지 검정.\n",
    "- 정규성을 만족할 때\n",
    "\n",
    "\n",
    "`ttest_1samp(a, popmean, alternative)`\n",
    "- a : 모집단에서 뽑은 표본 데이터\n",
    "- popmean : 비교하려는 모집단의 평균 또는 기댓값\n",
    "- alternative : 대립가설 정의 (기본적으로 양측 검정 수행)\n",
    "    - 양측 검정 : `two-sided`\n",
    "    - 단측 검정\n",
    "        - `greater` : 귀무가설의 평균보다 크다.\n",
    "        - `less` : 귀무가설의 평균보다 작다.\n",
    "\n",
    "\n",
    "μ : 모집단의 평균 / \n",
    "μ₀ : 기존에 알려진 값"
   ]
  },
  {
   "cell_type": "code",
   "execution_count": 3,
   "id": "58eca81c",
   "metadata": {},
   "outputs": [],
   "source": [
    "import pandas as pd\n",
    "\n",
    "df = pd.DataFrame({\n",
    "    'weights':[122, 121, 120, 119, 125, 115, 121, 118, 117, 127,\n",
    "           123, 129, 119, 124, 114, 126, 122, 124, 121, 116,\n",
    "           120, 123, 127, 118, 122, 117, 124, 125, 123, 121],\n",
    "})"
   ]
  },
  {
   "cell_type": "code",
   "execution_count": 7,
   "id": "d27129b1",
   "metadata": {},
   "outputs": [
    {
     "name": "stdout",
     "output_type": "stream",
     "text": [
      "t_stat: 2.1155384372682344\n",
      "p-value: 0.043092957066609296\n"
     ]
    },
    {
     "data": {
      "text/plain": [
       "TtestResult(statistic=2.1155384372682344, pvalue=0.043092957066609296, df=29)"
      ]
     },
     "execution_count": 7,
     "metadata": {},
     "output_type": "execute_result"
    }
   ],
   "source": [
    "from scipy import stats\n",
    "\n",
    "t_stat, p_value = stats.ttest_1samp(df['weights'], 120)\n",
    "print('t_stat:', t_stat)\n",
    "print('p-value:', p_value)\n",
    "\n",
    "stats.ttest_1samp(df['weights'], 120)"
   ]
  },
  {
   "cell_type": "code",
   "execution_count": 12,
   "id": "1cb0e816",
   "metadata": {},
   "outputs": [
    {
     "name": "stdout",
     "output_type": "stream",
     "text": [
      "TtestResult(statistic=2.1155384372682344, pvalue=0.021546478533304648, df=29)\n",
      "TtestResult(statistic=2.1155384372682344, pvalue=0.9784535214666953, df=29)\n"
     ]
    }
   ],
   "source": [
    "print(stats.ttest_1samp(df['weights'], 120, alternative='greater'))\n",
    "print(stats.ttest_1samp(df['weights'], 120, alternative='less'))"
   ]
  },
  {
   "cell_type": "markdown",
   "id": "de28a1bb",
   "metadata": {},
   "source": [
    "#### **Wilcoxon의 부호 순위 검정**\n",
    "\n",
    "1. `shapiro()` : 샤피로-윌크 검정, 주어진 데이터 샘플이 정규 분포를 따르는지 검정\n",
    "2. `wilcoxon()` : 데이터가 정규성 가정을 만족하지 않을 때 (비모수 검정)"
   ]
  },
  {
   "cell_type": "code",
   "execution_count": 17,
   "id": "456bdc03",
   "metadata": {},
   "outputs": [
    {
     "data": {
      "text/plain": [
       "ShapiroResult(statistic=0.9877707598413207, pvalue=0.9746408136556016)"
      ]
     },
     "execution_count": 17,
     "metadata": {},
     "output_type": "execute_result"
    }
   ],
   "source": [
    "# H₀ : 주어진 데이터는 정규분포를 따른다.\n",
    "# H₁ :            \"         따르지 않는다.\n",
    "stats.shapiro(df['weights'])\n",
    "# p-value가 0.05보다 크므로 대립가설 채택\n",
    "# 주어진 데이터 샘플은 정규성을 만족하지 않음\n",
    "# -> 윌콕슨의 부호 순위 검정"
   ]
  },
  {
   "cell_type": "code",
   "execution_count": 18,
   "id": "8cb0ac44",
   "metadata": {},
   "outputs": [
    {
     "data": {
      "text/plain": [
       "WilcoxonResult(statistic=288.0, pvalue=0.9738893363039633)"
      ]
     },
     "execution_count": 18,
     "metadata": {},
     "output_type": "execute_result"
    }
   ],
   "source": [
    "# H₀ : 중앙값이 120이다.\n",
    "# H₁ :   \"    120보다 작다.\n",
    "# 비교하는 중앙값 빼줘야 함.\n",
    "stats.wilcoxon(df['weights'] - 120, alternative='less')"
   ]
  },
  {
   "cell_type": "markdown",
   "id": "c7849fae",
   "metadata": {},
   "source": [
    "---\n",
    "### **✅ 대응 표본 검정**\n",
    "동일한 그룹(집단)에 대해 시간차를 두고 두 번의 측정 결과를 비교\n",
    "- ex) 신약의 효과가 유의미한지 확인하기 위해, 1개의 집단을 사전/사후 측정\n",
    "- `ttest_rel(a, b, alternative)`\n",
    "     - a : 첫번째 모집단에서 뽑은 표본 데이터\n",
    "     - b : 두번째 모집단에서 뽑은 표본 데이터"
   ]
  },
  {
   "cell_type": "code",
   "execution_count": 31,
   "id": "90492768",
   "metadata": {
    "vscode": {
     "languageId": "javascript"
    }
   },
   "outputs": [],
   "source": [
    "import pandas as pd\n",
    "\n",
    "df = pd.DataFrame({\n",
    "    'before':[85, 90, 92, 88, 86, 89, 83, 87],\n",
    "    'after':[85.5,89.9,92.6,89.5,85.8,88.8,84.6,87.8]\n",
    "})"
   ]
  },
  {
   "cell_type": "code",
   "execution_count": 32,
   "id": "f235636e",
   "metadata": {},
   "outputs": [
    {
     "data": {
      "text/plain": [
       "TtestResult(statistic=-2.2127749675452324, pvalue=0.03127028733756238, df=7)"
      ]
     },
     "execution_count": 32,
     "metadata": {},
     "output_type": "execute_result"
    }
   ],
   "source": [
    "from scipy import stats\n",
    "\n",
    "stats.ttest_rel(df['before'], df['after'], alternative='less')"
   ]
  },
  {
   "cell_type": "markdown",
   "id": "68f24800",
   "metadata": {},
   "source": [
    "정규 분포를 따른다고 명시적으로 언급되지 않았을 경우, 정규성 검정 실시\n",
    "\n",
    "\n",
    "1. 샤피로-윌크 검정 : 데이터의 정규성을 평가\n",
    "2. 윌콕슨 부호 순위 검정 : 데이터가 정규성을 만족하지 않을 때 "
   ]
  },
  {
   "cell_type": "code",
   "execution_count": 33,
   "id": "440756fe",
   "metadata": {},
   "outputs": [],
   "source": [
    "import pandas as pd\n",
    "\n",
    "df = pd.DataFrame({\n",
    "    'before':[85, 90, 92, 88, 86, 89, 83, 87],\n",
    "    'after':[86, 92, 94, 89, 84, 90, 84, 88]\n",
    "})"
   ]
  },
  {
   "cell_type": "code",
   "execution_count": 29,
   "id": "93311cd2",
   "metadata": {},
   "outputs": [
    {
     "name": "stdout",
     "output_type": "stream",
     "text": [
      "ShapiroResult(statistic=0.6886147375920879, pvalue=0.0016734051223900109)\n",
      "WilcoxonResult(statistic=29.0, pvalue=0.07421875)\n"
     ]
    }
   ],
   "source": [
    "from scipy import stats\n",
    "\n",
    "print(stats.shapiro(df['after'] - df['before']))\n",
    "print(stats.wilcoxon(df['after'] - df['before'], alternative='greater'))"
   ]
  },
  {
   "cell_type": "markdown",
   "id": "0c215ea0",
   "metadata": {},
   "source": [
    "---\n",
    "### **✅ 독립 표본 검정**\n",
    "두 그룹(표본)간의 평균이 서로 다름을 판단하는 통계 방법\n",
    "- `ttest_ind(a, b, alternative, equal_var)`\n",
    "    - `equal_var`\n",
    "        - True : 두 모집단의 분산이 같다고 가정\n",
    "        - False : 두 모집단의 분산이 다르다고 가정"
   ]
  },
  {
   "cell_type": "code",
   "execution_count": 44,
   "id": "79952129",
   "metadata": {},
   "outputs": [],
   "source": [
    "class1 = [85, 90, 92, 88, 86, 89, 83, 87]\n",
    "class2 = [80, 82, 88, 85, 84]     "
   ]
  },
  {
   "cell_type": "code",
   "execution_count": 36,
   "id": "f4168363",
   "metadata": {},
   "outputs": [
    {
     "data": {
      "text/plain": [
       "TtestResult(statistic=2.1818699281825236, pvalue=0.059589330071355334, df=8.272682358753572)"
      ]
     },
     "execution_count": 36,
     "metadata": {},
     "output_type": "execute_result"
    }
   ],
   "source": [
    "from scipy import stats\n",
    "\n",
    "stats.ttest_ind(class1, class2, equal_var=False)"
   ]
  },
  {
   "cell_type": "markdown",
   "id": "aae76c2b",
   "metadata": {},
   "source": [
    "두 집단의 데이터가 등분산성을 갖는지 확인해야 함.\n",
    "1. `shaprio()` : 정규성 검정\n",
    "    - 데이터가 정규성을 만족하지 않을 경우, `mannwhitneyu()` 검정 실시.\n",
    "2. `levene()` : 등분산성 검정 "
   ]
  },
  {
   "cell_type": "markdown",
   "id": "1b80f610",
   "metadata": {},
   "source": [
    "모수 검정\n",
    "\n",
    "\n",
    "\n",
    "H₀ : 반별 수학 평균 점수는 같다.\n",
    "H₁ : class2의 수학 평균 점수가 더 높다.\n",
    " "
   ]
  },
  {
   "cell_type": "code",
   "execution_count": 43,
   "id": "db3ca05e",
   "metadata": {},
   "outputs": [],
   "source": [
    "# class1과 class2의 평균 점수 차이가 있는지 가설검정\n",
    "class1 = [85, 90, 92, 88, 86, 89, 83, 87]\n",
    "class2 = [80, 82, 88, 85, 84]"
   ]
  },
  {
   "cell_type": "code",
   "execution_count": 38,
   "id": "727a929b",
   "metadata": {},
   "outputs": [
    {
     "name": "stdout",
     "output_type": "stream",
     "text": [
      "ShapiroResult(statistic=0.9981893537736595, pvalue=0.999986994137081)\n",
      "ShapiroResult(statistic=0.9917398436295009, pvalue=0.9854182266624983)\n"
     ]
    }
   ],
   "source": [
    "from scipy import stats\n",
    "\n",
    "print(stats.shapiro(class1)) # 정규성 검정\n",
    "print(stats.shapiro(class2))"
   ]
  },
  {
   "cell_type": "code",
   "execution_count": 40,
   "id": "c2f5f8bf",
   "metadata": {},
   "outputs": [
    {
     "name": "stdout",
     "output_type": "stream",
     "text": [
      "LeveneResult(statistic=0.0027925869510027727, pvalue=0.958802951766629)\n"
     ]
    }
   ],
   "source": [
    "print(stats.levene(class1, class2)) # 등분산성 검정"
   ]
  },
  {
   "cell_type": "code",
   "execution_count": 41,
   "id": "8f32f9c1",
   "metadata": {},
   "outputs": [
    {
     "data": {
      "text/plain": [
       "TtestResult(statistic=2.2108140580092237, pvalue=0.9754257110537391, df=11.0)"
      ]
     },
     "execution_count": 41,
     "metadata": {},
     "output_type": "execute_result"
    }
   ],
   "source": [
    "stats.ttest_ind(class1, class2, alternative='less', equal_var=True)"
   ]
  },
  {
   "cell_type": "markdown",
   "id": "6142afef",
   "metadata": {},
   "source": [
    "비모수 검정"
   ]
  },
  {
   "cell_type": "code",
   "execution_count": 46,
   "id": "33d9ca97",
   "metadata": {},
   "outputs": [],
   "source": [
    "class1 = [85, 90, 92, 88, 86, 89, 83, 87]\n",
    "class2 = [80, 82, 88, 85, 130]"
   ]
  },
  {
   "cell_type": "code",
   "execution_count": 47,
   "id": "250b9de5",
   "metadata": {},
   "outputs": [
    {
     "name": "stdout",
     "output_type": "stream",
     "text": [
      "ShapiroResult(statistic=0.9981893537736595, pvalue=0.999986994137081)\n",
      "ShapiroResult(statistic=0.6880497349322277, pvalue=0.007151570728885509)\n"
     ]
    }
   ],
   "source": [
    "from scipy import stats\n",
    "\n",
    "print(stats.shapiro(class1))\n",
    "print(stats.shapiro(class2))"
   ]
  },
  {
   "cell_type": "code",
   "execution_count": 48,
   "id": "51195ea0",
   "metadata": {},
   "outputs": [
    {
     "name": "stdout",
     "output_type": "stream",
     "text": [
      "MannwhitneyuResult(statistic=26.0, pvalue=0.8299904236851448)\n"
     ]
    }
   ],
   "source": [
    "print(stats.mannwhitneyu(class1, class2, alternative='less'))"
   ]
  }
 ],
 "metadata": {
  "kernelspec": {
   "display_name": "base",
   "language": "python",
   "name": "python3"
  },
  "language_info": {
   "codemirror_mode": {
    "name": "ipython",
    "version": 3
   },
   "file_extension": ".py",
   "mimetype": "text/x-python",
   "name": "python",
   "nbconvert_exporter": "python",
   "pygments_lexer": "ipython3",
   "version": "3.12.7"
  }
 },
 "nbformat": 4,
 "nbformat_minor": 5
}
