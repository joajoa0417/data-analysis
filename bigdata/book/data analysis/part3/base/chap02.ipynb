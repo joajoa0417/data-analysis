{
 "cells": [
  {
   "cell_type": "markdown",
   "id": "b4f0de95",
   "metadata": {},
   "source": [
    "### **일원 분산 분석 (One-way ANOVA)**\n",
    "- 3개 이상의 집단 간의 평균 차이가 통계적으로 유의한지 검정\n",
    "- 집단을 나누는 요인 1개, 집단의 수가 3개 이상일 때\n",
    "\n",
    "\n",
    "`scipy.stats.f_oneway(sample1, sample2, sample3, ...)`"
   ]
  },
  {
   "cell_type": "code",
   "execution_count": 1,
   "id": "d32a4c2d",
   "metadata": {},
   "outputs": [],
   "source": [
    "import pandas as pd\n",
    "df = pd.DataFrame({\n",
    "    'A': [10.5, 11.3, 10.8, 9.6, 11.1, 10.2, 10.9, 11.4, 10.5, 10.3],\n",
    "    'B': [11.9, 12.4, 12.1, 13.2, 12.5, 11.8, 12.2, 12.9, 12.4, 12.3],\n",
    "    'C': [11.2, 11.7, 11.6, 10.9, 11.3, 11.1, 10.8, 11.5, 11.4, 11.0],\n",
    "    'D': [9.8, 9.4, 9.1, 9.5, 9.6, 9.9, 9.2, 9.7, 9.3, 9.4]\n",
    "})"
   ]
  },
  {
   "cell_type": "code",
   "execution_count": 5,
   "id": "69903319",
   "metadata": {},
   "outputs": [
    {
     "name": "stdout",
     "output_type": "stream",
     "text": [
      "====== 정규성 검정 ======\n",
      "ShapiroResult(statistic=0.9649054066073813, pvalue=0.8400161543468654)\n",
      "ShapiroResult(statistic=0.9468040874196029, pvalue=0.6308700692815115)\n",
      "ShapiroResult(statistic=0.9701646110856055, pvalue=0.892367306190296)\n",
      "ShapiroResult(statistic=0.9752339025839644, pvalue=0.9346854448707653)\n",
      "\n",
      "====== 등분산성 검정 ======\n",
      "LeveneResult(statistic=1.9355354288758708, pvalue=0.14127835331346628)\n",
      "\n",
      "====== 일원 분산 분석 ======\n",
      "F_onewayResult(statistic=89.12613851177174, pvalue=1.001838152252373e-16)\n"
     ]
    }
   ],
   "source": [
    "from scipy import stats\n",
    "\n",
    "## 정규성 검정\n",
    "print('====== 정규성 검정 ======')\n",
    "print(stats.shapiro(df['A']))\n",
    "print(stats.shapiro(df['B']))\n",
    "print(stats.shapiro(df['C']))\n",
    "print(stats.shapiro(df['D']))\n",
    "\n",
    "## 등분산성 검정\n",
    "print('\\n====== 등분산성 검정 ======')\n",
    "print(stats.levene(df['A'], df['B'], df['C'], df['D']))\n",
    "\n",
    "## 일원 분산 분석\n",
    "print('\\n====== 일원 분산 분석 ======')\n",
    "print(stats.f_oneway(df['A'], df['B'], df['C'], df['D']))"
   ]
  },
  {
   "cell_type": "code",
   "execution_count": 7,
   "id": "67bc3258",
   "metadata": {},
   "outputs": [
    {
     "name": "stdout",
     "output_type": "stream",
     "text": [
      "            df    sum_sq    mean_sq          F        PR(>F)\n",
      "C(비료)      3.0  43.21875  14.406250  89.126139  1.001838e-16\n",
      "Residual  36.0   5.81900   0.161639        NaN           NaN\n"
     ]
    }
   ],
   "source": [
    "## 방법 2\n",
    "import pandas as pd\n",
    "from statsmodels.formula.api import ols\n",
    "from statsmodels.stats.anova import anova_lm\n",
    "\n",
    "df = pd.read_csv('fertilizer.csv')\n",
    "model = ols('성장 ~C(비료)', df).fit()\n",
    "print(anova_lm(model))"
   ]
  },
  {
   "cell_type": "markdown",
   "id": "a8d28ebb",
   "metadata": {},
   "source": [
    "---\n",
    "### **이원 분산 분석 (Two-way ANOVA)**\n",
    "- 요인의 수가 2개\n",
    "- model = `ols(종속변수 ~C(요인1) + C(요인2) + C(요인1):C(요인2)).fit()`\n",
    "\n",
    "\n",
    "            `anova_lm(model, typ=1(or 2, 3))`"
   ]
  },
  {
   "cell_type": "code",
   "execution_count": 8,
   "id": "88639143",
   "metadata": {},
   "outputs": [
    {
     "data": {
      "text/html": [
       "<div>\n",
       "<style scoped>\n",
       "    .dataframe tbody tr th:only-of-type {\n",
       "        vertical-align: middle;\n",
       "    }\n",
       "\n",
       "    .dataframe tbody tr th {\n",
       "        vertical-align: top;\n",
       "    }\n",
       "\n",
       "    .dataframe thead th {\n",
       "        text-align: right;\n",
       "    }\n",
       "</style>\n",
       "<table border=\"1\" class=\"dataframe\">\n",
       "  <thead>\n",
       "    <tr style=\"text-align: right;\">\n",
       "      <th></th>\n",
       "      <th>df</th>\n",
       "      <th>sum_sq</th>\n",
       "      <th>mean_sq</th>\n",
       "      <th>F</th>\n",
       "      <th>PR(&gt;F)</th>\n",
       "    </tr>\n",
       "  </thead>\n",
       "  <tbody>\n",
       "    <tr>\n",
       "      <th>C(나무)</th>\n",
       "      <td>3.0</td>\n",
       "      <td>4783.353938</td>\n",
       "      <td>1594.451313</td>\n",
       "      <td>18.855528</td>\n",
       "      <td>6.600012e-10</td>\n",
       "    </tr>\n",
       "    <tr>\n",
       "      <th>C(비료)</th>\n",
       "      <td>2.0</td>\n",
       "      <td>1127.924259</td>\n",
       "      <td>563.962129</td>\n",
       "      <td>6.669256</td>\n",
       "      <td>1.857612e-03</td>\n",
       "    </tr>\n",
       "    <tr>\n",
       "      <th>C(나무):C(비료)</th>\n",
       "      <td>6.0</td>\n",
       "      <td>717.520672</td>\n",
       "      <td>119.586779</td>\n",
       "      <td>1.414199</td>\n",
       "      <td>2.157357e-01</td>\n",
       "    </tr>\n",
       "    <tr>\n",
       "      <th>Residual</th>\n",
       "      <td>108.0</td>\n",
       "      <td>9132.639448</td>\n",
       "      <td>84.561476</td>\n",
       "      <td>NaN</td>\n",
       "      <td>NaN</td>\n",
       "    </tr>\n",
       "  </tbody>\n",
       "</table>\n",
       "</div>"
      ],
      "text/plain": [
       "                df       sum_sq      mean_sq          F        PR(>F)\n",
       "C(나무)          3.0  4783.353938  1594.451313  18.855528  6.600012e-10\n",
       "C(비료)          2.0  1127.924259   563.962129   6.669256  1.857612e-03\n",
       "C(나무):C(비료)    6.0   717.520672   119.586779   1.414199  2.157357e-01\n",
       "Residual     108.0  9132.639448    84.561476        NaN           NaN"
      ]
     },
     "execution_count": 8,
     "metadata": {},
     "output_type": "execute_result"
    }
   ],
   "source": [
    "import pandas as pd\n",
    "from statsmodels.formula.api import ols\n",
    "\n",
    "df = pd.read_csv('tree.csv')\n",
    "model = ols('성장률 ~C(나무) + C(비료) + C(나무):C(비료)', df).fit()\n",
    "anova_lm(model)"
   ]
  },
  {
   "cell_type": "code",
   "execution_count": null,
   "id": "203c6778",
   "metadata": {},
   "outputs": [],
   "source": []
  }
 ],
 "metadata": {
  "kernelspec": {
   "display_name": "base",
   "language": "python",
   "name": "python3"
  },
  "language_info": {
   "codemirror_mode": {
    "name": "ipython",
    "version": 3
   },
   "file_extension": ".py",
   "mimetype": "text/x-python",
   "name": "python",
   "nbconvert_exporter": "python",
   "pygments_lexer": "ipython3",
   "version": "3.12.7"
  }
 },
 "nbformat": 4,
 "nbformat_minor": 5
}
