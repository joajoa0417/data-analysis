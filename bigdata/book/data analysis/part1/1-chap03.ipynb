{
 "cells": [
  {
   "cell_type": "markdown",
   "id": "63ba2698-da44-4ca6-967e-0b6b8363d31f",
   "metadata": {},
   "source": [
    "### **Pandas 작업형 문제 1**\n",
    "### **'type1_data1.csv' 이용**\n",
    "#### 왜 각 cell마다 `get_df()`를 쓰는가?\n",
    "- 하나의 데이터프레임을 가지고 다양한 작업을 하므로, 원본 데이터가 손상되지 않도록 하기 위함\n",
    "- `df.copy()`로 df를 복사한 데이터프레임을 새로운 변수에 할당함으로 원본 데이터는 변동 x\n",
    "---"
   ]
  },
  {
   "cell_type": "code",
   "execution_count": 2,
   "id": "1088386c-c1cd-4ea9-9d49-eed85e15eb4a",
   "metadata": {},
   "outputs": [],
   "source": [
    "import pandas as pd\n",
    "import numpy as np"
   ]
  },
  {
   "cell_type": "code",
   "execution_count": 3,
   "id": "a5c47f01-9fdd-430f-95ff-1eec94602578",
   "metadata": {},
   "outputs": [],
   "source": [
    "def get_df() :\n",
    "    return pd.read_csv('type1_data1.csv')"
   ]
  },
  {
   "cell_type": "code",
   "execution_count": 4,
   "id": "0d94a269-e544-4f0c-b585-1db7d18395fd",
   "metadata": {},
   "outputs": [
    {
     "name": "stdout",
     "output_type": "stream",
     "text": [
      "5924\n"
     ]
    }
   ],
   "source": [
    "## 01\n",
    "\n",
    "df = get_df()\n",
    "df2 = df.copy()\n",
    "\n",
    "# 0 제외\n",
    "cond = df2['f5'] != 0\n",
    "df2 = df2.loc[cond]\n",
    "\n",
    "# 'views' 컬럼 결측치 최솟값으로 채우기\n",
    "df2['views'] = df2['views'].fillna(df2['views'].min())\n",
    "\n",
    "# 'views' 컬럼 중앙값 정수로 계산\n",
    "print(int(df2['views'].median()))"
   ]
  },
  {
   "cell_type": "code",
   "execution_count": 5,
   "id": "77d401a8-9ff6-4cb4-b258-deb3f479e098",
   "metadata": {},
   "outputs": [
    {
     "data": {
      "text/plain": [
       "17"
      ]
     },
     "execution_count": 5,
     "metadata": {},
     "output_type": "execute_result"
    }
   ],
   "source": [
    "## 02\n",
    "\n",
    "df = get_df()\n",
    "df2 = df.copy()\n",
    "\n",
    "# 'subscribed' 컬럼에서 가장 빈도수가 많은 날짜 구하기\n",
    "day = df2['subscribed'].mode()[0]\n",
    "\n",
    "# 해당 날짜의 일 값을 정수로 구하기\n",
    "int(day[8:])"
   ]
  },
  {
   "cell_type": "code",
   "execution_count": 6,
   "id": "26a9a9ea-61c0-4d49-b4ca-9f064f4743fd",
   "metadata": {},
   "outputs": [
    {
     "data": {
      "text/plain": [
       "22"
      ]
     },
     "execution_count": 6,
     "metadata": {},
     "output_type": "execute_result"
    }
   ],
   "source": [
    "## 03\n",
    "\n",
    "df = get_df()\n",
    "df2 = df.copy()\n",
    "\n",
    "# 결측치가 있는 데이터 제거\n",
    "df2 = df2.dropna()\n",
    "\n",
    "# 'views' 컬럼을 'f1' 컬럼으로 나눈 값을 새로운 컬럼으로 추가\n",
    "df2['new_col'] = df2['views'] / df2['f1']\n",
    "\n",
    "# 새로운 컬럼 값 중 가장 큰 값을 가진 행의 age를 정수로 구하기\n",
    "df2 = df2.sort_values('new_col', ascending=False)\n",
    "int(df2.iloc[0,1])"
   ]
  },
  {
   "cell_type": "code",
   "execution_count": 7,
   "id": "a9b5df23-e8f8-42df-886a-67224d57046f",
   "metadata": {},
   "outputs": [
    {
     "data": {
      "text/plain": [
       "652812"
      ]
     },
     "execution_count": 7,
     "metadata": {},
     "output_type": "execute_result"
    }
   ],
   "source": [
    "## 04\n",
    "\n",
    "df2 = df.copy()\n",
    "\n",
    "# 'views' 컬럼의 결측 데이터를 0으로 대체\n",
    "df2['views'] = df2['views'].fillna(0)\n",
    "\n",
    "# 'views' 컬럼의 상위 10번째 값 구하기\n",
    "df2 = df2.sort_values('views', ascending=False)\n",
    "\n",
    "# 'views' 컬럼에서 상위 10개의 값을 상위 10번째 값으로 대체하기\n",
    "min_views = df2.iloc[:10]['views'].min()\n",
    "df2.loc[df2.index[:10], 'views'] = min_views\n",
    "\n",
    "# 'views' 컬럼의 전체 합을 정수로 구하기\n",
    "int(df2['views'].sum())"
   ]
  },
  {
   "cell_type": "code",
   "execution_count": 8,
   "id": "8d201f58-04b5-4302-863a-1bcd2f13d3fc",
   "metadata": {},
   "outputs": [
    {
     "data": {
      "text/plain": [
       "0.61"
      ]
     },
     "execution_count": 8,
     "metadata": {},
     "output_type": "execute_result"
    }
   ],
   "source": [
    "## 05\n",
    "\n",
    "df = get_df()\n",
    "df2 = df.copy()\n",
    "\n",
    "# 'f4' 컬럼에서 'FJ'가 포함된 데이터 찾기\n",
    "f4_fj = df2[df2['f4'].str.contains('FJ')]\n",
    "\n",
    "# 해당 데이터 중에서 'f2' 컬럼의 평균값 구하기\n",
    "round(f4_fj['f2'].mean(), 2)"
   ]
  },
  {
   "cell_type": "code",
   "execution_count": 9,
   "id": "9c2be370-5fbc-4adf-b604-340b9bddd486",
   "metadata": {},
   "outputs": [
    {
     "data": {
      "text/plain": [
       "235.43"
      ]
     },
     "execution_count": 9,
     "metadata": {},
     "output_type": "execute_result"
    }
   ],
   "source": [
    "## 06\n",
    "\n",
    "df = get_df()\n",
    "df2 = df.copy()\n",
    "\n",
    "# 'f3' 컬럼이 gold이면서 'f2' 컬럼이 2인 데이터 찾기\n",
    "cond = (df2['f3'] == 'gold') & (df2['f2'] == 2)\n",
    "\n",
    "# 찾은 데이터에서 'f1' 컬럼의 분산 구하기(소수점 둘째 자리까지)\n",
    "round(df2[cond]['f1'].var(), 2)"
   ]
  },
  {
   "cell_type": "code",
   "execution_count": 10,
   "id": "d9acd92f-01b0-4dfc-9330-2567b5ff6f2b",
   "metadata": {},
   "outputs": [
    {
     "name": "stdout",
     "output_type": "stream",
     "text": [
      "263.13\n"
     ]
    }
   ],
   "source": [
    "## 07\n",
    "\n",
    "df = get_df()\n",
    "df2 = df.copy()\n",
    "\n",
    "# 모든 age에 1 더하기\n",
    "df2['age'] = df2['age'] + 1\n",
    "\n",
    "# 20대의 'views' 평균과 30대의 'views' 평균의 차이의 절댓값 구하기(소수점 둘째 자리까지)\n",
    "cond1 = (df2['age'] >= 20) & (df2['age'] < 30)\n",
    "cond2 = (df2['age'] >= 30) & (df2['age'] < 40)\n",
    "\n",
    "result = abs(df2[cond1]['views'].mean() - df2[cond2]['views'].mean())\n",
    "print(round(result, 2))"
   ]
  },
  {
   "cell_type": "code",
   "execution_count": 11,
   "id": "67b7a7c1-4fa7-43f2-b315-b17097cae68e",
   "metadata": {},
   "outputs": [
    {
     "data": {
      "text/plain": [
       "5"
      ]
     },
     "execution_count": 11,
     "metadata": {},
     "output_type": "execute_result"
    }
   ],
   "source": [
    "## 08 -- 풀이 1\n",
    "\n",
    "df = get_df()\n",
    "df2 = df.copy()\n",
    "\n",
    "# 'subscribed' 컬럼이 2024년 2월인 데이터 찾기\n",
    "df2 = df2.loc[df2['subscribed'].str.contains('2024-02')]\n",
    "\n",
    "# 해당 데이터 중 'f3' 컬럼이 gold인 데이터 개수 구하기\n",
    "len(df2.loc[df2['f3'] == 'gold'])"
   ]
  },
  {
   "cell_type": "code",
   "execution_count": 12,
   "id": "2ad0981b-2c59-4422-b41f-99c6973e33b9",
   "metadata": {},
   "outputs": [
    {
     "data": {
      "text/plain": [
       "5"
      ]
     },
     "execution_count": 12,
     "metadata": {},
     "output_type": "execute_result"
    }
   ],
   "source": [
    "## 08 -- 풀이 2\n",
    "\n",
    "df = get_df()\n",
    "df2 = df.copy()\n",
    "\n",
    "# 'subscribed' 컬럼이 2024년 2월인 데이터 찾기\n",
    "df2['subscribed'] = pd.to_datetime(df2['subscribed'])\n",
    "\n",
    "df2['year'] = df2['subscribed'].dt.year\n",
    "df2['month'] = df2['subscribed'].dt.month\n",
    "\n",
    "# 해당 데이터 중 'f3' 컬럼이 gold인 데이터 개수 구하기\n",
    "len(df2.loc[(df2['year'] == 2024) & (df2['month'] == 2) & (df2['f3'] == 'gold')])"
   ]
  },
  {
   "cell_type": "code",
   "execution_count": 13,
   "id": "964c72a2-742a-4e06-aff8-b64ab7cbca9d",
   "metadata": {},
   "outputs": [
    {
     "data": {
      "text/plain": [
       "'ISFJ'"
      ]
     },
     "execution_count": 13,
     "metadata": {},
     "output_type": "execute_result"
    }
   ],
   "source": [
    "## 09\n",
    "\n",
    "df = get_df()\n",
    "df2 = df.copy()\n",
    "\n",
    "# 'views' 컬럼 값이 1000 이하인 데이터 찾기(결측치 제외)\n",
    "df2 = df2[df2['views'] <= 1000]\n",
    "\n",
    "# 해당 데이터 중 'f4' 컬럼의 최빈값 구하기\n",
    "df2['f4'].mode()[0]\n",
    "# 또는 df2['f4'].value_counts().index[0]"
   ]
  },
  {
   "cell_type": "code",
   "execution_count": 14,
   "id": "67fbc964-3ad6-41c3-993d-4e65d72685ca",
   "metadata": {},
   "outputs": [
    {
     "data": {
      "text/plain": [
       "'서울'"
      ]
     },
     "execution_count": 14,
     "metadata": {},
     "output_type": "execute_result"
    }
   ],
   "source": [
    "## 10\n",
    "\n",
    "df = get_df()\n",
    "df2 = df.copy()\n",
    "\n",
    "# 결측치 있는 행 삭제\n",
    "df2 = df2.dropna()\n",
    "\n",
    "# 결측치가 삭제된 데이터를 사용하여 지역별(city) 평균 계산\n",
    "df2 = df2.groupby('city').mean(numeric_only=True)\n",
    "\n",
    "# 해당 데이터에서 'f2' 컬럼 값이 가장 큰 지역 구하기\n",
    "df2.sort_values('f2', ascending=False).index[0]\n",
    "# 또는 df2['f2'].idxmax()"
   ]
  },
  {
   "cell_type": "code",
   "execution_count": 15,
   "id": "09ff3848-4ad5-4c3c-a95d-883ae98e64a8",
   "metadata": {},
   "outputs": [
    {
     "data": {
      "text/plain": [
       "2771"
      ]
     },
     "execution_count": 15,
     "metadata": {},
     "output_type": "execute_result"
    }
   ],
   "source": [
    "## 11\n",
    "\n",
    "df = get_df()\n",
    "df2 = df.copy()\n",
    "\n",
    "# 결측치 있는 행 삭제\n",
    "df2 = df2.dropna()\n",
    "\n",
    "# 해당 데이터의 앞부터 70% 데이터 구하기\n",
    "per_70 = int(len(df2) * 0.7)\n",
    "df2 = df2.iloc[:per_70]\n",
    "\n",
    "# 해당 데이터 중 'views'컬럼의 3사분위수에서 1사분위수를 뺀 값을 정수로 구하기\n",
    "int(df2['views'].quantile(0.75) - df2['views'].quantile(0.25))"
   ]
  },
  {
   "cell_type": "markdown",
   "id": "5356a82d-6fce-43a1-98d4-d8a3858badbd",
   "metadata": {},
   "source": [
    "**`df2 = df2.iloc[:per_70]` 에서 loc가 아닌 iloc를 사용하는 이유**\n",
    "\n",
    "\n",
    "\n",
    "`loc[]` 는 index 번호를 포함한다. 주어진 df2는 결측치가 있는 행을 제거하여 index가 연속된 수로 형성되어 있지 않음.\n",
    "\n",
    "\n",
    "\n",
    "따라서 `iloc[]` 를 사용하여 슬라이싱 해야 함."
   ]
  },
  {
   "cell_type": "code",
   "execution_count": 16,
   "id": "f1abe33b-37bc-4f8f-b533-5946d99916f6",
   "metadata": {},
   "outputs": [
    {
     "data": {
      "text/plain": [
       "63"
      ]
     },
     "execution_count": 16,
     "metadata": {},
     "output_type": "execute_result"
    }
   ],
   "source": [
    "## 12\n",
    "\n",
    "df = get_df()\n",
    "df2 = df.copy()\n",
    "\n",
    "# 결측치가 가장 많은 두 컬럼 찾기\n",
    "df2.isnull().sum().sort_values(ascending=False)\n",
    "\n",
    "# 첫 번째로 결측치가 많은 컬럼에서 결측치 행 제거\n",
    "df2 = df2.dropna(subset=['f1'])\n",
    "\n",
    "# 두 번째로 결측치가 많은 컬럼은 최빈값으로 대체\n",
    "df2['f3'] = df2['f3'].fillna(df2['f3'].mode()[0])\n",
    "\n",
    "# 'f3' 컬럼의 'gold' 값을 가진 데이터의 수를 정수형으로 구하기\n",
    "int(len(df2[df2['f3'] == 'gold']))"
   ]
  },
  {
   "cell_type": "code",
   "execution_count": 17,
   "id": "91995d97-bd4c-473a-8faf-950cb01f1985",
   "metadata": {},
   "outputs": [
    {
     "data": {
      "text/plain": [
       "53.6"
      ]
     },
     "execution_count": 17,
     "metadata": {},
     "output_type": "execute_result"
    }
   ],
   "source": [
    "## 13\n",
    "\n",
    "df = get_df()\n",
    "df2 = df.copy()\n",
    "\n",
    "# 'f1' 컬럼에 결측치가 있는 데이터만 선택\n",
    "df2 = df2.loc[df2['f1'].isnull()]\n",
    "\n",
    "# 해당 데이터에서 'age' 컬럼의 평균값 구하기(소수점 첫째 자리까지)\n",
    "round(df2['age'].mean(), 1)"
   ]
  },
  {
   "cell_type": "code",
   "execution_count": 18,
   "id": "763048f6-d87d-43ca-a4d2-96d1c9df0120",
   "metadata": {},
   "outputs": [
    {
     "data": {
      "text/plain": [
       "167"
      ]
     },
     "execution_count": 18,
     "metadata": {},
     "output_type": "execute_result"
    }
   ],
   "source": [
    "## 14\n",
    "\n",
    "df = get_df()\n",
    "df2 = df.copy()\n",
    "\n",
    "# 중복 데이터 제거\n",
    "df2 = df2.drop_duplicates()\n",
    "\n",
    "# 'f3' 컬럼의 결측치는 0, 'silver'는 1, 'gold'는 2, 'vip'는 3으로 변환하기\n",
    "# df2['f3'] = df2['f3'].replace(np.NaN, 0).replace('silver', 1).replace('gold', 2).replace('vip', 3)\n",
    "# ----↓----------↓---------↓---------\n",
    "## 아래 코드가 더 간결하고 정확함\n",
    "dic = {np.NaN: 0, 'silver': 1, 'gold': 2, 'vip': 3}\n",
    "df2['f3'] = df2['f3'].map(dic)\n",
    "\n",
    "# 변환된 'f3' 컬럼의 총합 정수형으로 구하기\n",
    "int(df2['f3'].sum())"
   ]
  },
  {
   "cell_type": "code",
   "execution_count": 19,
   "id": "51e695c3-1a5c-474c-9e6d-0f243a94cff7",
   "metadata": {},
   "outputs": [
    {
     "data": {
      "text/plain": [
       "88"
      ]
     },
     "execution_count": 19,
     "metadata": {},
     "output_type": "execute_result"
    }
   ],
   "source": [
    "## 15 -- 풀이 1\n",
    "\n",
    "df = get_df()\n",
    "df2 = df.copy()\n",
    "\n",
    "# 문자 자료형 컬럼 삭제\n",
    "df2 = df2.drop(columns=df2.select_dtypes(include=object))\n",
    "# df2 = df2.select_dtypes(exclude=object) # 문자 자료형 컬럼을 제외한 행만 선택\n",
    "\n",
    "# 숫자 자료형 컬럼의 결측치를 0으로 대체\n",
    "df2 = df2.fillna(0)\n",
    "\n",
    "# 각 행의 합이 3000보다 큰 값의 개수를 정수로 구하기\n",
    "# df2['sum'] = df2['age'] + df2['f1'] + df2['f2'] + df2['f5'] + df2['views']\n",
    "df2['sum'] = df2.sum(axis=1)\n",
    "int(len(df2.loc[df2['sum'] >= 3000]))"
   ]
  },
  {
   "cell_type": "code",
   "execution_count": 20,
   "id": "273558f2-9b5b-435f-9125-29accc159834",
   "metadata": {},
   "outputs": [
    {
     "data": {
      "text/plain": [
       "88"
      ]
     },
     "execution_count": 20,
     "metadata": {},
     "output_type": "execute_result"
    }
   ],
   "source": [
    "## 15 -- 풀이 2\n",
    "\n",
    "df = get_df()\n",
    "df2 = df.copy()\n",
    "\n",
    "# 문자 자료형 컬럼 삭제\n",
    "df2 = df2.drop(columns=df2.select_dtypes(include=object))\n",
    "# df2 = df2.select_dtypes(exclude=object) # 문자 자료형 컬럼을 제외한 행만 선택\n",
    "\n",
    "# 숫자 자료형 컬럼의 결측치를 0으로 대체\n",
    "df2 = df2.fillna(0)\n",
    "\n",
    "# 각 행의 합이 3000보다 큰 값의 개수를 정수로 구하기\n",
    "df2 = df2.T # 행, 열 전치\n",
    "sum(df2.sum() > 3000)"
   ]
  },
  {
   "cell_type": "markdown",
   "id": "3bea051a-1653-4d6e-bfed-4c438bf6ee6c",
   "metadata": {},
   "source": [
    "각 행의 합을 더하는 방법에는 3가지가 있다.\n",
    "1. 각 컬럼명을 하나하나 입력하여 더한 값을 새로운 컬럼명에 저장하기.\n",
    "2. **축을 설정하여 행끼리 더하기.**\n",
    "3. 행과 열을 전치하여 `sum()` 함수로 열끼리 더하기.\n",
    "\n",
    "축을 설정하는 방법에는 2가지가 있다.\n",
    "1. `axis=0` --> 기본값. 열의 합 (세로 방향으로 더함)\n",
    "2. `axis=1` --> 행의 합 (가로 방향으로 더함)"
   ]
  },
  {
   "cell_type": "code",
   "execution_count": 21,
   "id": "62ef4d3e-f43f-4811-bbc1-be065b9b8276",
   "metadata": {},
   "outputs": [
    {
     "data": {
      "text/plain": [
       "77699"
      ]
     },
     "execution_count": 21,
     "metadata": {},
     "output_type": "execute_result"
    }
   ],
   "source": [
    "## 16\n",
    "\n",
    "df = get_df()\n",
    "df2 = df.copy()\n",
    "\n",
    "#'views'컬럼의 1사분위수, 3사분위수, IQR 계산하기\n",
    "q1 = df['views'].quantile(.25)\n",
    "q3 = df['views'].quantile(.75)\n",
    "iqr = q3 - q1\n",
    "\n",
    "# 이상치 조건에 맞는 데이터 찾기\n",
    "# (이상치: 1사분위수 - (IQR * 1.5)보다 작은 값, 3사분위수 + (IQR * 1.5)보다 큰 값)\n",
    "data1 = q1 - iqr * 1.5\n",
    "data2 = q3 + iqr * 1.5\n",
    "\n",
    "cond1 = df2['views'] < data1\n",
    "cond2 = df2['views'] > data2\n",
    "df2 = df2[cond1 | cond2]\n",
    "\n",
    "# 이상치 데이터의 'views' 컬럼 합 정수로 구하기\n",
    "int(df2['views'].sum())"
   ]
  },
  {
   "cell_type": "code",
   "execution_count": 22,
   "id": "07f44b20-e18a-4ab7-a2b4-2b540810b6fd",
   "metadata": {},
   "outputs": [
    {
     "data": {
      "text/plain": [
       "8297.31"
      ]
     },
     "execution_count": 22,
     "metadata": {},
     "output_type": "execute_result"
    }
   ],
   "source": [
    "## 17\n",
    "\n",
    "df = get_df()\n",
    "df2 = df.copy()\n",
    "\n",
    "# 'views' 컬럼의 표준편차 구하기\n",
    "std_be = df2['views'].std()\n",
    "\n",
    "# 'age' 컬럼의 이상치(소수점 나이, 음수 나이, 0살) 제거 후, 'views' 컬럼의 표준편차 구하기\n",
    "df2 = df2[df2['age'] > 0] # 음수, 0살 제거\n",
    "df2 = df2[df2['age'].apply(float.is_integer)] # 소수점 나이 제거\n",
    "# 또는 filter_age = df2['age'] == round(df2['age'], 0)\n",
    "#      df2 = df2[filter_age]\n",
    "std_af = df2['views'].std()\n",
    "\n",
    "# 이상치 제거 전후의 'views' 컬럼의 표준편차를 더해, 반올림 후 소수점 둘째 자리까지 구하기\n",
    "round(std_be + std_af, 2)"
   ]
  },
  {
   "cell_type": "markdown",
   "id": "e91aceaf-47fd-481c-af19-363442b03040",
   "metadata": {},
   "source": [
    "`filter_age = df2['age'] == round(df2['age'], 0)`\n",
    "\n",
    "\n",
    "\n",
    "`df2 = df2[filter_age]`\n",
    "\n",
    "=> 반올림한 값이 현재 값과 같으면 정수 나이라고 판단.\n",
    "\n",
    "\n",
    "ex) 23.4를 반올림한 값은 23.0, 23.4 != 23.0 이므로 소수점 나이라고 판별 가능 "
   ]
  },
  {
   "cell_type": "code",
   "execution_count": 23,
   "id": "d2ca5b54-1010-4031-9507-960f947be793",
   "metadata": {},
   "outputs": [
    {
     "data": {
      "text/plain": [
       "'경기'"
      ]
     },
     "execution_count": 23,
     "metadata": {},
     "output_type": "execute_result"
    }
   ],
   "source": [
    "## 19\n",
    "\n",
    "df = get_df()\n",
    "df2 = df.copy()\n",
    "\n",
    "# 결측치를 바로 뒤에 있는 값으로 대체\n",
    "# (뒤 값도 결측치일 경우, 뒤에 있는 데이터 중 가장 가까운 데이터 값으로 대체)\n",
    "df2 = df2.bfill()\n",
    "# df2.fillna(method='bfill') 도 가능하지만 위 코드를 권장\n",
    "\n",
    "# 'city'와 'f2' 컬럼을 기준으로 그룹합 계산\n",
    "df2 = df2.groupby(['city','f2']).sum(numeric_only=True).reset_index()\n",
    "\n",
    "# 'views' 값이 세 번째로 큰 city 이름 구하기\n",
    "df2.sort_values('views',ascending=False).city[2]"
   ]
  },
  {
   "cell_type": "code",
   "execution_count": 24,
   "id": "bee142f5",
   "metadata": {},
   "outputs": [
    {
     "data": {
      "text/plain": [
       "11"
      ]
     },
     "execution_count": 24,
     "metadata": {},
     "output_type": "execute_result"
    }
   ],
   "source": [
    "## 20\n",
    "\n",
    "df = get_df()\n",
    "df2 = df.copy()\n",
    "\n",
    "# 연도 구분 없이 월별로 숫자형 컬럼 합 구하기\n",
    "df2['month'] = pd.to_datetime(df2['subscribed']).dt.month\n",
    "df2 = df2.groupby('month').sum(numeric_only=True)\n",
    "\n",
    "# 합계 중 'views'가 가장 작은 값을 가진 월을 정수로 구하기\n",
    "df2.sort_values('views').index[0]"
   ]
  },
  {
   "cell_type": "markdown",
   "id": "2662e2d0-135e-46b3-a963-86ff25d58ecb",
   "metadata": {},
   "source": [
    "---\n",
    "### **type1_data2.csv 이용**"
   ]
  },
  {
   "cell_type": "code",
   "execution_count": 25,
   "id": "30210be1-4622-4c45-b7c1-55f4aaa67a06",
   "metadata": {},
   "outputs": [],
   "source": [
    "def get_df() :\n",
    "    return pd.read_csv('type1_data2.csv', index_col='year')"
   ]
  },
  {
   "cell_type": "code",
   "execution_count": 26,
   "id": "3be76ff7-7742-4230-8466-ad2e7f5641fd",
   "metadata": {},
   "outputs": [
    {
     "data": {
      "text/plain": [
       "202"
      ]
     },
     "execution_count": 26,
     "metadata": {},
     "output_type": "execute_result"
    }
   ],
   "source": [
    "## 18\n",
    "\n",
    "df = get_df()\n",
    "df2 = df.copy()\n",
    "\n",
    "# index '2001' 데이터에서 평균보다 큰 값의 개수 구하기\n",
    "mean_2001 = df2.loc[2001].mean()\n",
    "sum1 = sum(df2.loc[2001] > mean_2001)\n",
    "\n",
    "# index '2003' 데이터에서 평균보다 작은 값의 개수 구하기\n",
    "mean_2003 = df2.loc[2003].mean()\n",
    "sum2 = sum(df2.loc[2003] < mean_2003)\n",
    "\n",
    "# 두 개수 더하기 \n",
    "sum1 + sum2"
   ]
  },
  {
   "cell_type": "markdown",
   "id": "a70809d9",
   "metadata": {},
   "source": [
    "---\n",
    "### **delivery_time.csv 이용**"
   ]
  },
  {
   "cell_type": "code",
   "execution_count": 27,
   "id": "e7765162",
   "metadata": {},
   "outputs": [],
   "source": [
    "def get_df() :\n",
    "    return pd.read_csv('delivery_time.csv')"
   ]
  },
  {
   "cell_type": "code",
   "execution_count": 28,
   "id": "9d532d20",
   "metadata": {},
   "outputs": [
    {
     "data": {
      "text/plain": [
       "311"
      ]
     },
     "execution_count": 28,
     "metadata": {},
     "output_type": "execute_result"
    }
   ],
   "source": [
    "## 21\n",
    "\n",
    "df = get_df()\n",
    "df2 = df.copy()\n",
    "\n",
    "# '예상도착시간'보다 늦게 도착한 건수 구하기\n",
    "cols = ['주문시간','실제도착시간','예상도착시간']\n",
    "df2[cols] = df2[cols].apply(pd.to_datetime)\n",
    "\n",
    "df2 = df2.loc[df2['예상도착시간'] < df2['실제도착시간']]\n",
    "\n",
    "# 해당 데이터 중 거리가 7km 이상인 데이터의 수 정수로 구하기\n",
    "len(df2[df2['거리'] > 7])"
   ]
  },
  {
   "cell_type": "code",
   "execution_count": 29,
   "id": "d6260b85",
   "metadata": {},
   "outputs": [
    {
     "name": "stdout",
     "output_type": "stream",
     "text": [
      "62\n"
     ]
    }
   ],
   "source": [
    "## 22\n",
    "\n",
    "df = get_df()\n",
    "df2 = df.copy()\n",
    "\n",
    "# '주문시간'과 '실제도착시간'의 차이 분 단위로 계산\n",
    "df2['주문시간'] = pd.to_datetime(df2['주문시간'])\n",
    "df2['실제도착시간'] = pd.to_datetime(df2['실제도착시간'])\n",
    "\n",
    "df2['diff'] = (df2['실제도착시간'] - df2['주문시간']).dt.total_seconds() / 60\n",
    "\n",
    "# 앱 종류별 평균 도착 시간 계산\n",
    "df2 = df2.groupby('앱종류')['diff'].mean()\n",
    "\n",
    "# 평균적으로 가장 빠른 앱 종류 찾고, 해당 앱의 평균 도착 시간 반올림하여 정수로 구하기\n",
    "print(round(df2.min()))"
   ]
  },
  {
   "cell_type": "code",
   "execution_count": 30,
   "id": "cb963326",
   "metadata": {},
   "outputs": [
    {
     "data": {
      "text/plain": [
       "0.56"
      ]
     },
     "execution_count": 30,
     "metadata": {},
     "output_type": "execute_result"
    }
   ],
   "source": [
    "## 23\n",
    "\n",
    "df = get_df()\n",
    "df2 = df.copy()\n",
    "\n",
    "# 각 '결제종류'별로 '실제도착시간'이 '예상도착시간'보다 늦은 주문의 비율 계산하기\n",
    "df2['실제도착시간'] = pd.to_datetime(df2['실제도착시간'])\n",
    "df2['예상도착시간'] = pd.to_datetime(df2['예상도착시간'])\n",
    "\n",
    "df2['지연시간'] = (df2['실제도착시간'] - df2['예상도착시간']).dt.total_seconds() / 60\n",
    "df2['지연여부'] = df2['지연시간'] > 0\n",
    "\n",
    "# 비율 중 가장 큰 값을 반올림하여 소수 둘째 자리까지 구하기\n",
    "round(df2.groupby('결제종류')['지연여부'].mean().values[0], 2)"
   ]
  },
  {
   "cell_type": "code",
   "execution_count": 31,
   "id": "1684a2ab",
   "metadata": {},
   "outputs": [
    {
     "name": "stderr",
     "output_type": "stream",
     "text": [
      "C:\\Users\\joajo\\AppData\\Local\\Temp\\ipykernel_24036\\1996285722.py:13: FutureWarning: Series.__getitem__ treating keys as positions is deprecated. In a future version, integer keys will always be treated as labels (consistent with DataFrame behavior). To access a value by position, use `ser.iloc[pos]`\n",
      "  new_df2['결제종류'].value_counts()[0]\n"
     ]
    },
    {
     "data": {
      "text/plain": [
       "48"
      ]
     },
     "execution_count": 31,
     "metadata": {},
     "output_type": "execute_result"
    }
   ],
   "source": [
    "## 24\n",
    "\n",
    "df = get_df()\n",
    "df2 = df.copy()\n",
    "\n",
    "# 사용자별 주문 거리의 합계가 50km 이상인 사람들의 결제방식 구하기\n",
    "distance = df2.groupby('user')['거리'].sum()\n",
    "cond = distance >= 50\n",
    "distance = distance[cond]\n",
    "\n",
    "# 가장 빈도가 많은 결제방식 개수 구하기\n",
    "new_df2 = df2[df2['user'].isin(distance.index)]\n",
    "new_df2['결제종류'].value_counts()[0]"
   ]
  },
  {
   "cell_type": "code",
   "execution_count": 32,
   "id": "2aac9d60",
   "metadata": {},
   "outputs": [
    {
     "data": {
      "text/plain": [
       "146"
      ]
     },
     "execution_count": 32,
     "metadata": {},
     "output_type": "execute_result"
    }
   ],
   "source": [
    "## 25\n",
    "\n",
    "df = get_df()\n",
    "df2 = df.copy()\n",
    "\n",
    "# 각 사용자별 첫 주문과 마지막 주문 사이의 시간 간격을 일 단위로 계산\n",
    "df2['주문시간'] = pd.to_datetime(df2['주문시간'])\n",
    "\n",
    "first_order = df2.groupby('user')['주문시간'].min()\n",
    "last_order = df2.groupby('user')['주문시간'].max()\n",
    "\n",
    "diff = (last_order - first_order).dt.days\n",
    "\n",
    "# 시간차가 0일인 사용자를 제외하고, 나머지 사용자들의 평균 시간 간격(일 단위) 계산하기\n",
    "cond = diff == 0\n",
    "mean_time = diff[~cond].mean()\n",
    "\n",
    "# 평균 시간 간격보다 긴 시간 간격을 가진 사용자의 수를 정수로 구하기\n",
    "len(diff[diff > mean_time])"
   ]
  },
  {
   "cell_type": "code",
   "execution_count": 33,
   "id": "a87e8864",
   "metadata": {},
   "outputs": [
    {
     "data": {
      "text/plain": [
       "0.31"
      ]
     },
     "execution_count": 33,
     "metadata": {},
     "output_type": "execute_result"
    }
   ],
   "source": [
    "## 26\n",
    "\n",
    "df = get_df()\n",
    "df2 = df.copy()\n",
    "\n",
    "# 주문이 가장 많이 발생한 연-월 구하기\n",
    "df2['주문시간'] = pd.to_datetime(df2['주문시간'])\n",
    "df2['year_month'] = df2['주문시간'].dt.to_period('M')\n",
    "high_ym = df2['year_month'].value_counts().idxmax()\n",
    "\n",
    "# 해당 연-월에 '배고팡' 앱을 통한 주문 중, '앱결제'로 결제된 주문의 비율 구하기 (소수점 둘째 자리까지)\n",
    "cond1 = df2['year_month'] == high_ym\n",
    "cond2 = df2['앱종류'] == '배고팡'\n",
    "df2 = df2[cond1 & cond2]\n",
    "\n",
    "round(len(df2.loc[df2['결제종류'] == '앱결제']) / len(df2), 2)"
   ]
  },
  {
   "cell_type": "code",
   "execution_count": 34,
   "id": "d40e67a8",
   "metadata": {},
   "outputs": [
    {
     "data": {
      "text/plain": [
       "1"
      ]
     },
     "execution_count": 34,
     "metadata": {},
     "output_type": "execute_result"
    }
   ],
   "source": [
    "## 27\n",
    "\n",
    "df = get_df()\n",
    "df2 = df.copy()\n",
    "\n",
    "# 점심시간(10-13시)에 주문된 배달 데이터 찾기\n",
    "df2['주문시간'] = pd.to_datetime(df2['주문시간'])\n",
    "df2['실제도착시간'] = pd.to_datetime(df2['실제도착시간'])\n",
    "\n",
    "df2['시간'] = df2['주문시간'].dt.hour\n",
    "cond = (df2['시간'] >= 10) & (df2['시간'] <= 13)\n",
    "df2 = df2[cond]\n",
    "\n",
    "# 점심시간 주문 건 중 과속(평균 속도가 50km/h 이상)하는 주문 수를 정수로 구하기\n",
    "df2['배달시간'] = (df2['실제도착시간'] - df2['주문시간']).dt.total_seconds() / 60 / 60\n",
    "df2['시속'] = df2['거리'] /df2['배달시간']\n",
    "len(df2.loc[df2['시속'] >= 50])"
   ]
  },
  {
   "cell_type": "code",
   "execution_count": 35,
   "id": "08700167",
   "metadata": {},
   "outputs": [
    {
     "data": {
      "text/plain": [
       "'202209'"
      ]
     },
     "execution_count": 35,
     "metadata": {},
     "output_type": "execute_result"
    }
   ],
   "source": [
    "## 28\n",
    "\n",
    "df = get_df()\n",
    "df2 = df.copy()\n",
    "\n",
    "# 연도와 월을 기준으로 주문 수 집계하기\n",
    "df2['주문시간'] = pd.to_datetime(df2['주문시간'])\n",
    "df2['연월'] = df2['주문시간'].dt.to_period('M')\n",
    "order_ym = df2.value_counts('연월').index[0]\n",
    "\n",
    "# 가장 많은 주문이 있었던 연도와 월을 숫자로만 구하기 (ex. 202410)\n",
    "str(order_ym).replace(\"-\", \"\")"
   ]
  },
  {
   "cell_type": "code",
   "execution_count": 36,
   "id": "e7829e3b",
   "metadata": {},
   "outputs": [
    {
     "data": {
      "text/plain": [
       "448000"
      ]
     },
     "execution_count": 36,
     "metadata": {},
     "output_type": "execute_result"
    }
   ],
   "source": [
    "## 29\n",
    "\n",
    "df = get_df()\n",
    "df2 = df.copy()\n",
    "\n",
    "# 배달료 계산 기준표에 따라 각 주문에 대한 배달료 계산하기\n",
    "def delivery_distance(distance) :\n",
    "    if distance < 5 : return 2000\n",
    "    elif distance >= 5 and distance < 10 : return 4000 # elif distance < 10도 가능.\n",
    "    elif distance >= 10 and distance < 15 : return 6000\n",
    "    else : return 8000\n",
    "\n",
    "df2['배달료'] = df2['거리'].apply(delivery_distance)\n",
    "\n",
    "# 월별 배달료의 총합 집계하기\n",
    "df2['주문월'] = pd.to_datetime(df2['주문시간']).dt.month\n",
    "df2 = df2.groupby('주문월')['배달료'].sum()\n",
    "\n",
    "# 배달료가 가장 많이 발생한 월을 찾고, 그 월의 총 배달료를 정수로 구하기\n",
    "month = df2.sort_values(ascending=False).idxmax()\n",
    "df2[month]"
   ]
  },
  {
   "cell_type": "markdown",
   "id": "53de5df6",
   "metadata": {},
   "source": [
    "**배달료 기준표**\n",
    "|거리|비용|\n",
    "|---|---|\n",
    "|5km 미만|2,000원|\n",
    "|5km 이상~10km 미만|4,000원|\n",
    "|10km 이상~15km 미만|6,000원|\n",
    "15km 이상~20km 미만| 8,000원|"
   ]
  },
  {
   "cell_type": "code",
   "execution_count": 42,
   "id": "6a2293a0",
   "metadata": {},
   "outputs": [
    {
     "data": {
      "text/plain": [
       "412"
      ]
     },
     "execution_count": 42,
     "metadata": {},
     "output_type": "execute_result"
    }
   ],
   "source": [
    "## 30\n",
    "\n",
    "df = get_df()\n",
    "df2 = df.copy()\n",
    "\n",
    "# 주말 주문 건수와 평일 주문 건수 구하기\n",
    "df2['평일/주말'] = pd.to_datetime(df2['주문시간']).dt.dayofweek\n",
    "df2['주말'] = df2['평일/주말'] >= 5\n",
    "\n",
    "# 주말 주문 건수와 평일 주문 건수의 차이를 절대값으로 구하고 정수형으로 구하기\n",
    "abs(len(df2[df2['주말'] == False]) - len(df2[df2['주말'] == True]))"
   ]
  },
  {
   "cell_type": "markdown",
   "id": "af6115d8",
   "metadata": {},
   "source": [
    "**주말과 평일을 구분하는 함수**\n",
    "\n",
    "\n",
    "`dt.dayofweek`\n",
    "\n",
    "\n",
    "0 : 월 / 1 : 화 / 2 : 수 / 3 : 목 / 4 : 금 / 5 : 토 / 6 : 일"
   ]
  },
  {
   "cell_type": "code",
   "execution_count": 56,
   "id": "937abe78",
   "metadata": {},
   "outputs": [
    {
     "data": {
      "text/plain": [
       "261387"
      ]
     },
     "execution_count": 56,
     "metadata": {},
     "output_type": "execute_result"
    }
   ],
   "source": [
    "## 31\n",
    "\n",
    "# 'user' 컬럼에서 user 뒤에 있는 숫자 값만 추출하기\n",
    "df2['user_num'] = df2['user'].str.split('_').str[1].astype(int)\n",
    "\n",
    "# 추출된 숫자 값을 모두 합한 값을 정수로 구하기\n",
    "df2['user_num'].sum()"
   ]
  },
  {
   "cell_type": "markdown",
   "id": "234f5d74",
   "metadata": {},
   "source": [
    "---\n",
    "### **school_data.csv 이용**"
   ]
  },
  {
   "cell_type": "code",
   "execution_count": 75,
   "id": "69a8ecd8",
   "metadata": {},
   "outputs": [],
   "source": [
    "def get_df() :\n",
    "    return pd.read_csv('school_data.csv')\n",
    "\n",
    "def get_df_sc() :\n",
    "    return pd.read_csv('school_data_science.csv')\n",
    "\n",
    "def get_df_so() :\n",
    "    return pd.read_csv('school_data_social.csv')"
   ]
  },
  {
   "cell_type": "code",
   "execution_count": 69,
   "id": "2d37c6da",
   "metadata": {},
   "outputs": [
    {
     "data": {
      "text/plain": [
       "82"
      ]
     },
     "execution_count": 69,
     "metadata": {},
     "output_type": "execute_result"
    }
   ],
   "source": [
    "## 32\n",
    "\n",
    "df = get_df()\n",
    "df2 = df.copy()\n",
    "\n",
    "# 수학, 영어, 국어 점수의 합 구하기\n",
    "df2['sum'] = df2['수학'] + df2['영어'] + df2['국어']\n",
    "\n",
    "# 합이 가장 큰 상위 10명 찾기\n",
    "df2 = df2.sort_values('sum', ascending=False)[:10]\n",
    "\n",
    "# 찾은 10명의 수학 평균 점수 구하기 (반올림 후 정수 출력)\n",
    "int(round(df2['수학'].sum() / 10, 0))"
   ]
  },
  {
   "cell_type": "markdown",
   "id": "6351933f",
   "metadata": {},
   "source": [
    "`nlargest()` : `nlargest(10, sum)`\n",
    "- sum 열을 기준으로 상위 10명 선택 \n",
    "\n",
    "\n",
    "`nsmallest()` : `nsmallest(10, sum)`\n",
    "- sum 열을 기준으로 하위 10명 선택"
   ]
  },
  {
   "cell_type": "code",
   "execution_count": 74,
   "id": "46bbc751",
   "metadata": {},
   "outputs": [
    {
     "data": {
      "text/plain": [
       "420"
      ]
     },
     "execution_count": 74,
     "metadata": {},
     "output_type": "execute_result"
    }
   ],
   "source": [
    "## 33\n",
    "\n",
    "df = get_df()\n",
    "df2 = df.copy()\n",
    "\n",
    "# 과목에 상관없이 점수가 가장 작은 점수 25개 찾기\n",
    "df2 = df2.melt(id_vars=['이름'], value_vars=['수학', '영어', '국어'])\n",
    "df2 = df2.sort_values('value')[:25]\n",
    "\n",
    "# 찾은 점수 25개의 합을 정수로 구하기\n",
    "df2['value'].sum()\n"
   ]
  },
  {
   "cell_type": "code",
   "execution_count": 86,
   "id": "b9ab00d6",
   "metadata": {},
   "outputs": [
    {
     "data": {
      "text/plain": [
       "9"
      ]
     },
     "execution_count": 86,
     "metadata": {},
     "output_type": "execute_result"
    }
   ],
   "source": [
    "## 34\n",
    "\n",
    "df = get_df()\n",
    "df2 = df.copy()\n",
    "\n",
    "df_sc = get_df_sc()\n",
    "df_sc2 = df_sc.copy()\n",
    "\n",
    "# 주어진 두 파일을 학생 순서를 기준으로 병합하기\n",
    "df_merge = pd.concat([df2, df_sc2], axis=1)\n",
    "\n",
    "# 학생별 수학, 영어, 국어, 과학 점수 평균 구하기\n",
    "df_mean = df_merge.sum(axis=1, numeric_only=True) / 4\n",
    "\n",
    "# 평균 점수가 60점 이상인 인원 수 계산하기\n",
    "len(df_mean[df_mean >= 60])"
   ]
  },
  {
   "cell_type": "code",
   "execution_count": 98,
   "id": "44fd30d2",
   "metadata": {},
   "outputs": [
    {
     "data": {
      "text/plain": [
       "602"
      ]
     },
     "execution_count": 98,
     "metadata": {},
     "output_type": "execute_result"
    }
   ],
   "source": [
    "## 35\n",
    "\n",
    "df = get_df()\n",
    "df2 = df.copy()\n",
    "\n",
    "df_so = get_df_so()\n",
    "df_so2 = df_so.copy()\n",
    "\n",
    "# 두 파일을 '이름' 기준으로 합치기\n",
    "df_merge2 = pd.merge(df2, df_so2, on='이름')\n",
    "\n",
    "# 영어교사가 장선생이면서 사회교사가 오선생인 학생들 필터링하기\n",
    "cond1 = df_merge2['영어교사'] == '장선생'\n",
    "cond2 = df_merge2['사회교사'] == '오선생'\n",
    "\n",
    "df_merge2 = df_merge2[cond1 & cond2]\n",
    "\n",
    "# 필터링된 학생들의 수학 점수를 모두 더한 후 정수로 구하기\n",
    "df_merge2['수학'].sum()"
   ]
  },
  {
   "cell_type": "markdown",
   "id": "2fd3a753",
   "metadata": {},
   "source": [
    "---\n",
    "### **sales.csv 이용**"
   ]
  },
  {
   "cell_type": "code",
   "execution_count": 99,
   "id": "19ae1752",
   "metadata": {},
   "outputs": [],
   "source": [
    "def get_df() :\n",
    "    return pd.read_csv('sales.csv')"
   ]
  },
  {
   "cell_type": "code",
   "execution_count": 109,
   "id": "979709f4",
   "metadata": {},
   "outputs": [
    {
     "data": {
      "text/plain": [
       "103"
      ]
     },
     "execution_count": 109,
     "metadata": {},
     "output_type": "execute_result"
    }
   ],
   "source": [
    "## 36\n",
    "\n",
    "df = get_df()\n",
    "df2 = df.copy()\n",
    "\n",
    "# 결측된 판매금액은 해당 지역의 평균 판매금액으로 결측값 대체하기\n",
    "df2['지역평균판매금액'] = df2.groupby('지역코드')['판매금액'].transform('mean')\n",
    "df2['판매금액'] = df2['판매금액'].fillna(df2['지역평균판매금액'])\n",
    "df2\n",
    "\n",
    "# 각 거래마다 '판매금액'과 해당 지역의 평균 판매금액의 '차이'를 절댓값으로 구하기\n",
    "df2['차이'] = abs(df2['판매금액'] - df2['지역평균판매금액'])\n",
    "\n",
    "# 각 지역에서 차이값의 평균을 구한 후, 이 값이 가장 큰 지역의 지역코드 구하기\n",
    "df2.groupby('지역코드')['차이'].mean().idxmax()"
   ]
  },
  {
   "cell_type": "markdown",
   "id": "684f8f7a",
   "metadata": {},
   "source": [
    "---\n",
    "### **store_sales.csv 이용**"
   ]
  },
  {
   "cell_type": "code",
   "execution_count": 110,
   "id": "c3b94887",
   "metadata": {},
   "outputs": [],
   "source": [
    "def get_df() :\n",
    "    return pd.read_csv('store_sales.csv')"
   ]
  },
  {
   "cell_type": "code",
   "execution_count": 121,
   "id": "72063e33",
   "metadata": {},
   "outputs": [
    {
     "data": {
      "text/plain": [
       "241975"
      ]
     },
     "execution_count": 121,
     "metadata": {},
     "output_type": "execute_result"
    }
   ],
   "source": [
    "## 37\n",
    "\n",
    "df = get_df()\n",
    "df2 = df.copy()\n",
    "\n",
    "# 각 행에서 판매수량과 단가를 이용하여 매출액 계산하기\n",
    "df2['매출액'] = df2['판매수량'] * df2['단가']\n",
    "\n",
    "# 요일을 평일과 주말로 구분하고, 매장별 평일과 주말 매출액 합계 구하기\n",
    "days = {'월':'평일', '화':'평일', '수':'평일', '목':'평일', '금':'평일', '토':'주말', '일':'주말'}\n",
    "df2['평일/주말'] = df2['요일'].map(days)\n",
    "\n",
    "# 매장별 평일과 주말 매출액 차이를 절댓값으로 구하기\n",
    "df2_diff = df2.groupby(['매장코드','평일/주말'])['매출액'].sum().unstack()\n",
    "df2_diff['차이'] = abs(df2_diff['평일'] - df2_diff['주말'])\n",
    "\n",
    "# 이후 모든 매장 중 가장 큰 절댓값 차이 찾기 \n",
    "df2_diff['차이'].max()"
   ]
  },
  {
   "cell_type": "markdown",
   "id": "3bc5899f",
   "metadata": {},
   "source": [
    "---\n",
    "### **region_sales.csv 이용**"
   ]
  },
  {
   "cell_type": "code",
   "execution_count": 122,
   "id": "53c5962a",
   "metadata": {},
   "outputs": [],
   "source": [
    "def get_df() :\n",
    "    return pd.read_csv('region_sales.csv')"
   ]
  },
  {
   "cell_type": "code",
   "execution_count": 129,
   "id": "96216a1d",
   "metadata": {},
   "outputs": [
    {
     "data": {
      "text/plain": [
       "0.51"
      ]
     },
     "execution_count": 129,
     "metadata": {},
     "output_type": "execute_result"
    }
   ],
   "source": [
    "## 38\n",
    "\n",
    "df = get_df()\n",
    "df2 = df.copy()\n",
    "\n",
    "# 각 Region과 Channel 조합별로 product A, B의 총 판매액 계산하기\n",
    "df2_prod = df2.pivot_table(index=['Region','Channel'],\n",
    "               columns='Product', values='Sales', aggfunc='sum')\n",
    "\n",
    "# 제품 A의 매출 비율 구하기 (제품 A 판매액/(제품 A 판매액 + 제품 B 판매액))\n",
    "df2_prod['A비율'] = df2_prod['A'] / (df2_prod['A'] + df2_prod['B'])\n",
    "\n",
    "# A 비율 중 최댓값을 찾아 반올림하여 소수 둘째 자리까지 구하기\n",
    "round(df2_prod['A비율'].max(), 2)"
   ]
  },
  {
   "cell_type": "markdown",
   "id": "eac09381",
   "metadata": {},
   "source": [
    "---\n",
    "### **monthly_sales.csv 이용**"
   ]
  },
  {
   "cell_type": "code",
   "execution_count": 130,
   "id": "f4371f4f",
   "metadata": {},
   "outputs": [],
   "source": [
    "def get_df() :\n",
    "    return pd.read_csv('monthly_sales.csv')"
   ]
  },
  {
   "cell_type": "code",
   "execution_count": 143,
   "id": "d3b8f757",
   "metadata": {},
   "outputs": [
    {
     "data": {
      "text/plain": [
       "6"
      ]
     },
     "execution_count": 143,
     "metadata": {},
     "output_type": "execute_result"
    }
   ],
   "source": [
    "## 39\n",
    "\n",
    "df = get_df()\n",
    "df2 = df.copy()\n",
    "\n",
    "# Region과 월(Jan, Feb, Mar)별 매출 합계를 구하기\n",
    "df2 = df2.melt(id_vars='Region',\n",
    "         value_vars=['Jan','Feb','Mar'],\n",
    "         var_name='Month',\n",
    "         value_name='Sales')\n",
    "\n",
    "df2 = df2.pivot_table(index='Region', columns='Month', values='Sales', aggfunc='sum')\n",
    "\n",
    "# 위 결과 중, Sales가 1400을 초과하는 경우가 몇 건인지 구하기\n",
    "(df2.values > 1400).sum()"
   ]
  },
  {
   "cell_type": "code",
   "execution_count": null,
   "id": "cc0b0de8",
   "metadata": {},
   "outputs": [],
   "source": []
  }
 ],
 "metadata": {
  "kernelspec": {
   "display_name": "base",
   "language": "python",
   "name": "python3"
  },
  "language_info": {
   "codemirror_mode": {
    "name": "ipython",
    "version": 3
   },
   "file_extension": ".py",
   "mimetype": "text/x-python",
   "name": "python",
   "nbconvert_exporter": "python",
   "pygments_lexer": "ipython3",
   "version": "3.12.7"
  }
 },
 "nbformat": 4,
 "nbformat_minor": 5
}
