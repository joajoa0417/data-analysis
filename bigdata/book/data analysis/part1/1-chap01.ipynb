{
 "cells": [
  {
   "cell_type": "markdown",
   "id": "3f399d0f-d56a-4c66-854f-6e456975dc99",
   "metadata": {},
   "source": [
    "### Q1 - Q7"
   ]
  },
  {
   "cell_type": "code",
   "execution_count": 65,
   "id": "eb71a158-f445-420e-9fb7-bb5422fbcf21",
   "metadata": {},
   "outputs": [],
   "source": [
    "listbox = [\"감사\", \"행복\", \"사랑\", \"성공\", \"긍정\", \"변화\", \"성장\", \"희망\"]"
   ]
  },
  {
   "cell_type": "code",
   "execution_count": 67,
   "id": "bf9a4e78-28d4-4733-bcd3-6e1a65357491",
   "metadata": {},
   "outputs": [
    {
     "data": {
      "text/plain": [
       "8"
      ]
     },
     "execution_count": 67,
     "metadata": {},
     "output_type": "execute_result"
    }
   ],
   "source": [
    "# Q1\n",
    "len(listbox)"
   ]
  },
  {
   "cell_type": "code",
   "execution_count": 69,
   "id": "c123624d-8bfc-4b48-906f-08e95265a678",
   "metadata": {},
   "outputs": [
    {
     "data": {
      "text/plain": [
       "'감사'"
      ]
     },
     "execution_count": 69,
     "metadata": {},
     "output_type": "execute_result"
    }
   ],
   "source": [
    "# Q2\n",
    "listbox[0]"
   ]
  },
  {
   "cell_type": "code",
   "execution_count": 71,
   "id": "820fa616-977e-45bb-b835-666c0e8813bd",
   "metadata": {},
   "outputs": [
    {
     "data": {
      "text/plain": [
       "'희망'"
      ]
     },
     "execution_count": 71,
     "metadata": {},
     "output_type": "execute_result"
    }
   ],
   "source": [
    "# Q3\n",
    "listbox[-1]"
   ]
  },
  {
   "cell_type": "code",
   "execution_count": 73,
   "id": "e5f20f4e-5ff1-4c00-b19f-9173c8ce2f2b",
   "metadata": {},
   "outputs": [
    {
     "data": {
      "text/plain": [
       "['감사', '행복', '사랑']"
      ]
     },
     "execution_count": 73,
     "metadata": {},
     "output_type": "execute_result"
    }
   ],
   "source": [
    "# Q4\n",
    "listbox[0:3]"
   ]
  },
  {
   "cell_type": "code",
   "execution_count": 75,
   "id": "2270b798-4787-4b00-8ebc-adad186fa969",
   "metadata": {},
   "outputs": [
    {
     "data": {
      "text/plain": [
       "'희'"
      ]
     },
     "execution_count": 75,
     "metadata": {},
     "output_type": "execute_result"
    }
   ],
   "source": [
    "# Q5\n",
    "listbox[-1][0]"
   ]
  },
  {
   "cell_type": "code",
   "execution_count": 29,
   "id": "2e812179-0129-4c16-a146-55fc27fbeb40",
   "metadata": {},
   "outputs": [
    {
     "data": {
      "text/plain": [
       "['행복', '사랑']"
      ]
     },
     "execution_count": 29,
     "metadata": {},
     "output_type": "execute_result"
    }
   ],
   "source": [
    "# Q6\n",
    "listbox[1:3]"
   ]
  },
  {
   "cell_type": "code",
   "execution_count": 33,
   "id": "71a303bc-bc5d-4ef9-b37e-28dedd7db15e",
   "metadata": {},
   "outputs": [
    {
     "data": {
      "text/plain": [
       "['감사', '행복', '사랑', '성공', '긍정', '웃음', '성장', '희망']"
      ]
     },
     "execution_count": 33,
     "metadata": {},
     "output_type": "execute_result"
    }
   ],
   "source": [
    "# Q7\n",
    "listbox[5] = '웃음'\n",
    "listbox"
   ]
  },
  {
   "cell_type": "markdown",
   "id": "8a08129e-258e-48fd-934a-7e8d8359cd18",
   "metadata": {},
   "source": [
    "### Q8"
   ]
  },
  {
   "cell_type": "code",
   "execution_count": 38,
   "id": "b7e6484b-f83c-4888-9320-a187c71c281c",
   "metadata": {},
   "outputs": [],
   "source": [
    "cols = ['name','age','phone']"
   ]
  },
  {
   "cell_type": "code",
   "execution_count": 46,
   "id": "29342773-94fb-4b2b-8641-008edbda709e",
   "metadata": {},
   "outputs": [
    {
     "name": "stdout",
     "output_type": "stream",
     "text": [
      "name\n",
      "age\n",
      "phone\n"
     ]
    }
   ],
   "source": [
    "for i in cols :\n",
    "    print(i)"
   ]
  },
  {
   "cell_type": "markdown",
   "id": "2ac47981-932e-4239-ac61-74668580e886",
   "metadata": {},
   "source": [
    "### Q9"
   ]
  },
  {
   "cell_type": "code",
   "execution_count": 48,
   "id": "12f4c3e7-9127-41b6-a86d-210d390878cf",
   "metadata": {},
   "outputs": [],
   "source": [
    "listbox = [15, 46, 78, 26, 56]"
   ]
  },
  {
   "cell_type": "code",
   "execution_count": 54,
   "id": "c460d1b9-8450-48cc-9634-ec4c0100db8a",
   "metadata": {},
   "outputs": [],
   "source": [
    "def maxmin(new_list):\n",
    "    result = max(new_list) - min(new_list)\n",
    "    return result"
   ]
  },
  {
   "cell_type": "code",
   "execution_count": 56,
   "id": "59e2f414-867b-446c-abd4-b820e4404dc0",
   "metadata": {},
   "outputs": [
    {
     "data": {
      "text/plain": [
       "63"
      ]
     },
     "execution_count": 56,
     "metadata": {},
     "output_type": "execute_result"
    }
   ],
   "source": [
    "maxmin(listbox)"
   ]
  },
  {
   "cell_type": "markdown",
   "id": "297923bb-df0a-4312-a7b0-72c9d52a8f2e",
   "metadata": {},
   "source": [
    "### Q10"
   ]
  },
  {
   "cell_type": "code",
   "execution_count": 59,
   "id": "497898be-cd09-4107-9a14-c32edf67f576",
   "metadata": {},
   "outputs": [],
   "source": [
    "str_data = \"여러분의 합격을 응원합니다!\""
   ]
  },
  {
   "cell_type": "code",
   "execution_count": 61,
   "id": "0899ef9b-fffc-4f32-baff-1687bfe6ef48",
   "metadata": {},
   "outputs": [
    {
     "data": {
      "text/plain": [
       "'당신의 합격을 응원합니다!'"
      ]
     },
     "execution_count": 61,
     "metadata": {},
     "output_type": "execute_result"
    }
   ],
   "source": [
    "str_data.replace('여러분','당신')"
   ]
  }
 ],
 "metadata": {
  "kernelspec": {
   "display_name": "Python 3 (ipykernel)",
   "language": "python",
   "name": "python3"
  },
  "language_info": {
   "codemirror_mode": {
    "name": "ipython",
    "version": 3
   },
   "file_extension": ".py",
   "mimetype": "text/x-python",
   "name": "python",
   "nbconvert_exporter": "python",
   "pygments_lexer": "ipython3",
   "version": "3.12.7"
  }
 },
 "nbformat": 4,
 "nbformat_minor": 5
}
